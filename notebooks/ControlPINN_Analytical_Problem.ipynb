{
  "nbformat": 4,
  "nbformat_minor": 0,
  "metadata": {
    "colab": {
      "name": "ControlPINN-Analytical-Problem.ipynb",
      "provenance": [],
      "collapsed_sections": [],
      "include_colab_link": true
    },
    "kernelspec": {
      "display_name": "Python 3",
      "name": "python3"
    },
    "language_info": {
      "name": "python"
    },
    "accelerator": "GPU"
  },
  "cells": [
    {
      "cell_type": "markdown",
      "metadata": {
        "id": "view-in-github",
        "colab_type": "text"
      },
      "source": [
        "<a href=\"https://colab.research.google.com/github/ComputationalScienceLaboratory/control-pinns/blob/main/notebooks/ControlPINN_Analytical_Problem.ipynb\" target=\"_parent\"><img src=\"https://colab.research.google.com/assets/colab-badge.svg\" alt=\"Open In Colab\"/></a>"
      ]
    },
    {
      "cell_type": "markdown",
      "metadata": {
        "id": "kWbcYmjCflSi"
      },
      "source": [
        "# Physics-informed neural networks for PDE-constrained optimization and control\n",
        "## Jostein Barry-Straume, Arash Sarshar, Andrey A. Popov, Adrian Sandu\n",
        "## [Computational Science Lab](https://csl.cs.vt.edu/), Department of Computer Science, Virginia Tech\n",
        "\n",
        "> Paper and Code can be found here: https://github.com/ComputationalScienceLaboratory/control-pinn\n",
        "\n",
        "> This Google Colab notebook contains the code for training a Control PINN model on an analytical open-loop optimal control problem"
      ]
    },
    {
      "cell_type": "code",
      "metadata": {
        "id": "xenAm3avsJof"
      },
      "source": [
        "'''\n",
        "Import the necessary libraries\n",
        "'''\n",
        "import os\n",
        "import math\n",
        "import numpy as np\n",
        "import pandas as pd\n",
        "import tensorflow as tf\n",
        "import matplotlib.pyplot as plt\n",
        "from tensorflow import keras\n",
        "import matplotlib.pyplot as plt\n",
        "import seaborn as sns\n",
        "from datetime import datetime\n",
        "%matplotlib inline\n",
        "os.environ['TF_CPP_MIN_LOG_LEVEL'] = '2' # Supress INFO and WARNING messages\n",
        "import warnings\n",
        "warnings.filterwarnings('ignore')"
      ],
      "execution_count": 1,
      "outputs": []
    },
    {
      "cell_type": "markdown",
      "metadata": {
        "id": "eosd4h5vUdGc"
      },
      "source": [
        "## Create Datasets for Optimal Solutions"
      ]
    },
    {
      "cell_type": "code",
      "metadata": {
        "colab": {
          "base_uri": "https://localhost:8080/"
        },
        "id": "Gv-FYEJuUh20",
        "outputId": "36246396-6eeb-47a2-f2c3-ceec246ac0c5"
      },
      "source": [
        "def y_star_fun(t):\n",
        "  return (2 * math.exp(3*t) + math.exp(3)) / (math.exp(3*t/2) * (2 + math.exp(3)))\n",
        "def u_star_fun(t):\n",
        "  return (2 * (math.exp(3*t) - math.exp(3))) / (math.exp(3*t/2) * (2 + math.exp(3)))\n",
        "def lambda_star_fun(t):\n",
        "  return -1 * u_star_fun(t)\n",
        "def g_fun(t):\n",
        "  return (y_star_fun(t) ** 2) + (0.5 * (u_star_fun(t) ** 2))\n",
        "def f_fun(t):\n",
        "  return (0.5 * y_star_fun(t)) + u_star_fun(t)\n",
        "\n",
        "timespan = np.arange(0.0, 1.001, 0.001)\n",
        "y_star = np.asarray([y_star_fun(t) for t in timespan])\n",
        "u_star = np.asarray([u_star_fun(t) for t in timespan])\n",
        "lambda_star = np.asarray([lambda_star_fun(t) for t in timespan])\n",
        "g_star = np.asarray([g_fun(t) for t in timespan])\n",
        "f_star = np.asarray([f_fun(t) for t in timespan])\n",
        "print(y_star.shape, u_star.shape, lambda_star.shape, g_star.shape, f_star.shape)"
      ],
      "execution_count": 2,
      "outputs": [
        {
          "output_type": "stream",
          "name": "stdout",
          "text": [
            "(1001,) (1001,) (1001,) (1001,) (1001,)\n"
          ]
        }
      ]
    },
    {
      "cell_type": "markdown",
      "metadata": {
        "id": "oBZqYasVNgdV"
      },
      "source": [
        "## Plot exact solutions and create datasets"
      ]
    },
    {
      "cell_type": "code",
      "metadata": {
        "colab": {
          "base_uri": "https://localhost:8080/",
          "height": 295
        },
        "id": "lus23aQNUh22",
        "outputId": "d83fb5da-8a5b-4cbb-a350-fcc1b2708f37"
      },
      "source": [
        "'''\n",
        "This is just a sanity check to make sure that the exact solutions of\n",
        "the dynamical system, the controller, and the system's resistance\n",
        "has been calculated properly \n",
        "'''\n",
        "plt.plot(timespan, y_star, label='$y^*$')\n",
        "plt.plot(timespan, u_star, label='$u^*$')\n",
        "plt.plot(timespan, lambda_star, label='$\\lambda^*$')\n",
        "plt.title('Validation Approach')\n",
        "plt.xlabel('Timespan')\n",
        "plt.ylabel('Outputs')\n",
        "plt.legend()\n",
        "plt.grid(alpha=.4, linestyle='--')"
      ],
      "execution_count": 3,
      "outputs": [
        {
          "output_type": "display_data",
          "data": {
            "text/plain": [
              "<Figure size 432x288 with 1 Axes>"
            ],
            "image/png": "[encoded data removed]"
          },
          "metadata": {
            "needs_background": "light"
          }
        }
      ]
    },
    {
      "cell_type": "code",
      "metadata": {
        "colab": {
          "base_uri": "https://localhost:8080/"
        },
        "id": "i1W-5UszMJxo",
        "outputId": "301c3609-8520-46b8-8a3b-1fa8b0a1756c"
      },
      "source": [
        "'''\n",
        "y_star, u_star, and lambda_star represent the exact solutions\n",
        "to the analytical problem.\n",
        "'''\n",
        "t_train        = timespan\n",
        "output_y_exact = y_star\n",
        "output_u_exact = u_star\n",
        "output_l_exact = lambda_star\n",
        "out_train      = (np.vstack([y_star, u_star, lambda_star])).T\n",
        "print(t_train.shape, out_train.shape)\n",
        "\n",
        "train_dataset = tf.data.Dataset.from_tensor_slices((t_train.reshape(-1,1), out_train.reshape(-1,3))).shuffle(buffer_size=1000)\n",
        "batchSize = 550\n",
        "train_dataset = train_dataset.batch(batchSize)"
      ],
      "execution_count": 4,
      "outputs": [
        {
          "output_type": "stream",
          "name": "stdout",
          "text": [
            "(1001,) (1001, 3)\n"
          ]
        }
      ]
    },
    {
      "cell_type": "markdown",
      "metadata": {
        "id": "pcRb-nH5NZQw"
      },
      "source": [
        "## Decouple w/ Sparse Data"
      ]
    },
    {
      "cell_type": "code",
      "metadata": {
        "id": "Wx5fY4TWNtoE"
      },
      "source": [
        "def y_star_fun(t):\n",
        "  return (2 * math.exp(3*t) + math.exp(3)) / (math.exp(3*t/2) * (2 + math.exp(3)))\n",
        "def u_star_fun(t):\n",
        "  return (2 * (math.exp(3*t) - math.exp(3))) / (math.exp(3*t/2) * (2 + math.exp(3)))\n",
        "def lambda_star_fun(t):\n",
        "  return -1 * u_star_fun(t)\n",
        "def g_fun(t):\n",
        "  return (y_star_fun(t) ** 2) + (0.5 * (u_star_fun(t) ** 2))\n",
        "def f_fun(t):\n",
        "  return (0.5 * y_star_fun(t)) + u_star_fun(t)"
      ],
      "execution_count": 5,
      "outputs": []
    },
    {
      "cell_type": "code",
      "metadata": {
        "colab": {
          "base_uri": "https://localhost:8080/"
        },
        "id": "sXEgk0xrp-fY",
        "outputId": "e1845ef2-c4f4-4af6-ee18-0bb597c79ddd"
      },
      "source": [
        "timespanSparse = np.arange(0.0, 1.001, 0.1)\n",
        "y_sparse = np.asarray([y_star_fun(t) for t in timespanSparse])\n",
        "u_sparse = np.asarray([u_star_fun(t) for t in timespanSparse])\n",
        "lambda_sparse = np.asarray([lambda_star_fun(t) for t in timespanSparse])\n",
        "g_sparse = np.asarray([g_fun(t) for t in timespanSparse])\n",
        "f_sparse = np.asarray([f_fun(t) for t in timespanSparse])\n",
        "print(y_sparse.shape, u_sparse.shape, lambda_sparse.shape, g_sparse.shape, f_sparse.shape)"
      ],
      "execution_count": 6,
      "outputs": [
        {
          "output_type": "stream",
          "name": "stdout",
          "text": [
            "(11,) (11,) (11,) (11,) (11,)\n"
          ]
        }
      ]
    },
    {
      "cell_type": "code",
      "metadata": {
        "colab": {
          "base_uri": "https://localhost:8080/"
        },
        "id": "ukWZEtotqjEg",
        "outputId": "03cc3ea9-03bc-4857-fe8e-7bbb6fd6dda1"
      },
      "source": [
        "t_train        = timespanSparse\n",
        "output_y_exact = y_sparse\n",
        "output_u_exact = u_sparse\n",
        "output_l_exact = lambda_sparse\n",
        "out_train      = (np.vstack([y_sparse, lambda_sparse, u_sparse])).T\n",
        "print(t_train.shape, out_train.shape)\n",
        "\n",
        "train_dataset = tf.data.Dataset.from_tensor_slices((t_train.reshape(-1,1), out_train.reshape(-1,3))).shuffle(buffer_size=1000)\n",
        "batchSize = 24\n",
        "train_dataset = train_dataset.batch(batchSize)"
      ],
      "execution_count": 7,
      "outputs": [
        {
          "output_type": "stream",
          "name": "stdout",
          "text": [
            "(11,) (11, 3)\n"
          ]
        }
      ]
    },
    {
      "cell_type": "markdown",
      "metadata": {
        "id": "26uc2NktZbab"
      },
      "source": [
        "## PINN Model Class"
      ]
    },
    {
      "cell_type": "code",
      "metadata": {
        "id": "W0Vz2TmgwxG9"
      },
      "source": [
        "class PINNModel(keras.Model):\n",
        "  def __init__(self, num_unit=100, debug=0):\n",
        "    '''\n",
        "    Initialize the model object.\n",
        "    :param num_unit: Number of nodes per layer, default is 100\n",
        "    :param debug: If zero, prints to console the values of\n",
        "                  systemPushBack, systemControl, and pdeLoss. Default is zero\n",
        "    '''\n",
        "    super(PINNModel, self).__init__()\n",
        "\n",
        "    self.num_unit = num_unit\n",
        "    self.debug = debug\n",
        "    self.u              = None\n",
        "    self.l              = None\n",
        "    self.y              = None\n",
        "    self.out            = None\n",
        "    self.f              = None\n",
        "    self.g              = None\n",
        "    self.dydxx          = None\n",
        "    self.dydt           = None\n",
        "    self.dldt           = None\n",
        "    self.dfdy           = None\n",
        "    self.dfdu           = None\n",
        "    self.dgdy           = None\n",
        "    self.dgdu           = None\n",
        "    self.pdeLoss        = None\n",
        "    self.systemPushBack = None\n",
        "    self.systemControl  = None\n",
        "\n",
        "    # Layers of the neural network\n",
        "    # https://github.com/tensorflow/tensorflow/issues/28799\n",
        "    dim = (1,)\n",
        "    dim = np.array(dim)\n",
        "    act = 'elu'\n",
        "    self.input_concat   = keras.layers.Concatenate(axis=1, name = 'input_concat')\n",
        "    self.hidden_layer_1 = keras.layers.Dense(input_shape = dim, units=self.num_unit, name='hidden1', activation=act)\n",
        "    self.hidden_layer_2 = keras.layers.Dense(units=self.num_unit, name='hidden2', activation=act)\n",
        "    self.hidden_layer_3 = keras.layers.Dense(units=self.num_unit, name='hidden3', activation=act)\n",
        "    self.hidden_layer_4 = keras.layers.Dense(units=self.num_unit, name='hidden4', activation=act)\n",
        "    self.hidden_layer_5 = keras.layers.Dense(units=self.num_unit, name='hidden5', activation=act)\n",
        "    self.hidden_layer_6 = keras.layers.Dense(units=self.num_unit, name='hidden6', activation=act)\n",
        "    self.hidden_layer_7 = keras.layers.Dense(units=self.num_unit, name='hidden7', activation=act)\n",
        "    self.hidden_layer_8 = keras.layers.Dense(units=self.num_unit, name='hidden8', activation=act)\n",
        "    self.hidden_layer_9 = keras.layers.Dense(units=self.num_unit, name='hidden9', activation=act)\n",
        "    self.hidden_layer_10 = keras.layers.Dense(units=self.num_unit, name='hidden10', activation=act)\n",
        "    self.output_u_tilde = keras.layers.Dense(1, name='output_u_tilde')\n",
        "    self.output_l_tilde = keras.layers.Dense(1, name='output_l_tilde')\n",
        "    self.output_y_tilde = keras.layers.Dense(1, name='output_y_tilde')\n",
        "    self.y_concat       = keras.layers.Concatenate(axis=1, name = 'y_concat')\n",
        "    self.l_concat       = keras.layers.Concatenate(axis=1, name = 'l_concat')\n",
        "    self.u_concat       = keras.layers.Concatenate(axis=1, name = 'u_concat')\n",
        "    self.output_concat  = keras.layers.Concatenate(axis=1,  name = 'output_concat')\n",
        "\n",
        "  def get_config(self):\n",
        "    '''\n",
        "    Returns the configuration settings of the model class\n",
        "    '''\n",
        "    cfg = super().get_config()\n",
        "    return cfg\n",
        "\n",
        "  @classmethod\n",
        "  def from_config(cls, config):\n",
        "    return cls(**config)\n",
        "\n",
        "  def call(self,t):\n",
        "    '''\n",
        "    Train the model\n",
        "\n",
        "    The parameter persistent=True is needed in order to calculate\n",
        "    multiple gradients with different derivatives, which means the\n",
        "    gradient tape needs to watch multiple tensors\n",
        "    '''\n",
        "    with tf.GradientTape(persistent=True) as tape:\n",
        "\n",
        "      tape.watch(t)\n",
        "      h1       = self.hidden_layer_1(t)\n",
        "      h2       = self.hidden_layer_2(h1)\n",
        "      h3       = self.hidden_layer_3(h2)\n",
        "      h4       = self.hidden_layer_4(h3)\n",
        "      h5       = self.hidden_layer_5(h4)\n",
        "      y        = self.output_y_tilde(h5)\n",
        "      u_input  = self.u_concat([y, h5])\n",
        "      h6       = self.hidden_layer_6(u_input)\n",
        "      h7       = self.hidden_layer_7(h6)\n",
        "      h8       = self.hidden_layer_8(h7)\n",
        "      u        = self.output_u_tilde(h8)\n",
        "      l_input  = self.l_concat([y, u, h8])\n",
        "      h9       = self.hidden_layer_9(l_input)\n",
        "      h10      = self.hidden_layer_10(h9)\n",
        "      l        = self.output_l_tilde(h10)\n",
        "      out      = self.output_concat([y, u, l])\n",
        "      f        = tf.add(tf.multiply(0.5, y), u)\n",
        "      g        = tf.add(tf.square(y), tf.multiply(0.5, tf.square(u)))\n",
        "\n",
        "      dydt = tape.gradient(y, t) # Derivative of y w.r.t. t\n",
        "      dldt = tape.gradient(l, t) # Derivative of lambda (l) w.r.t. t\n",
        "      dfdy = tape.gradient(f, y) # Derivative of f(y(t),u(t)) w.r.t. y\n",
        "      dfdu = tape.gradient(f, u) # Derivative of f(y(t),u(t)) w.r.t. u\n",
        "      dgdy = tape.gradient(g, y) # Derivative of g(y(t),u(t)) w.r.t. y\n",
        "      dgdu = tape.gradient(g, u) # Derivative of g(y(t),u(t)) w.r.t. u\n",
        "      \n",
        "      # Store various information in the model\n",
        "      self.u = u\n",
        "      self.l = l\n",
        "      self.y = y\n",
        "      self.out = out\n",
        "      self.f = f\n",
        "      self.g = g\n",
        "      self.dydt = dydt\n",
        "      self.dldt = dldt\n",
        "      self.dfdy = dfdy\n",
        "      self.dfdu = dfdu\n",
        "      self.dgdy = dgdy\n",
        "      self.dgdu = dgdu\n",
        "\n",
        "    # System state\n",
        "    pdeLoss = tf.subtract(dydt, f)\n",
        "    pdeLoss = tf.reduce_sum(tf.square(pdeLoss))\n",
        "    self.add_loss(pdeLoss)\n",
        "    self.pdeLoss = pdeLoss\n",
        "\n",
        "    # Push back of the system in response to the control\n",
        "    systemPushBack = tf.add(dldt, tf.multiply(dfdy, l))\n",
        "    systemPushBack = tf.add(systemPushBack, dgdy)\n",
        "    systemPushBack = tf.reduce_sum(tf.square(systemPushBack))\n",
        "    self.add_loss(systemPushBack)\n",
        "    self.systemPushBack = systemPushBack\n",
        "\n",
        "    # Control of the system\n",
        "    systemControl = tf.add(tf.multiply(dfdu, l), dgdu)\n",
        "    systemControl = tf.reduce_sum(tf.square(systemControl))\n",
        "    self.add_loss(systemControl)\n",
        "    self.systemControl = systemControl\n",
        "\n",
        "    # Print to console the pertinent components of the loss function\n",
        "    if (self.debug == 0):\n",
        "      print('syspushback: ', systemPushBack)\n",
        "      print('syscontrol: ', systemControl)\n",
        "      print('pdeloss: ', pdeLoss)\n",
        "\n",
        "    return out"
      ],
      "execution_count": 8,
      "outputs": []
    },
    {
      "cell_type": "markdown",
      "source": [
        "## Train on Analytical Problem"
      ],
      "metadata": {
        "id": "OZhjZpmrxhoA"
      }
    },
    {
      "cell_type": "code",
      "metadata": {
        "id": "e8el7JjkR1I3"
      },
      "source": [
        "# This was used to validate that TensorFlow's MSE does what it should\n",
        "def MSE_y_loss(y_true, y_pred):\n",
        "  return keras.losses.MSE(y_true, y_pred)\n",
        "\n",
        "model = PINNModel()\n",
        "optimizer = tf.keras.optimizers.Adam(learning_rate=1e-3)\n",
        "model.compile(optimizer = optimizer,\n",
        "              loss = keras.metrics.MSE,\n",
        "              metrics = keras.metrics.MSE)"
      ],
      "execution_count": 9,
      "outputs": []
    },
    {
      "cell_type": "code",
      "metadata": {
        "colab": {
          "base_uri": "https://localhost:8080/"
        },
        "id": "tbDUztpnf_uH",
        "outputId": "2d9fc598-e764-44d5-e3cf-1a486c43599a"
      },
      "source": [
        "# Instantiate an optimizer.\n",
        "optimizer = tf.keras.optimizers.Adam(learning_rate=1e-3)\n",
        "loss_fn = tf.keras.losses.MSE\n",
        "epochs              = 350\n",
        "model.debug         = 1\n",
        "innerIterations     = 1\n",
        "prediction_history  = []\n",
        "epoch_history       = []\n",
        "total_loss_history   = []\n",
        "timespan = np.arange(0.0, 1.001, 0.001)\n",
        "for epoch in range(epochs):\n",
        "  # Iterate over the batches of a dataset.\n",
        "  for step, (x_batch_train, y_batch_train) in enumerate(train_dataset):\n",
        "    with tf.GradientTape() as tape1:\n",
        "      out = model(tf.reshape(x_batch_train,(-1,1)))  # Logits for this minibatch\n",
        "      # Loss value for this minibatch\n",
        "      data_loss_value = tf.reduce_sum(loss_fn(y_batch_train[:,0], out[:,0]))\n",
        "      master_loss = 0\n",
        "      \n",
        "      # Add extra losses created during this forward pass:\n",
        "      pinnloss  = sum(model.losses)\n",
        "\n",
        "      for i in range(innerIterations):\n",
        "        # Subsample time\n",
        "        sampleResidualPoints = np.random.uniform(0, 1, size=batchSize*2)\n",
        "        sampleResidualPoints = tf.constant(sampleResidualPoints.reshape(-1,1))\n",
        "        out = model(sampleResidualPoints)  # Logits for this minibatch\n",
        "\n",
        "        # Add extra losses created during this forward pass:\n",
        "        pinnloss  += sum(model.losses)\n",
        "      \n",
        "      master_loss = ((pinnloss / innerIterations) / batchSize) + data_loss_value\n",
        "    \n",
        "    # Apply gradient based on labeled data\n",
        "    grads = tape1.gradient(master_loss, model.trainable_weights)\n",
        "    optimizer.apply_gradients(zip(grads, model.trainable_weights))\n",
        "\n",
        "    print(\n",
        "        f'Epoch {epoch + 1}, '\n",
        "        f'Step {step}, '\n",
        "        f'Total Loss: {data_loss_value}, '\n",
        "        f'PINN Loss: {pinnloss}, '\n",
        "    )\n",
        "  \n",
        "  epochs_to_save = [0, 100, 200, 300]\n",
        "  if (epoch in epochs_to_save):\n",
        "    epoch_history.append(epoch)\n",
        "    prediction_history.append(model.predict(timespan.reshape(-1,1)))"
      ],
      "execution_count": 10,
      "outputs": [
        {
          "output_type": "stream",
          "name": "stdout",
          "text": [
            "WARNING:tensorflow:Calling GradientTape.gradient on a persistent tape inside its context is significantly less efficient than calling it outside the context (it causes the gradient ops to be recorded on the tape, leading to increased CPU and memory usage). Only call GradientTape.gradient inside the context if you actually want to trace the gradient in order to compute higher order derivatives.\n",
            "WARNING:tensorflow:Calling GradientTape.gradient on a persistent tape inside its context is significantly less efficient than calling it outside the context (it causes the gradient ops to be recorded on the tape, leading to increased CPU and memory usage). Only call GradientTape.gradient inside the context if you actually want to trace the gradient in order to compute higher order derivatives.\n",
            "WARNING:tensorflow:Calling GradientTape.gradient on a persistent tape inside its context is significantly less efficient than calling it outside the context (it causes the gradient ops to be recorded on the tape, leading to increased CPU and memory usage). Only call GradientTape.gradient inside the context if you actually want to trace the gradient in order to compute higher order derivatives.\n",
            "WARNING:tensorflow:Calling GradientTape.gradient on a persistent tape inside its context is significantly less efficient than calling it outside the context (it causes the gradient ops to be recorded on the tape, leading to increased CPU and memory usage). Only call GradientTape.gradient inside the context if you actually want to trace the gradient in order to compute higher order derivatives.\n",
            "WARNING:tensorflow:Calling GradientTape.gradient on a persistent tape inside its context is significantly less efficient than calling it outside the context (it causes the gradient ops to be recorded on the tape, leading to increased CPU and memory usage). Only call GradientTape.gradient inside the context if you actually want to trace the gradient in order to compute higher order derivatives.\n",
            "WARNING:tensorflow:Calling GradientTape.gradient on a persistent tape inside its context is significantly less efficient than calling it outside the context (it causes the gradient ops to be recorded on the tape, leading to increased CPU and memory usage). Only call GradientTape.gradient inside the context if you actually want to trace the gradient in order to compute higher order derivatives.\n",
            "Epoch 1, Step 0, Total Loss: 0.44465371966362, PINN Loss: 0.4344691038131714, \n",
            "WARNING:tensorflow:Calling GradientTape.gradient on a persistent tape inside its context is significantly less efficient than calling it outside the context (it causes the gradient ops to be recorded on the tape, leading to increased CPU and memory usage). Only call GradientTape.gradient inside the context if you actually want to trace the gradient in order to compute higher order derivatives.\n",
            "Epoch 2, Step 0, Total Loss: 0.21296024322509766, PINN Loss: 159.01026916503906, \n",
            "Epoch 3, Step 0, Total Loss: 0.34316614270210266, PINN Loss: 9.968951225280762, \n",
            "Epoch 4, Step 0, Total Loss: 0.5116018652915955, PINN Loss: 12.439070701599121, \n",
            "Epoch 5, Step 0, Total Loss: 0.5952135324478149, PINN Loss: 28.71626091003418, \n",
            "Epoch 6, Step 0, Total Loss: 0.5873841047286987, PINN Loss: 18.417171478271484, \n",
            "Epoch 7, Step 0, Total Loss: 0.53763347864151, PINN Loss: 6.283177375793457, \n",
            "Epoch 8, Step 0, Total Loss: 0.47735005617141724, PINN Loss: 1.6290189027786255, \n",
            "Epoch 9, Step 0, Total Loss: 0.4268641471862793, PINN Loss: 4.075153350830078, \n",
            "Epoch 10, Step 0, Total Loss: 0.3980713188648224, PINN Loss: 7.439553260803223, \n",
            "Epoch 11, Step 0, Total Loss: 0.3892855644226074, PINN Loss: 7.583099842071533, \n",
            "Epoch 12, Step 0, Total Loss: 0.39330247044563293, PINN Loss: 4.890141487121582, \n",
            "Epoch 13, Step 0, Total Loss: 0.40084168314933777, PINN Loss: 2.3190042972564697, \n",
            "Epoch 14, Step 0, Total Loss: 0.4037991762161255, PINN Loss: 1.471519112586975, \n",
            "Epoch 15, Step 0, Total Loss: 0.39609527587890625, PINN Loss: 1.4559823274612427, \n",
            "Epoch 16, Step 0, Total Loss: 0.3776446282863617, PINN Loss: 2.4910519123077393, \n",
            "Epoch 17, Step 0, Total Loss: 0.3530932664871216, PINN Loss: 3.4359607696533203, \n",
            "Epoch 18, Step 0, Total Loss: 0.32845813035964966, PINN Loss: 3.8883893489837646, \n",
            "Epoch 19, Step 0, Total Loss: 0.30904465913772583, PINN Loss: 3.4751193523406982, \n",
            "Epoch 20, Step 0, Total Loss: 0.2961617410182953, PINN Loss: 2.897641658782959, \n",
            "Epoch 21, Step 0, Total Loss: 0.28881123661994934, PINN Loss: 1.7077579498291016, \n",
            "Epoch 22, Step 0, Total Loss: 0.2837182283401489, PINN Loss: 2.2738144397735596, \n",
            "Epoch 23, Step 0, Total Loss: 0.2802962064743042, PINN Loss: 3.1640360355377197, \n",
            "Epoch 24, Step 0, Total Loss: 0.27710044384002686, PINN Loss: 3.9141080379486084, \n",
            "Epoch 25, Step 0, Total Loss: 0.27367424964904785, PINN Loss: 3.4757204055786133, \n",
            "Epoch 26, Step 0, Total Loss: 0.26960065960884094, PINN Loss: 3.604947566986084, \n",
            "Epoch 27, Step 0, Total Loss: 0.2667250633239746, PINN Loss: 2.3378100395202637, \n",
            "Epoch 28, Step 0, Total Loss: 0.2649821639060974, PINN Loss: 2.790787696838379, \n",
            "Epoch 29, Step 0, Total Loss: 0.26728734374046326, PINN Loss: 2.0887856483459473, \n",
            "Epoch 30, Step 0, Total Loss: 0.27216365933418274, PINN Loss: 2.129432201385498, \n",
            "Epoch 31, Step 0, Total Loss: 0.27954819798469543, PINN Loss: 1.5922491550445557, \n",
            "Epoch 32, Step 0, Total Loss: 0.286485880613327, PINN Loss: 1.6558374166488647, \n",
            "Epoch 33, Step 0, Total Loss: 0.2910629212856293, PINN Loss: 1.5233373641967773, \n",
            "Epoch 34, Step 0, Total Loss: 0.29102233052253723, PINN Loss: 1.5223159790039062, \n",
            "Epoch 35, Step 0, Total Loss: 0.2871732711791992, PINN Loss: 1.271976113319397, \n",
            "Epoch 36, Step 0, Total Loss: 0.2803175449371338, PINN Loss: 1.100166916847229, \n",
            "Epoch 37, Step 0, Total Loss: 0.27230262756347656, PINN Loss: 1.5837095975875854, \n",
            "Epoch 38, Step 0, Total Loss: 0.2672025263309479, PINN Loss: 1.5567126274108887, \n",
            "Epoch 39, Step 0, Total Loss: 0.26499736309051514, PINN Loss: 1.3154487609863281, \n",
            "Epoch 40, Step 0, Total Loss: 0.2641526460647583, PINN Loss: 1.3851114511489868, \n",
            "Epoch 41, Step 0, Total Loss: 0.26398181915283203, PINN Loss: 1.1664767265319824, \n",
            "Epoch 42, Step 0, Total Loss: 0.2621442675590515, PINN Loss: 1.2988471984863281, \n",
            "Epoch 43, Step 0, Total Loss: 0.2581900358200073, PINN Loss: 1.287990927696228, \n",
            "Epoch 44, Step 0, Total Loss: 0.2520018517971039, PINN Loss: 0.9669649004936218, \n",
            "Epoch 45, Step 0, Total Loss: 0.24348324537277222, PINN Loss: 1.1980383396148682, \n",
            "Epoch 46, Step 0, Total Loss: 0.23523850739002228, PINN Loss: 1.3704067468643188, \n",
            "Epoch 47, Step 0, Total Loss: 0.22914700210094452, PINN Loss: 1.2593655586242676, \n",
            "Epoch 48, Step 0, Total Loss: 0.22471092641353607, PINN Loss: 1.5205402374267578, \n",
            "Epoch 49, Step 0, Total Loss: 0.22197383642196655, PINN Loss: 1.30271577835083, \n",
            "Epoch 50, Step 0, Total Loss: 0.21767167747020721, PINN Loss: 1.3133015632629395, \n",
            "Epoch 51, Step 0, Total Loss: 0.21123002469539642, PINN Loss: 1.2391232252120972, \n",
            "Epoch 52, Step 0, Total Loss: 0.20296305418014526, PINN Loss: 0.9452345371246338, \n",
            "Epoch 53, Step 0, Total Loss: 0.19346681237220764, PINN Loss: 1.3073246479034424, \n",
            "Epoch 54, Step 0, Total Loss: 0.18586157262325287, PINN Loss: 1.371024489402771, \n",
            "Epoch 55, Step 0, Total Loss: 0.18040122091770172, PINN Loss: 1.1149258613586426, \n",
            "Epoch 56, Step 0, Total Loss: 0.17502941191196442, PINN Loss: 1.2129721641540527, \n",
            "Epoch 57, Step 0, Total Loss: 0.16811850666999817, PINN Loss: 1.1814934015274048, \n",
            "Epoch 58, Step 0, Total Loss: 0.15827813744544983, PINN Loss: 1.6711161136627197, \n",
            "Epoch 59, Step 0, Total Loss: 0.1475827544927597, PINN Loss: 1.522601842880249, \n",
            "Epoch 60, Step 0, Total Loss: 0.13768400251865387, PINN Loss: 1.6515380144119263, \n",
            "Epoch 61, Step 0, Total Loss: 0.13046489655971527, PINN Loss: 1.9513232707977295, \n",
            "Epoch 62, Step 0, Total Loss: 0.12554121017456055, PINN Loss: 1.709576964378357, \n",
            "Epoch 63, Step 0, Total Loss: 0.1191563531756401, PINN Loss: 1.9655263423919678, \n",
            "Epoch 64, Step 0, Total Loss: 0.11064496636390686, PINN Loss: 2.006136178970337, \n",
            "Epoch 65, Step 0, Total Loss: 0.10277505218982697, PINN Loss: 2.0345005989074707, \n",
            "Epoch 66, Step 0, Total Loss: 0.09729447215795517, PINN Loss: 2.196164131164551, \n",
            "Epoch 67, Step 0, Total Loss: 0.09283450245857239, PINN Loss: 1.692681908607483, \n",
            "Epoch 68, Step 0, Total Loss: 0.08530174940824509, PINN Loss: 2.447869062423706, \n",
            "Epoch 69, Step 0, Total Loss: 0.07904544472694397, PINN Loss: 2.767385959625244, \n",
            "Epoch 70, Step 0, Total Loss: 0.07581247389316559, PINN Loss: 3.6892542839050293, \n",
            "Epoch 71, Step 0, Total Loss: 0.07511431723833084, PINN Loss: 2.919445753097534, \n",
            "Epoch 72, Step 0, Total Loss: 0.0706469938158989, PINN Loss: 3.391997814178467, \n",
            "Epoch 73, Step 0, Total Loss: 0.06708968430757523, PINN Loss: 2.6861395835876465, \n",
            "Epoch 74, Step 0, Total Loss: 0.06808824092149734, PINN Loss: 2.671772003173828, \n",
            "Epoch 75, Step 0, Total Loss: 0.07130879163742065, PINN Loss: 2.7664871215820312, \n",
            "Epoch 76, Step 0, Total Loss: 0.07066234946250916, PINN Loss: 2.1242294311523438, \n",
            "Epoch 77, Step 0, Total Loss: 0.06829681992530823, PINN Loss: 3.15228533744812, \n",
            "Epoch 78, Step 0, Total Loss: 0.07155173271894455, PINN Loss: 2.5709214210510254, \n",
            "Epoch 79, Step 0, Total Loss: 0.07451336830854416, PINN Loss: 2.613535165786743, \n",
            "Epoch 80, Step 0, Total Loss: 0.07317759841680527, PINN Loss: 2.7097771167755127, \n",
            "Epoch 81, Step 0, Total Loss: 0.07364556193351746, PINN Loss: 2.6137490272521973, \n",
            "Epoch 82, Step 0, Total Loss: 0.07816051691770554, PINN Loss: 2.116844654083252, \n",
            "Epoch 83, Step 0, Total Loss: 0.0806175172328949, PINN Loss: 2.3850631713867188, \n",
            "Epoch 84, Step 0, Total Loss: 0.07758951932191849, PINN Loss: 2.089289665222168, \n",
            "Epoch 85, Step 0, Total Loss: 0.07889146357774734, PINN Loss: 2.5766797065734863, \n",
            "Epoch 86, Step 0, Total Loss: 0.08571114391088486, PINN Loss: 2.1284339427948, \n",
            "Epoch 87, Step 0, Total Loss: 0.08475188910961151, PINN Loss: 2.4255077838897705, \n",
            "Epoch 88, Step 0, Total Loss: 0.08037840574979782, PINN Loss: 2.21329665184021, \n",
            "Epoch 89, Step 0, Total Loss: 0.08348677307367325, PINN Loss: 1.5896310806274414, \n",
            "Epoch 90, Step 0, Total Loss: 0.08749568462371826, PINN Loss: 1.7831192016601562, \n",
            "Epoch 91, Step 0, Total Loss: 0.08415333181619644, PINN Loss: 1.6560159921646118, \n",
            "Epoch 92, Step 0, Total Loss: 0.08126147091388702, PINN Loss: 1.9523123502731323, \n",
            "Epoch 93, Step 0, Total Loss: 0.08417289704084396, PINN Loss: 1.796836018562317, \n",
            "Epoch 94, Step 0, Total Loss: 0.08260181546211243, PINN Loss: 2.0032577514648438, \n",
            "Epoch 95, Step 0, Total Loss: 0.07840482890605927, PINN Loss: 1.7357779741287231, \n",
            "Epoch 96, Step 0, Total Loss: 0.07622625678777695, PINN Loss: 2.443143844604492, \n",
            "Epoch 97, Step 0, Total Loss: 0.07980075478553772, PINN Loss: 1.9770814180374146, \n",
            "Epoch 98, Step 0, Total Loss: 0.07637408375740051, PINN Loss: 1.9323112964630127, \n",
            "Epoch 99, Step 0, Total Loss: 0.0737241581082344, PINN Loss: 2.109170436859131, \n",
            "Epoch 100, Step 0, Total Loss: 0.0776430070400238, PINN Loss: 1.9153954982757568, \n",
            "Epoch 101, Step 0, Total Loss: 0.07597214728593826, PINN Loss: 1.8293354511260986, \n",
            "Epoch 102, Step 0, Total Loss: 0.0702664852142334, PINN Loss: 1.8963316679000854, \n",
            "Epoch 103, Step 0, Total Loss: 0.07366874814033508, PINN Loss: 1.7743462324142456, \n",
            "Epoch 104, Step 0, Total Loss: 0.07390419393777847, PINN Loss: 1.6927119493484497, \n",
            "Epoch 105, Step 0, Total Loss: 0.0660342276096344, PINN Loss: 2.2971606254577637, \n",
            "Epoch 106, Step 0, Total Loss: 0.07228473573923111, PINN Loss: 2.000537157058716, \n",
            "Epoch 107, Step 0, Total Loss: 0.0711899921298027, PINN Loss: 1.8392283916473389, \n",
            "Epoch 108, Step 0, Total Loss: 0.06214173138141632, PINN Loss: 2.710958957672119, \n",
            "Epoch 109, Step 0, Total Loss: 0.07130526751279831, PINN Loss: 2.2263357639312744, \n",
            "Epoch 110, Step 0, Total Loss: 0.06376809626817703, PINN Loss: 1.4316295385360718, \n",
            "Epoch 111, Step 0, Total Loss: 0.0575123205780983, PINN Loss: 2.5074775218963623, \n",
            "Epoch 112, Step 0, Total Loss: 0.06799938529729843, PINN Loss: 2.6166274547576904, \n",
            "Epoch 113, Step 0, Total Loss: 0.05671670287847519, PINN Loss: 2.2831854820251465, \n",
            "Epoch 114, Step 0, Total Loss: 0.058207497000694275, PINN Loss: 1.8493064641952515, \n",
            "Epoch 115, Step 0, Total Loss: 0.06447573006153107, PINN Loss: 2.2093615531921387, \n",
            "Epoch 116, Step 0, Total Loss: 0.05768462270498276, PINN Loss: 1.9642326831817627, \n",
            "Epoch 117, Step 0, Total Loss: 0.058104049414396286, PINN Loss: 1.4814276695251465, \n",
            "Epoch 118, Step 0, Total Loss: 0.06157271936535835, PINN Loss: 1.5629013776779175, \n",
            "Epoch 119, Step 0, Total Loss: 0.05580032989382744, PINN Loss: 2.139721155166626, \n",
            "Epoch 120, Step 0, Total Loss: 0.06315968930721283, PINN Loss: 1.8361607789993286, \n",
            "Epoch 121, Step 0, Total Loss: 0.0574655644595623, PINN Loss: 2.1810057163238525, \n",
            "Epoch 122, Step 0, Total Loss: 0.0620403066277504, PINN Loss: 1.5444778203964233, \n",
            "Epoch 123, Step 0, Total Loss: 0.05675860494375229, PINN Loss: 1.6405220031738281, \n",
            "Epoch 124, Step 0, Total Loss: 0.0593523271381855, PINN Loss: 1.4116524457931519, \n",
            "Epoch 125, Step 0, Total Loss: 0.056292545050382614, PINN Loss: 1.5490386486053467, \n",
            "Epoch 126, Step 0, Total Loss: 0.053084004670381546, PINN Loss: 1.7473933696746826, \n",
            "Epoch 127, Step 0, Total Loss: 0.058689702302217484, PINN Loss: 1.9097933769226074, \n",
            "Epoch 128, Step 0, Total Loss: 0.04654104635119438, PINN Loss: 2.828061103820801, \n",
            "Epoch 129, Step 0, Total Loss: 0.0628758892416954, PINN Loss: 3.2732372283935547, \n",
            "Epoch 130, Step 0, Total Loss: 0.04127580672502518, PINN Loss: 4.995031356811523, \n",
            "Epoch 131, Step 0, Total Loss: 0.06574767082929611, PINN Loss: 4.1249566078186035, \n",
            "Epoch 132, Step 0, Total Loss: 0.04997999593615532, PINN Loss: 1.679866909980774, \n",
            "Epoch 133, Step 0, Total Loss: 0.04590345546603203, PINN Loss: 2.672868490219116, \n",
            "Epoch 134, Step 0, Total Loss: 0.06371433287858963, PINN Loss: 2.8799800872802734, \n",
            "Epoch 135, Step 0, Total Loss: 0.05328069627285004, PINN Loss: 1.5406954288482666, \n",
            "Epoch 136, Step 0, Total Loss: 0.044869109988212585, PINN Loss: 3.4195237159729004, \n",
            "Epoch 137, Step 0, Total Loss: 0.059479475021362305, PINN Loss: 1.6934887170791626, \n",
            "Epoch 138, Step 0, Total Loss: 0.0555226169526577, PINN Loss: 1.4359337091445923, \n",
            "Epoch 139, Step 0, Total Loss: 0.04692608490586281, PINN Loss: 2.3269383907318115, \n",
            "Epoch 140, Step 0, Total Loss: 0.05389498546719551, PINN Loss: 1.320185899734497, \n",
            "Epoch 141, Step 0, Total Loss: 0.05753042548894882, PINN Loss: 1.8283774852752686, \n",
            "Epoch 142, Step 0, Total Loss: 0.04918736219406128, PINN Loss: 1.8838039636611938, \n",
            "Epoch 143, Step 0, Total Loss: 0.05144220590591431, PINN Loss: 1.442659616470337, \n",
            "Epoch 144, Step 0, Total Loss: 0.05885014683008194, PINN Loss: 1.4808562994003296, \n",
            "Epoch 145, Step 0, Total Loss: 0.05423060432076454, PINN Loss: 1.3447203636169434, \n",
            "Epoch 146, Step 0, Total Loss: 0.05205744132399559, PINN Loss: 1.3694322109222412, \n",
            "Epoch 147, Step 0, Total Loss: 0.05759349837899208, PINN Loss: 1.1724822521209717, \n",
            "Epoch 148, Step 0, Total Loss: 0.0554601214826107, PINN Loss: 1.3890303373336792, \n",
            "Epoch 149, Step 0, Total Loss: 0.051372166723012924, PINN Loss: 1.3615050315856934, \n",
            "Epoch 150, Step 0, Total Loss: 0.05183244124054909, PINN Loss: 1.1488702297210693, \n",
            "Epoch 151, Step 0, Total Loss: 0.04898758977651596, PINN Loss: 0.9943679571151733, \n",
            "Epoch 152, Step 0, Total Loss: 0.04343229904770851, PINN Loss: 1.8782364130020142, \n",
            "Epoch 153, Step 0, Total Loss: 0.04646088182926178, PINN Loss: 1.4473650455474854, \n",
            "Epoch 154, Step 0, Total Loss: 0.038332805037498474, PINN Loss: 1.662300944328308, \n",
            "Epoch 155, Step 0, Total Loss: 0.03645559772849083, PINN Loss: 1.343624234199524, \n",
            "Epoch 156, Step 0, Total Loss: 0.037745170295238495, PINN Loss: 1.5703054666519165, \n",
            "Epoch 157, Step 0, Total Loss: 0.03418424353003502, PINN Loss: 2.1504058837890625, \n",
            "Epoch 158, Step 0, Total Loss: 0.03929198160767555, PINN Loss: 1.45448637008667, \n",
            "Epoch 159, Step 0, Total Loss: 0.03453439474105835, PINN Loss: 1.9709103107452393, \n",
            "Epoch 160, Step 0, Total Loss: 0.04094421863555908, PINN Loss: 1.3553131818771362, \n",
            "Epoch 161, Step 0, Total Loss: 0.04006153345108032, PINN Loss: 1.1742777824401855, \n",
            "Epoch 162, Step 0, Total Loss: 0.03713095188140869, PINN Loss: 1.3195619583129883, \n",
            "Epoch 163, Step 0, Total Loss: 0.04198682680726051, PINN Loss: 1.176790714263916, \n",
            "Epoch 164, Step 0, Total Loss: 0.038228780031204224, PINN Loss: 1.0494780540466309, \n",
            "Epoch 165, Step 0, Total Loss: 0.035473451018333435, PINN Loss: 1.124639868736267, \n",
            "Epoch 166, Step 0, Total Loss: 0.03925088793039322, PINN Loss: 1.1535398960113525, \n",
            "Epoch 167, Step 0, Total Loss: 0.029208092018961906, PINN Loss: 2.1627755165100098, \n",
            "Epoch 168, Step 0, Total Loss: 0.036504730582237244, PINN Loss: 1.598140835762024, \n",
            "Epoch 169, Step 0, Total Loss: 0.02575421892106533, PINN Loss: 1.3298718929290771, \n",
            "Epoch 170, Step 0, Total Loss: 0.027071909978985786, PINN Loss: 1.384369134902954, \n",
            "Epoch 171, Step 0, Total Loss: 0.02899463102221489, PINN Loss: 1.3513301610946655, \n",
            "Epoch 172, Step 0, Total Loss: 0.01911400631070137, PINN Loss: 2.96598744392395, \n",
            "Epoch 173, Step 0, Total Loss: 0.03136114776134491, PINN Loss: 2.912872552871704, \n",
            "Epoch 174, Step 0, Total Loss: 0.020073937252163887, PINN Loss: 2.0892436504364014, \n",
            "Epoch 175, Step 0, Total Loss: 0.026394790038466454, PINN Loss: 1.4157485961914062, \n",
            "Epoch 176, Step 0, Total Loss: 0.028005044907331467, PINN Loss: 1.3370517492294312, \n",
            "Epoch 177, Step 0, Total Loss: 0.024332670494914055, PINN Loss: 1.6590890884399414, \n",
            "Epoch 178, Step 0, Total Loss: 0.037321481853723526, PINN Loss: 1.545993447303772, \n",
            "Epoch 179, Step 0, Total Loss: 0.028889071196317673, PINN Loss: 1.2491800785064697, \n",
            "Epoch 180, Step 0, Total Loss: 0.034209784120321274, PINN Loss: 0.8695295453071594, \n",
            "Epoch 181, Step 0, Total Loss: 0.039647117257118225, PINN Loss: 1.132723331451416, \n",
            "Epoch 182, Step 0, Total Loss: 0.024415094405412674, PINN Loss: 2.817262649536133, \n",
            "Epoch 183, Step 0, Total Loss: 0.038571443408727646, PINN Loss: 2.5553669929504395, \n",
            "Epoch 184, Step 0, Total Loss: 0.02409004047513008, PINN Loss: 1.3887238502502441, \n",
            "Epoch 185, Step 0, Total Loss: 0.02579193003475666, PINN Loss: 0.6394931077957153, \n",
            "Epoch 186, Step 0, Total Loss: 0.028201522305607796, PINN Loss: 1.0980688333511353, \n",
            "Epoch 187, Step 0, Total Loss: 0.019455650821328163, PINN Loss: 1.533347487449646, \n",
            "Epoch 188, Step 0, Total Loss: 0.02423245459794998, PINN Loss: 1.1145329475402832, \n",
            "Epoch 189, Step 0, Total Loss: 0.02222469449043274, PINN Loss: 0.9496665596961975, \n",
            "Epoch 190, Step 0, Total Loss: 0.019019316881895065, PINN Loss: 0.9998317360877991, \n",
            "Epoch 191, Step 0, Total Loss: 0.024444997310638428, PINN Loss: 0.8011947870254517, \n",
            "Epoch 192, Step 0, Total Loss: 0.021986685693264008, PINN Loss: 0.7999929189682007, \n",
            "Epoch 193, Step 0, Total Loss: 0.02311999909579754, PINN Loss: 0.6869449615478516, \n",
            "Epoch 194, Step 0, Total Loss: 0.025029845535755157, PINN Loss: 0.7163179516792297, \n",
            "Epoch 195, Step 0, Total Loss: 0.018186921253800392, PINN Loss: 1.5631176233291626, \n",
            "Epoch 196, Step 0, Total Loss: 0.027275102213025093, PINN Loss: 1.7276265621185303, \n",
            "Epoch 197, Step 0, Total Loss: 0.01465705968439579, PINN Loss: 1.7713550329208374, \n",
            "Epoch 198, Step 0, Total Loss: 0.01988394744694233, PINN Loss: 0.8085805177688599, \n",
            "Epoch 199, Step 0, Total Loss: 0.01668177731335163, PINN Loss: 0.8206369876861572, \n",
            "Epoch 200, Step 0, Total Loss: 0.013186965137720108, PINN Loss: 0.7804284691810608, \n",
            "Epoch 201, Step 0, Total Loss: 0.015544438734650612, PINN Loss: 0.8291358947753906, \n",
            "Epoch 202, Step 0, Total Loss: 0.012746377848088741, PINN Loss: 0.9886792898178101, \n",
            "Epoch 203, Step 0, Total Loss: 0.0157195832580328, PINN Loss: 0.6521100997924805, \n",
            "Epoch 204, Step 0, Total Loss: 0.012835518456995487, PINN Loss: 0.8428187370300293, \n",
            "Epoch 205, Step 0, Total Loss: 0.018212975934147835, PINN Loss: 0.7393949627876282, \n",
            "Epoch 206, Step 0, Total Loss: 0.0141605818644166, PINN Loss: 0.7057777643203735, \n",
            "Epoch 207, Step 0, Total Loss: 0.018807468935847282, PINN Loss: 0.49306631088256836, \n",
            "Epoch 208, Step 0, Total Loss: 0.01619105413556099, PINN Loss: 0.4560965895652771, \n",
            "Epoch 209, Step 0, Total Loss: 0.016723008826375008, PINN Loss: 0.379855751991272, \n",
            "Epoch 210, Step 0, Total Loss: 0.015440145507454872, PINN Loss: 0.4551604986190796, \n",
            "Epoch 211, Step 0, Total Loss: 0.014061656780540943, PINN Loss: 0.4090498089790344, \n",
            "Epoch 212, Step 0, Total Loss: 0.012387311086058617, PINN Loss: 0.31647413969039917, \n",
            "Epoch 213, Step 0, Total Loss: 0.010425782762467861, PINN Loss: 0.3963558077812195, \n",
            "Epoch 214, Step 0, Total Loss: 0.011236638762056828, PINN Loss: 0.43513038754463196, \n",
            "Epoch 215, Step 0, Total Loss: 0.00705266697332263, PINN Loss: 1.0184876918792725, \n",
            "Epoch 216, Step 0, Total Loss: 0.01683337800204754, PINN Loss: 2.5676090717315674, \n",
            "Epoch 217, Step 0, Total Loss: 0.0029130654875189066, PINN Loss: 8.332706451416016, \n",
            "Epoch 218, Step 0, Total Loss: 0.03408559039235115, PINN Loss: 15.780488014221191, \n",
            "Epoch 219, Step 0, Total Loss: 0.00294244522228837, PINN Loss: 16.387447357177734, \n",
            "Epoch 220, Step 0, Total Loss: 0.018387844786047935, PINN Loss: 0.7773353457450867, \n",
            "Epoch 221, Step 0, Total Loss: 0.03704690933227539, PINN Loss: 8.553205490112305, \n",
            "Epoch 222, Step 0, Total Loss: 0.012497028335928917, PINN Loss: 3.318486213684082, \n",
            "Epoch 223, Step 0, Total Loss: 0.012487659230828285, PINN Loss: 5.3348565101623535, \n",
            "Epoch 224, Step 0, Total Loss: 0.031622886657714844, PINN Loss: 3.056511878967285, \n",
            "Epoch 225, Step 0, Total Loss: 0.039085112512111664, PINN Loss: 2.7380993366241455, \n",
            "Epoch 226, Step 0, Total Loss: 0.02786565013229847, PINN Loss: 2.0253255367279053, \n",
            "Epoch 227, Step 0, Total Loss: 0.024955863133072853, PINN Loss: 3.0571112632751465, \n",
            "Epoch 228, Step 0, Total Loss: 0.031230801716446877, PINN Loss: 1.3222980499267578, \n",
            "Epoch 229, Step 0, Total Loss: 0.03775341808795929, PINN Loss: 2.848175048828125, \n",
            "Epoch 230, Step 0, Total Loss: 0.03645794466137886, PINN Loss: 0.6040082573890686, \n",
            "Epoch 231, Step 0, Total Loss: 0.03307781741023064, PINN Loss: 2.533522605895996, \n",
            "Epoch 232, Step 0, Total Loss: 0.032681528478860855, PINN Loss: 0.6359655857086182, \n",
            "Epoch 233, Step 0, Total Loss: 0.03365810215473175, PINN Loss: 1.756507158279419, \n",
            "Epoch 234, Step 0, Total Loss: 0.03178931772708893, PINN Loss: 1.219870686531067, \n",
            "Epoch 235, Step 0, Total Loss: 0.02943655289709568, PINN Loss: 1.0774260759353638, \n",
            "Epoch 236, Step 0, Total Loss: 0.030527591705322266, PINN Loss: 1.568700909614563, \n",
            "Epoch 237, Step 0, Total Loss: 0.03422616422176361, PINN Loss: 0.45269232988357544, \n",
            "Epoch 238, Step 0, Total Loss: 0.03571492061018944, PINN Loss: 1.1236557960510254, \n",
            "Epoch 239, Step 0, Total Loss: 0.03314342722296715, PINN Loss: 0.6042345762252808, \n",
            "Epoch 240, Step 0, Total Loss: 0.029357753694057465, PINN Loss: 0.7890797853469849, \n",
            "Epoch 241, Step 0, Total Loss: 0.028673080727458, PINN Loss: 1.0407805442810059, \n",
            "Epoch 242, Step 0, Total Loss: 0.030585559085011482, PINN Loss: 0.35449764132499695, \n",
            "Epoch 243, Step 0, Total Loss: 0.030873624607920647, PINN Loss: 0.92384934425354, \n",
            "Epoch 244, Step 0, Total Loss: 0.027071045711636543, PINN Loss: 0.6048797965049744, \n",
            "Epoch 245, Step 0, Total Loss: 0.022266482934355736, PINN Loss: 0.7599502205848694, \n",
            "Epoch 246, Step 0, Total Loss: 0.020662888884544373, PINN Loss: 0.9234614968299866, \n",
            "Epoch 247, Step 0, Total Loss: 0.02207636833190918, PINN Loss: 0.379405677318573, \n",
            "Epoch 248, Step 0, Total Loss: 0.02318284660577774, PINN Loss: 0.6813286542892456, \n",
            "Epoch 249, Step 0, Total Loss: 0.021157383918762207, PINN Loss: 0.4355379343032837, \n",
            "Epoch 250, Step 0, Total Loss: 0.018407512456178665, PINN Loss: 0.5789767503738403, \n",
            "Epoch 251, Step 0, Total Loss: 0.01735965721309185, PINN Loss: 0.5129067897796631, \n",
            "Epoch 252, Step 0, Total Loss: 0.017660878598690033, PINN Loss: 0.3578825891017914, \n",
            "Epoch 253, Step 0, Total Loss: 0.017430495470762253, PINN Loss: 0.5149842500686646, \n",
            "Epoch 254, Step 0, Total Loss: 0.015448886901140213, PINN Loss: 0.4119100570678711, \n",
            "Epoch 255, Step 0, Total Loss: 0.013913092203438282, PINN Loss: 0.4041789770126343, \n",
            "Epoch 256, Step 0, Total Loss: 0.013745930045843124, PINN Loss: 0.3520684242248535, \n",
            "Epoch 257, Step 0, Total Loss: 0.014219692908227444, PINN Loss: 0.33818483352661133, \n",
            "Epoch 258, Step 0, Total Loss: 0.013376032933592796, PINN Loss: 0.4530842900276184, \n",
            "Epoch 259, Step 0, Total Loss: 0.011715207248926163, PINN Loss: 0.3900972604751587, \n",
            "Epoch 260, Step 0, Total Loss: 0.01076248288154602, PINN Loss: 0.3807331919670105, \n",
            "Epoch 261, Step 0, Total Loss: 0.011101759970188141, PINN Loss: 0.24994081258773804, \n",
            "Epoch 262, Step 0, Total Loss: 0.011084777303040028, PINN Loss: 0.2703714072704315, \n",
            "Epoch 263, Step 0, Total Loss: 0.009913604706525803, PINN Loss: 0.2167482227087021, \n",
            "Epoch 264, Step 0, Total Loss: 0.008530350401997566, PINN Loss: 0.26318347454071045, \n",
            "Epoch 265, Step 0, Total Loss: 0.008181079290807247, PINN Loss: 0.2944248914718628, \n",
            "Epoch 266, Step 0, Total Loss: 0.008416878990828991, PINN Loss: 0.228379026055336, \n",
            "Epoch 267, Step 0, Total Loss: 0.007853031158447266, PINN Loss: 0.20116044580936432, \n",
            "Epoch 268, Step 0, Total Loss: 0.0069926124997437, PINN Loss: 0.20243269205093384, \n",
            "Epoch 269, Step 0, Total Loss: 0.006504513323307037, PINN Loss: 0.16933025419712067, \n",
            "Epoch 270, Step 0, Total Loss: 0.006215221714228392, PINN Loss: 0.2257215827703476, \n",
            "Epoch 271, Step 0, Total Loss: 0.005625642370432615, PINN Loss: 0.19591787457466125, \n",
            "Epoch 272, Step 0, Total Loss: 0.005295969545841217, PINN Loss: 0.14868700504302979, \n",
            "Epoch 273, Step 0, Total Loss: 0.005224334076046944, PINN Loss: 0.13253594934940338, \n",
            "Epoch 274, Step 0, Total Loss: 0.004964764695614576, PINN Loss: 0.12408450245857239, \n",
            "Epoch 275, Step 0, Total Loss: 0.004354966804385185, PINN Loss: 0.13539275527000427, \n",
            "Epoch 276, Step 0, Total Loss: 0.0038505441043525934, PINN Loss: 0.11656685173511505, \n",
            "Epoch 277, Step 0, Total Loss: 0.003329944796860218, PINN Loss: 0.09643872082233429, \n",
            "Epoch 278, Step 0, Total Loss: 0.002694862661883235, PINN Loss: 0.11811093986034393, \n",
            "Epoch 279, Step 0, Total Loss: 0.002409423002973199, PINN Loss: 0.14771413803100586, \n",
            "Epoch 280, Step 0, Total Loss: 0.0021872518118470907, PINN Loss: 0.16788622736930847, \n",
            "Epoch 281, Step 0, Total Loss: 0.0017853789031505585, PINN Loss: 0.1307561695575714, \n",
            "Epoch 282, Step 0, Total Loss: 0.001558889402076602, PINN Loss: 0.1294621378183365, \n",
            "Epoch 283, Step 0, Total Loss: 0.0017413183813914657, PINN Loss: 0.07345578074455261, \n",
            "Epoch 284, Step 0, Total Loss: 0.0018067836062982678, PINN Loss: 0.1123921126127243, \n",
            "Epoch 285, Step 0, Total Loss: 0.0015951843233779073, PINN Loss: 0.09644974768161774, \n",
            "Epoch 286, Step 0, Total Loss: 0.001258095377124846, PINN Loss: 0.12031621485948563, \n",
            "Epoch 287, Step 0, Total Loss: 0.0013806149363517761, PINN Loss: 0.09679831564426422, \n",
            "Epoch 288, Step 0, Total Loss: 0.0013307647313922644, PINN Loss: 0.1042112186551094, \n",
            "Epoch 289, Step 0, Total Loss: 0.0008646170026622713, PINN Loss: 0.09018028527498245, \n",
            "Epoch 290, Step 0, Total Loss: 0.0007014790317043662, PINN Loss: 0.09300429373979568, \n",
            "Epoch 291, Step 0, Total Loss: 0.0006723227561451495, PINN Loss: 0.08807587623596191, \n",
            "Epoch 292, Step 0, Total Loss: 0.00048528844490647316, PINN Loss: 0.07710113376379013, \n",
            "Epoch 293, Step 0, Total Loss: 0.00034928033710457385, PINN Loss: 0.13387542963027954, \n",
            "Epoch 294, Step 0, Total Loss: 0.000445971149019897, PINN Loss: 0.10994347929954529, \n",
            "Epoch 295, Step 0, Total Loss: 0.00043290460598655045, PINN Loss: 0.090413898229599, \n",
            "Epoch 296, Step 0, Total Loss: 0.0003036009147763252, PINN Loss: 0.14025220274925232, \n",
            "Epoch 297, Step 0, Total Loss: 0.0005566574982367456, PINN Loss: 0.08155105262994766, \n",
            "Epoch 298, Step 0, Total Loss: 0.0006394259980879724, PINN Loss: 0.06788241118192673, \n",
            "Epoch 299, Step 0, Total Loss: 0.0004319413274060935, PINN Loss: 0.07396764308214188, \n",
            "Epoch 300, Step 0, Total Loss: 0.0004046061949338764, PINN Loss: 0.0645662397146225, \n",
            "Epoch 301, Step 0, Total Loss: 0.00034119377960450947, PINN Loss: 0.06897114962339401, \n",
            "Epoch 302, Step 0, Total Loss: 0.0001386651274515316, PINN Loss: 0.08005181699991226, \n",
            "Epoch 303, Step 0, Total Loss: 0.00011917995288968086, PINN Loss: 0.06249701604247093, \n",
            "Epoch 304, Step 0, Total Loss: 7.01893659424968e-05, PINN Loss: 0.07021839171648026, \n",
            "Epoch 305, Step 0, Total Loss: 3.2230505894403905e-05, PINN Loss: 0.08754716068506241, \n",
            "Epoch 306, Step 0, Total Loss: 4.5623477490153164e-05, PINN Loss: 0.06969930231571198, \n",
            "Epoch 307, Step 0, Total Loss: 4.580970562528819e-05, PINN Loss: 0.07259900867938995, \n",
            "Epoch 308, Step 0, Total Loss: 3.838531847577542e-05, PINN Loss: 0.06186012923717499, \n",
            "Epoch 309, Step 0, Total Loss: 5.83760702284053e-05, PINN Loss: 0.0643911212682724, \n",
            "Epoch 310, Step 0, Total Loss: 7.512352021876723e-05, PINN Loss: 0.0706222653388977, \n",
            "Epoch 311, Step 0, Total Loss: 5.610320658888668e-05, PINN Loss: 0.056824617087841034, \n",
            "Epoch 312, Step 0, Total Loss: 3.6036133678862825e-05, PINN Loss: 0.06058717519044876, \n",
            "Epoch 313, Step 0, Total Loss: 3.7449175579240546e-05, PINN Loss: 0.05157385766506195, \n",
            "Epoch 314, Step 0, Total Loss: 2.7241645511821844e-05, PINN Loss: 0.06470641493797302, \n",
            "Epoch 315, Step 0, Total Loss: 2.0753512217197567e-05, PINN Loss: 0.06433848291635513, \n",
            "Epoch 316, Step 0, Total Loss: 1.585110840096604e-05, PINN Loss: 0.07498879730701447, \n",
            "Epoch 317, Step 0, Total Loss: 7.423759234370664e-05, PINN Loss: 0.07607720047235489, \n",
            "Epoch 318, Step 0, Total Loss: 2.5143479433609173e-05, PINN Loss: 0.06840266287326813, \n",
            "Epoch 319, Step 0, Total Loss: 4.187150625512004e-05, PINN Loss: 0.05847544968128204, \n",
            "Epoch 320, Step 0, Total Loss: 0.00013693427899852395, PINN Loss: 0.09936955571174622, \n",
            "Epoch 321, Step 0, Total Loss: 3.143712456221692e-05, PINN Loss: 0.09532477706670761, \n",
            "Epoch 322, Step 0, Total Loss: 0.00012049954966641963, PINN Loss: 0.057006388902664185, \n",
            "Epoch 323, Step 0, Total Loss: 8.682406769366935e-05, PINN Loss: 0.06161562725901604, \n",
            "Epoch 324, Step 0, Total Loss: 1.3798943655274343e-05, PINN Loss: 0.0752943605184555, \n",
            "Epoch 325, Step 0, Total Loss: 4.4740314478985965e-05, PINN Loss: 0.08085142076015472, \n",
            "Epoch 326, Step 0, Total Loss: 2.079383011732716e-05, PINN Loss: 0.06290538609027863, \n",
            "Epoch 327, Step 0, Total Loss: 9.256872544938233e-06, PINN Loss: 0.07522594183683395, \n",
            "Epoch 328, Step 0, Total Loss: 2.8707121600746177e-05, PINN Loss: 0.085442915558815, \n",
            "Epoch 329, Step 0, Total Loss: 1.5078157048264984e-05, PINN Loss: 0.0497334823012352, \n",
            "Epoch 330, Step 0, Total Loss: 2.8281488994252868e-05, PINN Loss: 0.06265014410018921, \n",
            "Epoch 331, Step 0, Total Loss: 0.00017473851039540023, PINN Loss: 0.08875593543052673, \n",
            "Epoch 332, Step 0, Total Loss: 6.923251930857077e-05, PINN Loss: 0.06154850125312805, \n",
            "Epoch 333, Step 0, Total Loss: 0.00012048762437188998, PINN Loss: 0.05802477151155472, \n",
            "Epoch 334, Step 0, Total Loss: 0.00013596493226941675, PINN Loss: 0.07502057403326035, \n",
            "Epoch 335, Step 0, Total Loss: 1.3767478776571807e-05, PINN Loss: 0.09821268916130066, \n",
            "Epoch 336, Step 0, Total Loss: 4.49497347290162e-05, PINN Loss: 0.06765876710414886, \n",
            "Epoch 337, Step 0, Total Loss: 2.7404637876315974e-05, PINN Loss: 0.053903721272945404, \n",
            "Epoch 338, Step 0, Total Loss: 1.1817205631814431e-05, PINN Loss: 0.04678051546216011, \n",
            "Epoch 339, Step 0, Total Loss: 2.0906181816826575e-05, PINN Loss: 0.06289452314376831, \n",
            "Epoch 340, Step 0, Total Loss: 1.7121246855822392e-05, PINN Loss: 0.05207126960158348, \n",
            "Epoch 341, Step 0, Total Loss: 1.629578764550388e-05, PINN Loss: 0.06244266778230667, \n",
            "Epoch 342, Step 0, Total Loss: 5.970327038085088e-05, PINN Loss: 0.07047783583402634, \n",
            "Epoch 343, Step 0, Total Loss: 1.92932002391899e-05, PINN Loss: 0.05906999856233597, \n",
            "Epoch 344, Step 0, Total Loss: 5.175128171686083e-05, PINN Loss: 0.04378614202141762, \n",
            "Epoch 345, Step 0, Total Loss: 5.450177559396252e-05, PINN Loss: 0.06061045452952385, \n",
            "Epoch 346, Step 0, Total Loss: 2.2489064576802775e-05, PINN Loss: 0.04870753735303879, \n",
            "Epoch 347, Step 0, Total Loss: 2.2796750272391364e-05, PINN Loss: 0.04687538370490074, \n",
            "Epoch 348, Step 0, Total Loss: 1.9188244550605305e-05, PINN Loss: 0.044048018753528595, \n",
            "Epoch 349, Step 0, Total Loss: 1.063317722582724e-05, PINN Loss: 0.05666087567806244, \n",
            "Epoch 350, Step 0, Total Loss: 1.9955548850703053e-05, PINN Loss: 0.04302595928311348, \n"
          ]
        }
      ]
    },
    {
      "cell_type": "markdown",
      "source": [
        "## Plot Results of Analytical Problem"
      ],
      "metadata": {
        "id": "GizS7s0ix4IR"
      }
    },
    {
      "cell_type": "code",
      "source": [
        "num_subplots = len(prediction_history)\n",
        "num_rows = 1\n",
        "num_columns = 4\n",
        "fig, axs = plt.subplots(num_rows, num_columns, sharex=True, sharey=True, figsize=(10,7))\n",
        "fig.suptitle('Control PINN: Convergence on Analytical Solution', size=20)\n",
        "fig.text(0.5, 0.08, '$t$', ha='center',va='center', size=16)\n",
        "fig.text(0.08, 0.5, 'Output', ha='center',va='center', rotation='vertical', size=16)\n",
        "index = 0\n",
        "i = 1\n",
        "for j in range(num_columns):\n",
        "  axs[j].set_title('Epoch: {}'.format(epoch_history[index]),fontsize=10)\n",
        "  axs[j].plot(timespan, y_star, 'bd', label=r'$y^*$', markevery=100, fillstyle='none')\n",
        "  axs[j].plot(timespan, u_star, 'rs', label=r'$u^*$', markevery=100, fillstyle='none')\n",
        "  axs[j].plot(timespan, lambda_star, 'yo', label=r'$\\lambda^*$', markevery=100, fillstyle='none')\n",
        "  pred = prediction_history[index]\n",
        "  axs[j].plot(timespan, pred[:,0], 'r*', label=r'$y$', markevery=100, fillstyle='none')\n",
        "  axs[j].plot(timespan, pred[:,1], 'g+', label=r'$u$', markevery=100)\n",
        "  axs[j].plot(timespan, pred[:,2], 'm_', label=r'$\\lambda$', markevery=100)\n",
        "  index += 1\n",
        "\n",
        "plt.tight_layout\n",
        "plt.legend(loc=3,bbox_to_anchor=(1,0))\n",
        "plt.show()"
      ],
      "metadata": {
        "colab": {
          "base_uri": "https://localhost:8080/",
          "height": 492
        },
        "id": "zd5ues6RVsI6",
        "outputId": "3f9f5d05-32ab-4343-9bad-b9ec142122cf"
      },
      "execution_count": 33,
      "outputs": [
        {
          "output_type": "display_data",
          "data": {
            "text/plain": [
              "<Figure size 720x504 with 4 Axes>"
            ],
            "image/png": "[encoded data removed]"
          },
          "metadata": {
            "needs_background": "light"
          }
        }
      ]
    },
    {
      "cell_type": "code",
      "metadata": {
        "id": "-_Ck9EYA09e1"
      },
      "source": [
        ""
      ],
      "execution_count": 11,
      "outputs": []
    }
  ]
}