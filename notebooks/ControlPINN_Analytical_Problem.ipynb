{
  "nbformat": 4,
  "nbformat_minor": 0,
  "metadata": {
    "colab": {
      "name": "ControlPINN-Analytical-Problem.ipynb",
      "provenance": [],
      "collapsed_sections": [],
      "include_colab_link": true
    },
    "kernelspec": {
      "display_name": "Python 3",
      "name": "python3"
    },
    "language_info": {
      "name": "python"
    },
    "accelerator": "GPU"
  },
  "cells": [
    {
      "cell_type": "markdown",
      "metadata": {
        "id": "view-in-github",
        "colab_type": "text"
      },
      "source": [
        "<a href=\"https://colab.research.google.com/github/ComputationalScienceLaboratory/control-pinn/blob/main/ControlPINN_Analytical_Problem.ipynb\" target=\"_parent\"><img src=\"https://colab.research.google.com/assets/colab-badge.svg\" alt=\"Open In Colab\"/></a>"
      ]
    },
    {
      "cell_type": "markdown",
      "metadata": {
        "id": "kWbcYmjCflSi"
      },
      "source": [
        "# Physics-informed neural networks for PDE-constrained optimization and control\n",
        "## Jostein Barry-Straume, Arash Sarshar, Andrey A. Popov, Adrian Sandu\n",
        "## [Computational Science Lab](https://csl.cs.vt.edu/), Department of Computer Science, Virginia Tech\n",
        "\n",
        "> Paper and Code can be found here: https://github.com/ComputationalScienceLaboratory/control-pinn\n",
        "\n",
        "> This Google Colab notebook contains the code for training a Control PINN model on an analytical open-loop optimal control problem"
      ]
    },
    {
      "cell_type": "code",
      "metadata": {
        "id": "xenAm3avsJof"
      },
      "source": [
        "'''\n",
        "Import the necessary libraries\n",
        "'''\n",
        "import os\n",
        "import math\n",
        "import numpy as np\n",
        "import pandas as pd\n",
        "import tensorflow as tf\n",
        "import matplotlib.pyplot as plt\n",
        "from tensorflow import keras\n",
        "import matplotlib.pyplot as plt\n",
        "import seaborn as sns\n",
        "from datetime import datetime\n",
        "%matplotlib inline\n",
        "os.environ['TF_CPP_MIN_LOG_LEVEL'] = '2' # Supress INFO and WARNING messages\n",
        "import warnings\n",
        "warnings.filterwarnings('ignore')"
      ],
      "execution_count": 1,
      "outputs": []
    },
    {
      "cell_type": "markdown",
      "metadata": {
        "id": "eosd4h5vUdGc"
      },
      "source": [
        "## Create Datasets for Optimal Solutions"
      ]
    },
    {
      "cell_type": "code",
      "metadata": {
        "colab": {
          "base_uri": "https://localhost:8080/"
        },
        "id": "Gv-FYEJuUh20",
        "outputId": "da7b2525-48f1-494d-fd0d-7f9afb2b99d1"
      },
      "source": [
        "def y_star_fun(t):\n",
        "  return (2 * math.exp(3*t) + math.exp(3)) / (math.exp(3*t/2) * (2 + math.exp(3)))\n",
        "def u_star_fun(t):\n",
        "  return (2 * (math.exp(3*t) - math.exp(3))) / (math.exp(3*t/2) * (2 + math.exp(3)))\n",
        "def lambda_star_fun(t):\n",
        "  return -1 * u_star_fun(t)\n",
        "def g_fun(t):\n",
        "  return (y_star_fun(t) ** 2) + (0.5 * (u_star_fun(t) ** 2))\n",
        "def f_fun(t):\n",
        "  return (0.5 * y_star_fun(t)) + u_star_fun(t)\n",
        "\n",
        "timespan = np.arange(0.0, 1.001, 0.001)\n",
        "y_star = np.asarray([y_star_fun(t) for t in timespan])\n",
        "u_star = np.asarray([u_star_fun(t) for t in timespan])\n",
        "lambda_star = np.asarray([lambda_star_fun(t) for t in timespan])\n",
        "g_star = np.asarray([g_fun(t) for t in timespan])\n",
        "f_star = np.asarray([f_fun(t) for t in timespan])\n",
        "print(y_star.shape, u_star.shape, lambda_star.shape, g_star.shape, f_star.shape)"
      ],
      "execution_count": 2,
      "outputs": [
        {
          "output_type": "stream",
          "name": "stdout",
          "text": [
            "(1001,) (1001,) (1001,) (1001,) (1001,)\n"
          ]
        }
      ]
    },
    {
      "cell_type": "markdown",
      "metadata": {
        "id": "oBZqYasVNgdV"
      },
      "source": [
        "## Plot exact solutions and create datasets"
      ]
    },
    {
      "cell_type": "code",
      "metadata": {
        "colab": {
          "base_uri": "https://localhost:8080/",
          "height": 295
        },
        "id": "lus23aQNUh22",
        "outputId": "031c7c90-c9ee-437d-a329-b2af9fd76b21"
      },
      "source": [
        "'''\n",
        "This is just a sanity check to make sure that the exact solutions of\n",
        "the dynamical system, the controller, and the system's resistance\n",
        "has been calculated properly \n",
        "'''\n",
        "plt.plot(timespan, y_star, label='$y^*$')\n",
        "plt.plot(timespan, u_star, label='$u^*$')\n",
        "plt.plot(timespan, lambda_star, label='$\\lambda^*$')\n",
        "plt.title('Validation Approach')\n",
        "plt.xlabel('Timespan')\n",
        "plt.ylabel('Outputs')\n",
        "plt.legend()\n",
        "plt.grid(alpha=.4, linestyle='--')"
      ],
      "execution_count": 3,
      "outputs": [
        {
          "output_type": "display_data",
          "data": {
            "text/plain": [
              "<Figure size 432x288 with 1 Axes>"
            ],
            "image/png": "[encoded data removed]"
          },
          "metadata": {
            "needs_background": "light"
          }
        }
      ]
    },
    {
      "cell_type": "code",
      "metadata": {
        "colab": {
          "base_uri": "https://localhost:8080/"
        },
        "id": "i1W-5UszMJxo",
        "outputId": "a025081e-b53e-49f1-ba74-fe0df25fa8fa"
      },
      "source": [
        "'''\n",
        "y_star, u_star, and lambda_star represent the exact solutions\n",
        "to the analytical problem.\n",
        "'''\n",
        "t_train        = timespan\n",
        "output_y_exact = y_star\n",
        "output_u_exact = u_star\n",
        "output_l_exact = lambda_star\n",
        "out_train      = (np.vstack([y_star, u_star, lambda_star])).T\n",
        "print(t_train.shape, out_train.shape)\n",
        "\n",
        "train_dataset = tf.data.Dataset.from_tensor_slices((t_train.reshape(-1,1), out_train.reshape(-1,3))).shuffle(buffer_size=1000)\n",
        "batchSize = 550\n",
        "train_dataset = train_dataset.batch(batchSize)"
      ],
      "execution_count": 4,
      "outputs": [
        {
          "output_type": "stream",
          "name": "stdout",
          "text": [
            "(1001,) (1001, 3)\n"
          ]
        }
      ]
    },
    {
      "cell_type": "markdown",
      "metadata": {
        "id": "pcRb-nH5NZQw"
      },
      "source": [
        "## Decouple w/ Sparse Data"
      ]
    },
    {
      "cell_type": "code",
      "metadata": {
        "id": "Wx5fY4TWNtoE"
      },
      "source": [
        "def y_star_fun(t):\n",
        "  return (2 * math.exp(3*t) + math.exp(3)) / (math.exp(3*t/2) * (2 + math.exp(3)))\n",
        "def u_star_fun(t):\n",
        "  return (2 * (math.exp(3*t) - math.exp(3))) / (math.exp(3*t/2) * (2 + math.exp(3)))\n",
        "def lambda_star_fun(t):\n",
        "  return -1 * u_star_fun(t)\n",
        "def g_fun(t):\n",
        "  return (y_star_fun(t) ** 2) + (0.5 * (u_star_fun(t) ** 2))\n",
        "def f_fun(t):\n",
        "  return (0.5 * y_star_fun(t)) + u_star_fun(t)"
      ],
      "execution_count": 5,
      "outputs": []
    },
    {
      "cell_type": "code",
      "metadata": {
        "colab": {
          "base_uri": "https://localhost:8080/"
        },
        "id": "sXEgk0xrp-fY",
        "outputId": "5fd3c0b5-46bc-4624-e12c-564314ee2306"
      },
      "source": [
        "timespanSparse = np.arange(0.0, 1.001, 0.1)\n",
        "y_sparse = np.asarray([y_star_fun(t) for t in timespanSparse])\n",
        "u_sparse = np.asarray([u_star_fun(t) for t in timespanSparse])\n",
        "lambda_sparse = np.asarray([lambda_star_fun(t) for t in timespanSparse])\n",
        "g_sparse = np.asarray([g_fun(t) for t in timespanSparse])\n",
        "f_sparse = np.asarray([f_fun(t) for t in timespanSparse])\n",
        "print(y_sparse.shape, u_sparse.shape, lambda_sparse.shape, g_sparse.shape, f_sparse.shape)"
      ],
      "execution_count": 6,
      "outputs": [
        {
          "output_type": "stream",
          "name": "stdout",
          "text": [
            "(11,) (11,) (11,) (11,) (11,)\n"
          ]
        }
      ]
    },
    {
      "cell_type": "code",
      "metadata": {
        "colab": {
          "base_uri": "https://localhost:8080/"
        },
        "id": "ukWZEtotqjEg",
        "outputId": "28dd248d-27d2-4bca-b41f-7391fa668dc3"
      },
      "source": [
        "t_train        = timespanSparse\n",
        "output_y_exact = y_sparse\n",
        "output_u_exact = u_sparse\n",
        "output_l_exact = lambda_sparse\n",
        "out_train      = (np.vstack([y_sparse, lambda_sparse, u_sparse])).T\n",
        "print(t_train.shape, out_train.shape)\n",
        "\n",
        "train_dataset = tf.data.Dataset.from_tensor_slices((t_train.reshape(-1,1), out_train.reshape(-1,3))).shuffle(buffer_size=1000)\n",
        "batchSize = 24\n",
        "train_dataset = train_dataset.batch(batchSize)"
      ],
      "execution_count": 7,
      "outputs": [
        {
          "output_type": "stream",
          "name": "stdout",
          "text": [
            "(11,) (11, 3)\n"
          ]
        }
      ]
    },
    {
      "cell_type": "markdown",
      "metadata": {
        "id": "26uc2NktZbab"
      },
      "source": [
        "## PINN Model Class"
      ]
    },
    {
      "cell_type": "code",
      "metadata": {
        "id": "W0Vz2TmgwxG9"
      },
      "source": [
        "class PINNModel(keras.Model):\n",
        "  def __init__(self, num_unit=100, debug=0):\n",
        "    '''\n",
        "    Initialize the model object.\n",
        "    :param num_unit: Number of nodes per layer, default is 100\n",
        "    :param debug: If zero, prints to console the values of\n",
        "                  systemPushBack, systemControl, and pdeLoss. Default is zero\n",
        "    '''\n",
        "    super(PINNModel, self).__init__()\n",
        "\n",
        "    self.num_unit = num_unit\n",
        "    self.debug = debug\n",
        "    self.u              = None\n",
        "    self.l              = None\n",
        "    self.y              = None\n",
        "    self.out            = None\n",
        "    self.f              = None\n",
        "    self.g              = None\n",
        "    self.dydxx          = None\n",
        "    self.dydt           = None\n",
        "    self.dldt           = None\n",
        "    self.dfdy           = None\n",
        "    self.dfdu           = None\n",
        "    self.dgdy           = None\n",
        "    self.dgdu           = None\n",
        "    self.pdeLoss        = None\n",
        "    self.systemPushBack = None\n",
        "    self.systemControl  = None\n",
        "\n",
        "    # Layers of the neural network\n",
        "    # https://github.com/tensorflow/tensorflow/issues/28799\n",
        "    dim = (1,)\n",
        "    dim = np.array(dim)\n",
        "    act = 'elu'\n",
        "    self.input_concat   = keras.layers.Concatenate(axis=1, name = 'input_concat')\n",
        "    self.hidden_layer_1 = keras.layers.Dense(input_shape = dim, units=self.num_unit, name='hidden1', activation=act)\n",
        "    self.hidden_layer_2 = keras.layers.Dense(units=self.num_unit, name='hidden2', activation=act)\n",
        "    self.hidden_layer_3 = keras.layers.Dense(units=self.num_unit, name='hidden3', activation=act)\n",
        "    self.hidden_layer_4 = keras.layers.Dense(units=self.num_unit, name='hidden4', activation=act)\n",
        "    self.hidden_layer_5 = keras.layers.Dense(units=self.num_unit, name='hidden5', activation=act)\n",
        "    self.hidden_layer_6 = keras.layers.Dense(units=self.num_unit, name='hidden6', activation=act)\n",
        "    self.hidden_layer_7 = keras.layers.Dense(units=self.num_unit, name='hidden7', activation=act)\n",
        "    self.hidden_layer_8 = keras.layers.Dense(units=self.num_unit, name='hidden8', activation=act)\n",
        "    self.hidden_layer_9 = keras.layers.Dense(units=self.num_unit, name='hidden9', activation=act)\n",
        "    self.hidden_layer_10 = keras.layers.Dense(units=self.num_unit, name='hidden10', activation=act)\n",
        "    self.output_u_tilde = keras.layers.Dense(1, name='output_u_tilde')\n",
        "    self.output_l_tilde = keras.layers.Dense(1, name='output_l_tilde')\n",
        "    self.output_y_tilde = keras.layers.Dense(1, name='output_y_tilde')\n",
        "    self.y_concat       = keras.layers.Concatenate(axis=1, name = 'y_concat')\n",
        "    self.l_concat       = keras.layers.Concatenate(axis=1, name = 'l_concat')\n",
        "    self.u_concat       = keras.layers.Concatenate(axis=1, name = 'u_concat')\n",
        "    self.output_concat  = keras.layers.Concatenate(axis=1,  name = 'output_concat')\n",
        "\n",
        "  def get_config(self):\n",
        "    '''\n",
        "    Returns the configuration settings of the model class\n",
        "    '''\n",
        "    cfg = super().get_config()\n",
        "    return cfg\n",
        "\n",
        "  @classmethod\n",
        "  def from_config(cls, config):\n",
        "    return cls(**config)\n",
        "\n",
        "  def call(self,t):\n",
        "    '''\n",
        "    Train the model\n",
        "\n",
        "    The parameter persistent=True is needed in order to calculate\n",
        "    multiple gradients with different derivatives, which means the\n",
        "    gradient tape needs to watch multiple tensors\n",
        "    '''\n",
        "    with tf.GradientTape(persistent=True) as tape:\n",
        "\n",
        "      tape.watch(t)\n",
        "      h1       = self.hidden_layer_1(t)\n",
        "      h2       = self.hidden_layer_2(h1)\n",
        "      h3       = self.hidden_layer_3(h2)\n",
        "      h4       = self.hidden_layer_4(h3)\n",
        "      h5       = self.hidden_layer_5(h4)\n",
        "      y        = self.output_y_tilde(h5)\n",
        "      u_input  = self.u_concat([y, h5])\n",
        "      h6       = self.hidden_layer_6(u_input)\n",
        "      h7       = self.hidden_layer_7(h6)\n",
        "      h8       = self.hidden_layer_8(h7)\n",
        "      u        = self.output_u_tilde(h8)\n",
        "      l_input  = self.l_concat([y, u, h8])\n",
        "      h9       = self.hidden_layer_9(l_input)\n",
        "      h10      = self.hidden_layer_10(h9)\n",
        "      l        = self.output_l_tilde(h10)\n",
        "      out      = self.output_concat([y, u, l])\n",
        "      f        = tf.add(tf.multiply(0.5, y), u)\n",
        "      g        = tf.add(tf.square(y), tf.multiply(0.5, tf.square(u)))\n",
        "\n",
        "      dydt = tape.gradient(y, t) # Derivative of y w.r.t. t\n",
        "      dldt = tape.gradient(l, t) # Derivative of lambda (l) w.r.t. t\n",
        "      dfdy = tape.gradient(f, y) # Derivative of f(y(t),u(t)) w.r.t. y\n",
        "      dfdu = tape.gradient(f, u) # Derivative of f(y(t),u(t)) w.r.t. u\n",
        "      dgdy = tape.gradient(g, y) # Derivative of g(y(t),u(t)) w.r.t. y\n",
        "      dgdu = tape.gradient(g, u) # Derivative of g(y(t),u(t)) w.r.t. u\n",
        "      \n",
        "      # Store various information in the model\n",
        "      self.u = u\n",
        "      self.l = l\n",
        "      self.y = y\n",
        "      self.out = out\n",
        "      self.f = f\n",
        "      self.g = g\n",
        "      self.dydt = dydt\n",
        "      self.dldt = dldt\n",
        "      self.dfdy = dfdy\n",
        "      self.dfdu = dfdu\n",
        "      self.dgdy = dgdy\n",
        "      self.dgdu = dgdu\n",
        "\n",
        "    # System state\n",
        "    pdeLoss = tf.subtract(dydt, f)\n",
        "    pdeLoss = tf.reduce_sum(tf.square(pdeLoss))\n",
        "    self.add_loss(pdeLoss)\n",
        "    self.pdeLoss = pdeLoss\n",
        "\n",
        "    # Push back of the system in response to the control\n",
        "    systemPushBack = tf.add(dldt, tf.multiply(dfdy, l))\n",
        "    systemPushBack = tf.add(systemPushBack, dgdy)\n",
        "    systemPushBack = tf.reduce_sum(tf.square(systemPushBack))\n",
        "    self.add_loss(systemPushBack)\n",
        "    self.systemPushBack = systemPushBack\n",
        "\n",
        "    # Control of the system\n",
        "    systemControl = tf.add(tf.multiply(dfdu, l), dgdu)\n",
        "    systemControl = tf.reduce_sum(tf.square(systemControl))\n",
        "    self.add_loss(systemControl)\n",
        "    self.systemControl = systemControl\n",
        "\n",
        "    # Print to console the pertinent components of the loss function\n",
        "    if (self.debug == 0):\n",
        "      print('syspushback: ', systemPushBack)\n",
        "      print('syscontrol: ', systemControl)\n",
        "      print('pdeloss: ', pdeLoss)\n",
        "\n",
        "    return out"
      ],
      "execution_count": 8,
      "outputs": []
    },
    {
      "cell_type": "markdown",
      "source": [
        "## Train on Analytical Problem"
      ],
      "metadata": {
        "id": "OZhjZpmrxhoA"
      }
    },
    {
      "cell_type": "code",
      "metadata": {
        "id": "e8el7JjkR1I3"
      },
      "source": [
        "# This was used to validate that TensorFlow's MSE does what it should\n",
        "def MSE_y_loss(y_true, y_pred):\n",
        "  return keras.losses.MSE(y_true, y_pred)\n",
        "\n",
        "model = PINNModel()\n",
        "optimizer = tf.keras.optimizers.Adam(learning_rate=1e-3)\n",
        "model.compile(optimizer = optimizer,\n",
        "              loss = keras.metrics.MSE,\n",
        "              metrics = keras.metrics.MSE)"
      ],
      "execution_count": 9,
      "outputs": []
    },
    {
      "cell_type": "code",
      "metadata": {
        "colab": {
          "base_uri": "https://localhost:8080/"
        },
        "id": "tbDUztpnf_uH",
        "outputId": "a5c23d68-07bd-464d-f25a-ba59b169474c"
      },
      "source": [
        "# Instantiate an optimizer.\n",
        "optimizer = tf.keras.optimizers.Adam(learning_rate=1e-3)\n",
        "loss_fn = tf.keras.losses.MSE\n",
        "epochs              = 350\n",
        "model.debug         = 1\n",
        "innerIterations     = 1\n",
        "prediction_history  = []\n",
        "epoch_history       = []\n",
        "total_loss_history   = []\n",
        "timespan = np.arange(0.0, 1.001, 0.001)\n",
        "for epoch in range(epochs):\n",
        "  # Iterate over the batches of a dataset.\n",
        "  for step, (x_batch_train, y_batch_train) in enumerate(train_dataset):\n",
        "    with tf.GradientTape() as tape1:\n",
        "      out = model(tf.reshape(x_batch_train,(-1,1)))  # Logits for this minibatch\n",
        "      # Loss value for this minibatch\n",
        "      data_loss_value = tf.reduce_sum(loss_fn(y_batch_train[:,0], out[:,0]))\n",
        "      master_loss = 0\n",
        "      \n",
        "      # Add extra losses created during this forward pass:\n",
        "      pinnloss  = sum(model.losses)\n",
        "\n",
        "      for i in range(innerIterations):\n",
        "        # Subsample time\n",
        "        sampleResidualPoints = np.random.uniform(0, 1, size=batchSize*2)\n",
        "        sampleResidualPoints = tf.constant(sampleResidualPoints.reshape(-1,1))\n",
        "        out = model(sampleResidualPoints)  # Logits for this minibatch\n",
        "\n",
        "        # Add extra losses created during this forward pass:\n",
        "        pinnloss  += sum(model.losses)\n",
        "      \n",
        "      master_loss = ((pinnloss / innerIterations) / batchSize) + data_loss_value\n",
        "    \n",
        "    # Apply gradient based on labeled data\n",
        "    grads = tape1.gradient(master_loss, model.trainable_weights)\n",
        "    optimizer.apply_gradients(zip(grads, model.trainable_weights))\n",
        "\n",
        "    print(\n",
        "        f'Epoch {epoch + 1}, '\n",
        "        f'Step {step}, '\n",
        "        f'Total Loss: {data_loss_value}, '\n",
        "        f'PINN Loss: {pinnloss}, '\n",
        "    )\n",
        "  \n",
        "  epochs_to_save = [0, 100, 200, 300]\n",
        "  if (epoch in epochs_to_save):\n",
        "    epoch_history.append(epoch)\n",
        "    prediction_history.append(model.predict(timespan.reshape(-1,1)))"
      ],
      "execution_count": 10,
      "outputs": [
        {
          "output_type": "stream",
          "name": "stdout",
          "text": [
            "WARNING:tensorflow:Calling GradientTape.gradient on a persistent tape inside its context is significantly less efficient than calling it outside the context (it causes the gradient ops to be recorded on the tape, leading to increased CPU and memory usage). Only call GradientTape.gradient inside the context if you actually want to trace the gradient in order to compute higher order derivatives.\n",
            "WARNING:tensorflow:Calling GradientTape.gradient on a persistent tape inside its context is significantly less efficient than calling it outside the context (it causes the gradient ops to be recorded on the tape, leading to increased CPU and memory usage). Only call GradientTape.gradient inside the context if you actually want to trace the gradient in order to compute higher order derivatives.\n",
            "WARNING:tensorflow:Calling GradientTape.gradient on a persistent tape inside its context is significantly less efficient than calling it outside the context (it causes the gradient ops to be recorded on the tape, leading to increased CPU and memory usage). Only call GradientTape.gradient inside the context if you actually want to trace the gradient in order to compute higher order derivatives.\n",
            "WARNING:tensorflow:Calling GradientTape.gradient on a persistent tape inside its context is significantly less efficient than calling it outside the context (it causes the gradient ops to be recorded on the tape, leading to increased CPU and memory usage). Only call GradientTape.gradient inside the context if you actually want to trace the gradient in order to compute higher order derivatives.\n",
            "WARNING:tensorflow:Calling GradientTape.gradient on a persistent tape inside its context is significantly less efficient than calling it outside the context (it causes the gradient ops to be recorded on the tape, leading to increased CPU and memory usage). Only call GradientTape.gradient inside the context if you actually want to trace the gradient in order to compute higher order derivatives.\n",
            "WARNING:tensorflow:Calling GradientTape.gradient on a persistent tape inside its context is significantly less efficient than calling it outside the context (it causes the gradient ops to be recorded on the tape, leading to increased CPU and memory usage). Only call GradientTape.gradient inside the context if you actually want to trace the gradient in order to compute higher order derivatives.\n",
            "Epoch 1, Step 0, Total Loss: 0.438688188791275, PINN Loss: 3.4953091144561768, \n",
            "WARNING:tensorflow:Calling GradientTape.gradient on a persistent tape inside its context is significantly less efficient than calling it outside the context (it causes the gradient ops to be recorded on the tape, leading to increased CPU and memory usage). Only call GradientTape.gradient inside the context if you actually want to trace the gradient in order to compute higher order derivatives.\n",
            "Epoch 2, Step 0, Total Loss: 0.46995580196380615, PINN Loss: 37.02611541748047, \n",
            "Epoch 3, Step 0, Total Loss: 0.3747663199901581, PINN Loss: 5.631142616271973, \n",
            "Epoch 4, Step 0, Total Loss: 0.34103092551231384, PINN Loss: 3.76674222946167, \n",
            "Epoch 5, Step 0, Total Loss: 0.3617466390132904, PINN Loss: 4.281827449798584, \n",
            "Epoch 6, Step 0, Total Loss: 0.38759222626686096, PINN Loss: 5.531312465667725, \n",
            "Epoch 7, Step 0, Total Loss: 0.37191450595855713, PINN Loss: 3.7532906532287598, \n",
            "Epoch 8, Step 0, Total Loss: 0.33168864250183105, PINN Loss: 1.9114359617233276, \n",
            "Epoch 9, Step 0, Total Loss: 0.3004482090473175, PINN Loss: 2.243727207183838, \n",
            "Epoch 10, Step 0, Total Loss: 0.2931545078754425, PINN Loss: 2.254180908203125, \n",
            "Epoch 11, Step 0, Total Loss: 0.2933966815471649, PINN Loss: 3.1536951065063477, \n",
            "Epoch 12, Step 0, Total Loss: 0.28366410732269287, PINN Loss: 3.0360190868377686, \n",
            "Epoch 13, Step 0, Total Loss: 0.2576427161693573, PINN Loss: 2.323132276535034, \n",
            "Epoch 14, Step 0, Total Loss: 0.22878442704677582, PINN Loss: 2.569995403289795, \n",
            "Epoch 15, Step 0, Total Loss: 0.21342839300632477, PINN Loss: 3.522244930267334, \n",
            "Epoch 16, Step 0, Total Loss: 0.21598033607006073, PINN Loss: 2.939664363861084, \n",
            "Epoch 17, Step 0, Total Loss: 0.2230512648820877, PINN Loss: 2.8876566886901855, \n",
            "Epoch 18, Step 0, Total Loss: 0.22228223085403442, PINN Loss: 2.5293307304382324, \n",
            "Epoch 19, Step 0, Total Loss: 0.2143404334783554, PINN Loss: 1.7740027904510498, \n",
            "Epoch 20, Step 0, Total Loss: 0.20908121764659882, PINN Loss: 2.063480854034424, \n",
            "Epoch 21, Step 0, Total Loss: 0.21448169648647308, PINN Loss: 1.670823574066162, \n",
            "Epoch 22, Step 0, Total Loss: 0.223890483379364, PINN Loss: 1.1892006397247314, \n",
            "Epoch 23, Step 0, Total Loss: 0.22022587060928345, PINN Loss: 1.2051715850830078, \n",
            "Epoch 24, Step 0, Total Loss: 0.2059764862060547, PINN Loss: 1.1785039901733398, \n",
            "Epoch 25, Step 0, Total Loss: 0.195558562874794, PINN Loss: 1.3097388744354248, \n",
            "Epoch 26, Step 0, Total Loss: 0.19354233145713806, PINN Loss: 1.049891471862793, \n",
            "Epoch 27, Step 0, Total Loss: 0.18715175986289978, PINN Loss: 1.0924677848815918, \n",
            "Epoch 28, Step 0, Total Loss: 0.1697830706834793, PINN Loss: 1.2506918907165527, \n",
            "Epoch 29, Step 0, Total Loss: 0.15207719802856445, PINN Loss: 2.0907421112060547, \n",
            "Epoch 30, Step 0, Total Loss: 0.14511537551879883, PINN Loss: 1.682310700416565, \n",
            "Epoch 31, Step 0, Total Loss: 0.13363660871982574, PINN Loss: 1.828981637954712, \n",
            "Epoch 32, Step 0, Total Loss: 0.1167273223400116, PINN Loss: 1.8571052551269531, \n",
            "Epoch 33, Step 0, Total Loss: 0.10514568537473679, PINN Loss: 2.071460247039795, \n",
            "Epoch 34, Step 0, Total Loss: 0.09766488522291183, PINN Loss: 1.886972427368164, \n",
            "Epoch 35, Step 0, Total Loss: 0.08560210466384888, PINN Loss: 2.3273684978485107, \n",
            "Epoch 36, Step 0, Total Loss: 0.0778469517827034, PINN Loss: 2.674281597137451, \n",
            "Epoch 37, Step 0, Total Loss: 0.0732528492808342, PINN Loss: 2.422476053237915, \n",
            "Epoch 38, Step 0, Total Loss: 0.06590097397565842, PINN Loss: 3.2315917015075684, \n",
            "Epoch 39, Step 0, Total Loss: 0.06358008831739426, PINN Loss: 2.896317958831787, \n",
            "Epoch 40, Step 0, Total Loss: 0.058251988142728806, PINN Loss: 3.235640048980713, \n",
            "Epoch 41, Step 0, Total Loss: 0.05967871844768524, PINN Loss: 2.9039106369018555, \n",
            "Epoch 42, Step 0, Total Loss: 0.057046715170145035, PINN Loss: 3.5224530696868896, \n",
            "Epoch 43, Step 0, Total Loss: 0.059786733239889145, PINN Loss: 2.8024165630340576, \n",
            "Epoch 44, Step 0, Total Loss: 0.06106920540332794, PINN Loss: 3.3999080657958984, \n",
            "Epoch 45, Step 0, Total Loss: 0.06345877051353455, PINN Loss: 2.622223377227783, \n",
            "Epoch 46, Step 0, Total Loss: 0.06519509106874466, PINN Loss: 2.515866756439209, \n",
            "Epoch 47, Step 0, Total Loss: 0.07555045932531357, PINN Loss: 3.1041431427001953, \n",
            "Epoch 48, Step 0, Total Loss: 0.06762754172086716, PINN Loss: 3.3154537677764893, \n",
            "Epoch 49, Step 0, Total Loss: 0.08405947685241699, PINN Loss: 2.441197633743286, \n",
            "Epoch 50, Step 0, Total Loss: 0.07933174818754196, PINN Loss: 2.1843090057373047, \n",
            "Epoch 51, Step 0, Total Loss: 0.08288697898387909, PINN Loss: 1.807431697845459, \n",
            "Epoch 52, Step 0, Total Loss: 0.09027642756700516, PINN Loss: 2.0647408962249756, \n",
            "Epoch 53, Step 0, Total Loss: 0.08297738432884216, PINN Loss: 1.947403073310852, \n",
            "Epoch 54, Step 0, Total Loss: 0.08942241966724396, PINN Loss: 1.498782992362976, \n",
            "Epoch 55, Step 0, Total Loss: 0.08940866589546204, PINN Loss: 1.457371473312378, \n",
            "Epoch 56, Step 0, Total Loss: 0.08232603967189789, PINN Loss: 2.5419793128967285, \n",
            "Epoch 57, Step 0, Total Loss: 0.09294011443853378, PINN Loss: 1.989234447479248, \n",
            "Epoch 58, Step 0, Total Loss: 0.08099189400672913, PINN Loss: 1.8401315212249756, \n",
            "Epoch 59, Step 0, Total Loss: 0.08320864289999008, PINN Loss: 1.4890471696853638, \n",
            "Epoch 60, Step 0, Total Loss: 0.08622298389673233, PINN Loss: 1.655908465385437, \n",
            "Epoch 61, Step 0, Total Loss: 0.07309237122535706, PINN Loss: 2.3218581676483154, \n",
            "Epoch 62, Step 0, Total Loss: 0.08371421694755554, PINN Loss: 2.0326766967773438, \n",
            "Epoch 63, Step 0, Total Loss: 0.0677294060587883, PINN Loss: 2.639584541320801, \n",
            "Epoch 64, Step 0, Total Loss: 0.07616781443357468, PINN Loss: 2.2507216930389404, \n",
            "Epoch 65, Step 0, Total Loss: 0.06728506833314896, PINN Loss: 1.4104535579681396, \n",
            "Epoch 66, Step 0, Total Loss: 0.061573758721351624, PINN Loss: 2.2822790145874023, \n",
            "Epoch 67, Step 0, Total Loss: 0.07136456668376923, PINN Loss: 2.840881824493408, \n",
            "Epoch 68, Step 0, Total Loss: 0.05215856805443764, PINN Loss: 3.324227809906006, \n",
            "Epoch 69, Step 0, Total Loss: 0.06638185679912567, PINN Loss: 2.2380428314208984, \n",
            "Epoch 70, Step 0, Total Loss: 0.06075789034366608, PINN Loss: 1.9742436408996582, \n",
            "Epoch 71, Step 0, Total Loss: 0.05366189777851105, PINN Loss: 2.3364148139953613, \n",
            "Epoch 72, Step 0, Total Loss: 0.06395059078931808, PINN Loss: 2.060537338256836, \n",
            "Epoch 73, Step 0, Total Loss: 0.05534859746694565, PINN Loss: 2.1957197189331055, \n",
            "Epoch 74, Step 0, Total Loss: 0.057999178767204285, PINN Loss: 1.59482741355896, \n",
            "Epoch 75, Step 0, Total Loss: 0.0597291961312294, PINN Loss: 1.4906253814697266, \n",
            "Epoch 76, Step 0, Total Loss: 0.05259710177779198, PINN Loss: 2.2716426849365234, \n",
            "Epoch 77, Step 0, Total Loss: 0.06110644340515137, PINN Loss: 1.8783998489379883, \n",
            "Epoch 78, Step 0, Total Loss: 0.05121321976184845, PINN Loss: 1.677273154258728, \n",
            "Epoch 79, Step 0, Total Loss: 0.056202009320259094, PINN Loss: 1.379073143005371, \n",
            "Epoch 80, Step 0, Total Loss: 0.05411494895815849, PINN Loss: 1.4553356170654297, \n",
            "Epoch 81, Step 0, Total Loss: 0.04827995225787163, PINN Loss: 1.9532580375671387, \n",
            "Epoch 82, Step 0, Total Loss: 0.06030673161149025, PINN Loss: 2.5534024238586426, \n",
            "Epoch 83, Step 0, Total Loss: 0.04060182720422745, PINN Loss: 4.547542572021484, \n",
            "Epoch 84, Step 0, Total Loss: 0.06361660361289978, PINN Loss: 4.129587650299072, \n",
            "Epoch 85, Step 0, Total Loss: 0.04087120667099953, PINN Loss: 3.9429516792297363, \n",
            "Epoch 86, Step 0, Total Loss: 0.05307964235544205, PINN Loss: 1.2670161724090576, \n",
            "Epoch 87, Step 0, Total Loss: 0.05684499442577362, PINN Loss: 1.953094482421875, \n",
            "Epoch 88, Step 0, Total Loss: 0.043390072882175446, PINN Loss: 2.7070157527923584, \n",
            "Epoch 89, Step 0, Total Loss: 0.053139615803956985, PINN Loss: 1.3893921375274658, \n",
            "Epoch 90, Step 0, Total Loss: 0.05896300449967384, PINN Loss: 1.9308844804763794, \n",
            "Epoch 91, Step 0, Total Loss: 0.0463966466486454, PINN Loss: 2.3712525367736816, \n",
            "Epoch 92, Step 0, Total Loss: 0.0550202839076519, PINN Loss: 1.134981393814087, \n",
            "Epoch 93, Step 0, Total Loss: 0.06037815660238266, PINN Loss: 1.348315954208374, \n",
            "Epoch 94, Step 0, Total Loss: 0.04848712310194969, PINN Loss: 2.2196550369262695, \n",
            "Epoch 95, Step 0, Total Loss: 0.05460382625460625, PINN Loss: 1.0902650356292725, \n",
            "Epoch 96, Step 0, Total Loss: 0.055509328842163086, PINN Loss: 1.401761770248413, \n",
            "Epoch 97, Step 0, Total Loss: 0.04253988340497017, PINN Loss: 1.7056283950805664, \n",
            "Epoch 98, Step 0, Total Loss: 0.04584973677992821, PINN Loss: 1.2341526746749878, \n",
            "Epoch 99, Step 0, Total Loss: 0.04654057323932648, PINN Loss: 1.4672865867614746, \n",
            "Epoch 100, Step 0, Total Loss: 0.03390966355800629, PINN Loss: 2.148622989654541, \n",
            "Epoch 101, Step 0, Total Loss: 0.03992733731865883, PINN Loss: 1.3881386518478394, \n",
            "Epoch 102, Step 0, Total Loss: 0.0406222902238369, PINN Loss: 1.2751445770263672, \n",
            "Epoch 103, Step 0, Total Loss: 0.03241977468132973, PINN Loss: 1.989593267440796, \n",
            "Epoch 104, Step 0, Total Loss: 0.04337446764111519, PINN Loss: 1.4923073053359985, \n",
            "Epoch 105, Step 0, Total Loss: 0.039738692343235016, PINN Loss: 1.1148622035980225, \n",
            "Epoch 106, Step 0, Total Loss: 0.036002110689878464, PINN Loss: 1.213894009590149, \n",
            "Epoch 107, Step 0, Total Loss: 0.04206635057926178, PINN Loss: 1.2103421688079834, \n",
            "Epoch 108, Step 0, Total Loss: 0.03325488790869713, PINN Loss: 0.9498829245567322, \n",
            "Epoch 109, Step 0, Total Loss: 0.031591854989528656, PINN Loss: 1.0870752334594727, \n",
            "Epoch 110, Step 0, Total Loss: 0.0336344949901104, PINN Loss: 1.1488515138626099, \n",
            "Epoch 111, Step 0, Total Loss: 0.02278509922325611, PINN Loss: 2.1684741973876953, \n",
            "Epoch 112, Step 0, Total Loss: 0.031746719032526016, PINN Loss: 1.8301138877868652, \n",
            "Epoch 113, Step 0, Total Loss: 0.021853305399417877, PINN Loss: 1.7151384353637695, \n",
            "Epoch 114, Step 0, Total Loss: 0.027142338454723358, PINN Loss: 1.0141470432281494, \n",
            "Epoch 115, Step 0, Total Loss: 0.026422154158353806, PINN Loss: 0.8640698194503784, \n",
            "Epoch 116, Step 0, Total Loss: 0.023069381713867188, PINN Loss: 1.298399567604065, \n",
            "Epoch 117, Step 0, Total Loss: 0.03147803246974945, PINN Loss: 1.5590128898620605, \n",
            "Epoch 118, Step 0, Total Loss: 0.018805919215083122, PINN Loss: 2.75968074798584, \n",
            "Epoch 119, Step 0, Total Loss: 0.0343657024204731, PINN Loss: 2.9955990314483643, \n",
            "Epoch 120, Step 0, Total Loss: 0.01770969107747078, PINN Loss: 3.4655251502990723, \n",
            "Epoch 121, Step 0, Total Loss: 0.03386528789997101, PINN Loss: 2.3287529945373535, \n",
            "Epoch 122, Step 0, Total Loss: 0.020787762477993965, PINN Loss: 1.7939163446426392, \n",
            "Epoch 123, Step 0, Total Loss: 0.02817562408745289, PINN Loss: 0.6085093021392822, \n",
            "Epoch 124, Step 0, Total Loss: 0.028301013633608818, PINN Loss: 0.6261552572250366, \n",
            "Epoch 125, Step 0, Total Loss: 0.021647296845912933, PINN Loss: 1.4182744026184082, \n",
            "Epoch 126, Step 0, Total Loss: 0.032691337168216705, PINN Loss: 1.5205333232879639, \n",
            "Epoch 127, Step 0, Total Loss: 0.02195078320801258, PINN Loss: 1.241527795791626, \n",
            "Epoch 128, Step 0, Total Loss: 0.02830953523516655, PINN Loss: 0.5405871868133545, \n",
            "Epoch 129, Step 0, Total Loss: 0.029100894927978516, PINN Loss: 0.7389140129089355, \n",
            "Epoch 130, Step 0, Total Loss: 0.01804780773818493, PINN Loss: 2.036825180053711, \n",
            "Epoch 131, Step 0, Total Loss: 0.028224917128682137, PINN Loss: 2.08316707611084, \n",
            "Epoch 132, Step 0, Total Loss: 0.014727447181940079, PINN Loss: 2.161022901535034, \n",
            "Epoch 133, Step 0, Total Loss: 0.021612800657749176, PINN Loss: 0.8519710898399353, \n",
            "Epoch 134, Step 0, Total Loss: 0.019362030550837517, PINN Loss: 0.4664735198020935, \n",
            "Epoch 135, Step 0, Total Loss: 0.015354607254266739, PINN Loss: 1.158998966217041, \n",
            "Epoch 136, Step 0, Total Loss: 0.024198126047849655, PINN Loss: 1.1779488325119019, \n",
            "Epoch 137, Step 0, Total Loss: 0.016423407942056656, PINN Loss: 0.8260391354560852, \n",
            "Epoch 138, Step 0, Total Loss: 0.01786801964044571, PINN Loss: 0.39137595891952515, \n",
            "Epoch 139, Step 0, Total Loss: 0.019043326377868652, PINN Loss: 0.6136747002601624, \n",
            "Epoch 140, Step 0, Total Loss: 0.011305548250675201, PINN Loss: 1.209913969039917, \n",
            "Epoch 141, Step 0, Total Loss: 0.017074432224035263, PINN Loss: 1.0936598777770996, \n",
            "Epoch 142, Step 0, Total Loss: 0.010137788020074368, PINN Loss: 0.7269455194473267, \n",
            "Epoch 143, Step 0, Total Loss: 0.010733840055763721, PINN Loss: 0.38749682903289795, \n",
            "Epoch 144, Step 0, Total Loss: 0.011171885766088963, PINN Loss: 0.773324728012085, \n",
            "Epoch 145, Step 0, Total Loss: 0.005649189930409193, PINN Loss: 1.5132962465286255, \n",
            "Epoch 146, Step 0, Total Loss: 0.011076916940510273, PINN Loss: 1.6930513381958008, \n",
            "Epoch 147, Step 0, Total Loss: 0.004866117145866156, PINN Loss: 2.189337968826294, \n",
            "Epoch 148, Step 0, Total Loss: 0.013523902744054794, PINN Loss: 1.5793873071670532, \n",
            "Epoch 149, Step 0, Total Loss: 0.009187871590256691, PINN Loss: 0.6051159501075745, \n",
            "Epoch 150, Step 0, Total Loss: 0.01197589561343193, PINN Loss: 0.2851628065109253, \n",
            "Epoch 151, Step 0, Total Loss: 0.015666930004954338, PINN Loss: 0.7484360933303833, \n",
            "Epoch 152, Step 0, Total Loss: 0.007346868980675936, PINN Loss: 1.4352612495422363, \n",
            "Epoch 153, Step 0, Total Loss: 0.012699414044618607, PINN Loss: 1.1583585739135742, \n",
            "Epoch 154, Step 0, Total Loss: 0.006249360740184784, PINN Loss: 0.7324123978614807, \n",
            "Epoch 155, Step 0, Total Loss: 0.007436144165694714, PINN Loss: 0.22208651900291443, \n",
            "Epoch 156, Step 0, Total Loss: 0.007928668521344662, PINN Loss: 0.3350261449813843, \n",
            "Epoch 157, Step 0, Total Loss: 0.005129161756485701, PINN Loss: 0.6803615093231201, \n",
            "Epoch 158, Step 0, Total Loss: 0.00837594736367464, PINN Loss: 0.6653104424476624, \n",
            "Epoch 159, Step 0, Total Loss: 0.0047853970900177956, PINN Loss: 0.6374796628952026, \n",
            "Epoch 160, Step 0, Total Loss: 0.006946113891899586, PINN Loss: 0.33375734090805054, \n",
            "Epoch 161, Step 0, Total Loss: 0.005482630338519812, PINN Loss: 0.1313202679157257, \n",
            "Epoch 162, Step 0, Total Loss: 0.0038966545835137367, PINN Loss: 0.4334445595741272, \n",
            "Epoch 163, Step 0, Total Loss: 0.006703757215291262, PINN Loss: 0.8293138742446899, \n",
            "Epoch 164, Step 0, Total Loss: 0.0023334159050136805, PINN Loss: 1.2876641750335693, \n",
            "Epoch 165, Step 0, Total Loss: 0.006960614118725061, PINN Loss: 1.2238926887512207, \n",
            "Epoch 166, Step 0, Total Loss: 0.002281824592500925, PINN Loss: 0.9421341419219971, \n",
            "Epoch 167, Step 0, Total Loss: 0.004426921717822552, PINN Loss: 0.3569086790084839, \n",
            "Epoch 168, Step 0, Total Loss: 0.0026561932172626257, PINN Loss: 0.24469125270843506, \n",
            "Epoch 169, Step 0, Total Loss: 0.0025631641037762165, PINN Loss: 0.1854640394449234, \n",
            "Epoch 170, Step 0, Total Loss: 0.0027592359110713005, PINN Loss: 0.26504188776016235, \n",
            "Epoch 171, Step 0, Total Loss: 0.0014962967252358794, PINN Loss: 0.4322422444820404, \n",
            "Epoch 172, Step 0, Total Loss: 0.00321147870272398, PINN Loss: 0.5698845386505127, \n",
            "Epoch 173, Step 0, Total Loss: 0.0010883024660870433, PINN Loss: 0.8968529105186462, \n",
            "Epoch 174, Step 0, Total Loss: 0.004291396122425795, PINN Loss: 1.0175352096557617, \n",
            "Epoch 175, Step 0, Total Loss: 0.0013385581551119685, PINN Loss: 1.25508451461792, \n",
            "Epoch 176, Step 0, Total Loss: 0.0054949200712144375, PINN Loss: 1.067149043083191, \n",
            "Epoch 177, Step 0, Total Loss: 0.0013039374025538564, PINN Loss: 1.0337783098220825, \n",
            "Epoch 178, Step 0, Total Loss: 0.003755241399630904, PINN Loss: 0.7727802395820618, \n",
            "Epoch 179, Step 0, Total Loss: 0.0011392206652089953, PINN Loss: 0.5693156123161316, \n",
            "Epoch 180, Step 0, Total Loss: 0.0025167835410684347, PINN Loss: 0.29240143299102783, \n",
            "Epoch 181, Step 0, Total Loss: 0.0014169124187901616, PINN Loss: 0.268321692943573, \n",
            "Epoch 182, Step 0, Total Loss: 0.0018166544614359736, PINN Loss: 0.08649992942810059, \n",
            "Epoch 183, Step 0, Total Loss: 0.002112615155056119, PINN Loss: 0.17033487558364868, \n",
            "Epoch 184, Step 0, Total Loss: 0.0013441594783216715, PINN Loss: 0.269872784614563, \n",
            "Epoch 185, Step 0, Total Loss: 0.0024276459589600563, PINN Loss: 0.2910739779472351, \n",
            "Epoch 186, Step 0, Total Loss: 0.0009841792052611709, PINN Loss: 0.25997859239578247, \n",
            "Epoch 187, Step 0, Total Loss: 0.001321329502388835, PINN Loss: 0.14207817614078522, \n",
            "Epoch 188, Step 0, Total Loss: 0.000878609309438616, PINN Loss: 0.1383761167526245, \n",
            "Epoch 189, Step 0, Total Loss: 0.0006895739352330565, PINN Loss: 0.17659297585487366, \n",
            "Epoch 190, Step 0, Total Loss: 0.0013231077464297414, PINN Loss: 0.2132541537284851, \n",
            "Epoch 191, Step 0, Total Loss: 0.0006709290901198983, PINN Loss: 0.3534335494041443, \n",
            "Epoch 192, Step 0, Total Loss: 0.0016178346704691648, PINN Loss: 0.3847333788871765, \n",
            "Epoch 193, Step 0, Total Loss: 0.0003928842779714614, PINN Loss: 0.6411759257316589, \n",
            "Epoch 194, Step 0, Total Loss: 0.0020422195084393024, PINN Loss: 0.9584354162216187, \n",
            "Epoch 195, Step 0, Total Loss: 0.00027067476185038686, PINN Loss: 2.0096049308776855, \n",
            "Epoch 196, Step 0, Total Loss: 0.003183200256898999, PINN Loss: 3.063633680343628, \n",
            "Epoch 197, Step 0, Total Loss: 0.0004801304021384567, PINN Loss: 3.6616029739379883, \n",
            "Epoch 198, Step 0, Total Loss: 0.0036100568249821663, PINN Loss: 2.097822666168213, \n",
            "Epoch 199, Step 0, Total Loss: 0.0009138272725977004, PINN Loss: 0.4785188138484955, \n",
            "Epoch 200, Step 0, Total Loss: 0.0013975449837744236, PINN Loss: 0.3883233070373535, \n",
            "Epoch 201, Step 0, Total Loss: 0.0057988534681499004, PINN Loss: 1.9916387796401978, \n",
            "Epoch 202, Step 0, Total Loss: 0.0010359965963289142, PINN Loss: 2.211989402770996, \n",
            "Epoch 203, Step 0, Total Loss: 0.0032924218103289604, PINN Loss: 0.18713076412677765, \n",
            "Epoch 204, Step 0, Total Loss: 0.004009904805570841, PINN Loss: 0.8427281379699707, \n",
            "Epoch 205, Step 0, Total Loss: 0.0015322573017328978, PINN Loss: 1.7965713739395142, \n",
            "Epoch 206, Step 0, Total Loss: 0.0038424471858888865, PINN Loss: 0.42075103521347046, \n",
            "Epoch 207, Step 0, Total Loss: 0.004251454491168261, PINN Loss: 0.4764249324798584, \n",
            "Epoch 208, Step 0, Total Loss: 0.002042408101260662, PINN Loss: 1.1117695569992065, \n",
            "Epoch 209, Step 0, Total Loss: 0.003810503985732794, PINN Loss: 0.27917683124542236, \n",
            "Epoch 210, Step 0, Total Loss: 0.00421758322045207, PINN Loss: 0.48426562547683716, \n",
            "Epoch 211, Step 0, Total Loss: 0.0021840420085936785, PINN Loss: 0.9218385219573975, \n",
            "Epoch 212, Step 0, Total Loss: 0.003954594023525715, PINN Loss: 0.18598352372646332, \n",
            "Epoch 213, Step 0, Total Loss: 0.005153221543878317, PINN Loss: 0.742426872253418, \n",
            "Epoch 214, Step 0, Total Loss: 0.0024098616559058428, PINN Loss: 0.7724387645721436, \n",
            "Epoch 215, Step 0, Total Loss: 0.003081239527091384, PINN Loss: 0.14643025398254395, \n",
            "Epoch 216, Step 0, Total Loss: 0.004684351850301027, PINN Loss: 0.667557418346405, \n",
            "Epoch 217, Step 0, Total Loss: 0.002490753075107932, PINN Loss: 0.37750768661499023, \n",
            "Epoch 218, Step 0, Total Loss: 0.0022871941328048706, PINN Loss: 0.2969251275062561, \n",
            "Epoch 219, Step 0, Total Loss: 0.003292006440460682, PINN Loss: 0.6266642212867737, \n",
            "Epoch 220, Step 0, Total Loss: 0.0021396977826952934, PINN Loss: 0.20795956254005432, \n",
            "Epoch 221, Step 0, Total Loss: 0.0018011867068707943, PINN Loss: 0.39357370138168335, \n",
            "Epoch 222, Step 0, Total Loss: 0.0033314491156488657, PINN Loss: 0.5134899020195007, \n",
            "Epoch 223, Step 0, Total Loss: 0.00252427626401186, PINN Loss: 0.11953636258840561, \n",
            "Epoch 224, Step 0, Total Loss: 0.0023177245166152716, PINN Loss: 0.3073224425315857, \n",
            "Epoch 225, Step 0, Total Loss: 0.0037488711532205343, PINN Loss: 0.2961769998073578, \n",
            "Epoch 226, Step 0, Total Loss: 0.0029111148323863745, PINN Loss: 0.09017292410135269, \n",
            "Epoch 227, Step 0, Total Loss: 0.001691133831627667, PINN Loss: 0.3782430589199066, \n",
            "Epoch 228, Step 0, Total Loss: 0.0022788348142057657, PINN Loss: 0.2580891251564026, \n",
            "Epoch 229, Step 0, Total Loss: 0.0015212283469736576, PINN Loss: 0.09790325909852982, \n",
            "Epoch 230, Step 0, Total Loss: 0.001150328665971756, PINN Loss: 0.2517359256744385, \n",
            "Epoch 231, Step 0, Total Loss: 0.0012677452759817243, PINN Loss: 0.1596873700618744, \n",
            "Epoch 232, Step 0, Total Loss: 0.0009551457478664815, PINN Loss: 0.1762021780014038, \n",
            "Epoch 233, Step 0, Total Loss: 0.0007808735826984048, PINN Loss: 0.2238839864730835, \n",
            "Epoch 234, Step 0, Total Loss: 0.0011718039168044925, PINN Loss: 0.22452563047409058, \n",
            "Epoch 235, Step 0, Total Loss: 0.0010205786675214767, PINN Loss: 0.13124345242977142, \n",
            "Epoch 236, Step 0, Total Loss: 0.0010565230622887611, PINN Loss: 0.1329023540019989, \n",
            "Epoch 237, Step 0, Total Loss: 0.0018902085721492767, PINN Loss: 0.17396587133407593, \n",
            "Epoch 238, Step 0, Total Loss: 0.0012440357822924852, PINN Loss: 0.08995671570301056, \n",
            "Epoch 239, Step 0, Total Loss: 0.0009022234589792788, PINN Loss: 0.15279096364974976, \n",
            "Epoch 240, Step 0, Total Loss: 0.001113908481784165, PINN Loss: 0.14289359748363495, \n",
            "Epoch 241, Step 0, Total Loss: 0.0006187491817399859, PINN Loss: 0.09696489572525024, \n",
            "Epoch 242, Step 0, Total Loss: 0.0005034863715991378, PINN Loss: 0.08536526560783386, \n",
            "Epoch 243, Step 0, Total Loss: 0.0004857120802626014, PINN Loss: 0.07038097828626633, \n",
            "Epoch 244, Step 0, Total Loss: 0.0003440577711444348, PINN Loss: 0.09097281843423843, \n",
            "Epoch 245, Step 0, Total Loss: 0.0002866750000976026, PINN Loss: 0.07758193463087082, \n",
            "Epoch 246, Step 0, Total Loss: 0.00032174660009332, PINN Loss: 0.08583225309848785, \n",
            "Epoch 247, Step 0, Total Loss: 0.00022778035781811923, PINN Loss: 0.07812242209911346, \n",
            "Epoch 248, Step 0, Total Loss: 0.00024742138339206576, PINN Loss: 0.06796619296073914, \n",
            "Epoch 249, Step 0, Total Loss: 0.00016075042367447168, PINN Loss: 0.05727389454841614, \n",
            "Epoch 250, Step 0, Total Loss: 0.00015495787374675274, PINN Loss: 0.062085941433906555, \n",
            "Epoch 251, Step 0, Total Loss: 0.0001947692217072472, PINN Loss: 0.06951218843460083, \n",
            "Epoch 252, Step 0, Total Loss: 0.00011173547682119533, PINN Loss: 0.06998683512210846, \n",
            "Epoch 253, Step 0, Total Loss: 0.000211386926821433, PINN Loss: 0.0767643004655838, \n",
            "Epoch 254, Step 0, Total Loss: 0.0001211986382259056, PINN Loss: 0.06952622532844543, \n",
            "Epoch 255, Step 0, Total Loss: 0.00015382400306407362, PINN Loss: 0.06230700761079788, \n",
            "Epoch 256, Step 0, Total Loss: 0.00012399625848047435, PINN Loss: 0.0555989146232605, \n",
            "Epoch 257, Step 0, Total Loss: 4.176332367933355e-05, PINN Loss: 0.053913455456495285, \n",
            "Epoch 258, Step 0, Total Loss: 3.3891865314217284e-05, PINN Loss: 0.055581189692020416, \n",
            "Epoch 259, Step 0, Total Loss: 3.29188333125785e-05, PINN Loss: 0.060046687722206116, \n",
            "Epoch 260, Step 0, Total Loss: 2.685415165615268e-05, PINN Loss: 0.04529191926121712, \n",
            "Epoch 261, Step 0, Total Loss: 1.275230351893697e-05, PINN Loss: 0.048576951026916504, \n",
            "Epoch 262, Step 0, Total Loss: 1.2961868378624786e-05, PINN Loss: 0.055954284965991974, \n",
            "Epoch 263, Step 0, Total Loss: 2.591854536149185e-05, PINN Loss: 0.050290800631046295, \n",
            "Epoch 264, Step 0, Total Loss: 5.609497748082504e-05, PINN Loss: 0.05630054324865341, \n",
            "Epoch 265, Step 0, Total Loss: 6.266833952395245e-05, PINN Loss: 0.05400415509939194, \n",
            "Epoch 266, Step 0, Total Loss: 7.710391946602613e-05, PINN Loss: 0.05526778846979141, \n",
            "Epoch 267, Step 0, Total Loss: 7.398672551062191e-06, PINN Loss: 0.05541101098060608, \n",
            "Epoch 268, Step 0, Total Loss: 5.9353669712436385e-06, PINN Loss: 0.04599311202764511, \n",
            "Epoch 269, Step 0, Total Loss: 3.84477880288614e-06, PINN Loss: 0.054970577359199524, \n",
            "Epoch 270, Step 0, Total Loss: 4.664802418119507e-06, PINN Loss: 0.058227937668561935, \n",
            "Epoch 271, Step 0, Total Loss: 6.209922139532864e-05, PINN Loss: 0.05300069600343704, \n",
            "Epoch 272, Step 0, Total Loss: 2.6330179025535472e-05, PINN Loss: 0.06381282210350037, \n",
            "Epoch 273, Step 0, Total Loss: 6.964340718695894e-05, PINN Loss: 0.07576532661914825, \n",
            "Epoch 274, Step 0, Total Loss: 5.100182988826418e-06, PINN Loss: 0.06926539540290833, \n",
            "Epoch 275, Step 0, Total Loss: 6.425980245694518e-05, PINN Loss: 0.06745193153619766, \n",
            "Epoch 276, Step 0, Total Loss: 4.291241566534154e-06, PINN Loss: 0.06743243336677551, \n",
            "Epoch 277, Step 0, Total Loss: 5.073375632491661e-06, PINN Loss: 0.05967261269688606, \n",
            "Epoch 278, Step 0, Total Loss: 2.4965345801319927e-05, PINN Loss: 0.04543900862336159, \n",
            "Epoch 279, Step 0, Total Loss: 7.229786569951102e-05, PINN Loss: 0.04917358607053757, \n",
            "Epoch 280, Step 0, Total Loss: 5.5997570598265156e-05, PINN Loss: 0.05143449455499649, \n",
            "Epoch 281, Step 0, Total Loss: 0.00010568795551080257, PINN Loss: 0.07085003703832626, \n",
            "Epoch 282, Step 0, Total Loss: 3.614787601691205e-06, PINN Loss: 0.08389371633529663, \n",
            "Epoch 283, Step 0, Total Loss: 0.00010219970135949552, PINN Loss: 0.10924974083900452, \n",
            "Epoch 284, Step 0, Total Loss: 3.510331589495763e-05, PINN Loss: 0.14849863946437836, \n",
            "Epoch 285, Step 0, Total Loss: 6.928713992238045e-05, PINN Loss: 0.19503812491893768, \n",
            "Epoch 286, Step 0, Total Loss: 0.00010228297469438985, PINN Loss: 0.2771492600440979, \n",
            "Epoch 287, Step 0, Total Loss: 0.00032212957739830017, PINN Loss: 0.3526596426963806, \n",
            "Epoch 288, Step 0, Total Loss: 3.680282679852098e-05, PINN Loss: 0.42611566185951233, \n",
            "Epoch 289, Step 0, Total Loss: 0.00022683097631670535, PINN Loss: 0.4256323575973511, \n",
            "Epoch 290, Step 0, Total Loss: 8.708574750926346e-05, PINN Loss: 0.47803759574890137, \n",
            "Epoch 291, Step 0, Total Loss: 0.0009021445875987411, PINN Loss: 0.602755606174469, \n",
            "Epoch 292, Step 0, Total Loss: 9.407323886989616e-06, PINN Loss: 0.6361680030822754, \n",
            "Epoch 293, Step 0, Total Loss: 0.0006990892579779029, PINN Loss: 0.4705398976802826, \n",
            "Epoch 294, Step 0, Total Loss: 4.0498449379811063e-05, PINN Loss: 0.2673540711402893, \n",
            "Epoch 295, Step 0, Total Loss: 0.00017260992899537086, PINN Loss: 0.0582582950592041, \n",
            "Epoch 296, Step 0, Total Loss: 0.0001849900436354801, PINN Loss: 0.11246652901172638, \n",
            "Epoch 297, Step 0, Total Loss: 4.370906390249729e-05, PINN Loss: 0.3333679437637329, \n",
            "Epoch 298, Step 0, Total Loss: 0.0006218291237019002, PINN Loss: 0.5166094303131104, \n",
            "Epoch 299, Step 0, Total Loss: 5.0700946303550154e-05, PINN Loss: 0.5472520589828491, \n",
            "Epoch 300, Step 0, Total Loss: 0.001074161846190691, PINN Loss: 0.3170582056045532, \n",
            "Epoch 301, Step 0, Total Loss: 0.0003320281975902617, PINN Loss: 0.07426673173904419, \n",
            "Epoch 302, Step 0, Total Loss: 0.00021155732974875718, PINN Loss: 0.16160798072814941, \n",
            "Epoch 303, Step 0, Total Loss: 0.0005936109810136259, PINN Loss: 0.3626028895378113, \n",
            "Epoch 304, Step 0, Total Loss: 7.313633250305429e-05, PINN Loss: 0.5655354261398315, \n",
            "Epoch 305, Step 0, Total Loss: 0.0004113355535082519, PINN Loss: 0.3260350823402405, \n",
            "Epoch 306, Step 0, Total Loss: 0.00017128004401456565, PINN Loss: 0.09585539251565933, \n",
            "Epoch 307, Step 0, Total Loss: 0.0002155712863896042, PINN Loss: 0.1266469955444336, \n",
            "Epoch 308, Step 0, Total Loss: 0.0008107564062811434, PINN Loss: 0.36704814434051514, \n",
            "Epoch 309, Step 0, Total Loss: 0.0001526847918285057, PINN Loss: 0.4755043089389801, \n",
            "Epoch 310, Step 0, Total Loss: 0.0007024157675914466, PINN Loss: 0.2372158020734787, \n",
            "Epoch 311, Step 0, Total Loss: 0.00030372204491868615, PINN Loss: 0.05722006410360336, \n",
            "Epoch 312, Step 0, Total Loss: 0.00021627558453474194, PINN Loss: 0.1479385942220688, \n",
            "Epoch 313, Step 0, Total Loss: 0.0006993010174483061, PINN Loss: 0.32367050647735596, \n",
            "Epoch 314, Step 0, Total Loss: 0.00020257347205188125, PINN Loss: 0.3108712136745453, \n",
            "Epoch 315, Step 0, Total Loss: 0.0004861944180447608, PINN Loss: 0.11207592487335205, \n",
            "Epoch 316, Step 0, Total Loss: 0.00037246811552904546, PINN Loss: 0.04778866469860077, \n",
            "Epoch 317, Step 0, Total Loss: 0.00021789174934383482, PINN Loss: 0.1960403025150299, \n",
            "Epoch 318, Step 0, Total Loss: 0.0006711906171403825, PINN Loss: 0.2695438861846924, \n",
            "Epoch 319, Step 0, Total Loss: 0.0002259055181639269, PINN Loss: 0.1968902051448822, \n",
            "Epoch 320, Step 0, Total Loss: 0.00030572040122933686, PINN Loss: 0.060530707240104675, \n",
            "Epoch 321, Step 0, Total Loss: 0.0003833458467852324, PINN Loss: 0.07883778214454651, \n",
            "Epoch 322, Step 0, Total Loss: 0.00016791230882517993, PINN Loss: 0.19433815777301788, \n",
            "Epoch 323, Step 0, Total Loss: 0.0006507314974442124, PINN Loss: 0.13674354553222656, \n",
            "Epoch 324, Step 0, Total Loss: 0.00030655672890134156, PINN Loss: 0.054569415748119354, \n",
            "Epoch 325, Step 0, Total Loss: 0.00025032577104866505, PINN Loss: 0.06178697198629379, \n",
            "Epoch 326, Step 0, Total Loss: 0.00042965554166585207, PINN Loss: 0.12438662350177765, \n",
            "Epoch 327, Step 0, Total Loss: 9.592025890015066e-05, PINN Loss: 0.11792201548814774, \n",
            "Epoch 328, Step 0, Total Loss: 0.00017624828615225852, PINN Loss: 0.055597998201847076, \n",
            "Epoch 329, Step 0, Total Loss: 0.00015842598804738373, PINN Loss: 0.061316147446632385, \n",
            "Epoch 330, Step 0, Total Loss: 0.00011945835285587236, PINN Loss: 0.057179003953933716, \n",
            "Epoch 331, Step 0, Total Loss: 0.00019530449935700744, PINN Loss: 0.04804319143295288, \n",
            "Epoch 332, Step 0, Total Loss: 0.00011070863547502086, PINN Loss: 0.044825583696365356, \n",
            "Epoch 333, Step 0, Total Loss: 8.790021092863753e-05, PINN Loss: 0.055140845477581024, \n",
            "Epoch 334, Step 0, Total Loss: 0.00016481905186083168, PINN Loss: 0.051529910415410995, \n",
            "Epoch 335, Step 0, Total Loss: 9.399792179465294e-05, PINN Loss: 0.07810737192630768, \n",
            "Epoch 336, Step 0, Total Loss: 0.00022942418581806123, PINN Loss: 0.06369691342115402, \n",
            "Epoch 337, Step 0, Total Loss: 8.857808279572055e-05, PINN Loss: 0.04837292432785034, \n",
            "Epoch 338, Step 0, Total Loss: 0.00013341174053493887, PINN Loss: 0.04660605639219284, \n",
            "Epoch 339, Step 0, Total Loss: 9.68028325587511e-05, PINN Loss: 0.032900370657444, \n",
            "Epoch 340, Step 0, Total Loss: 4.877304672845639e-05, PINN Loss: 0.058133263140916824, \n",
            "Epoch 341, Step 0, Total Loss: 0.00010969681170536205, PINN Loss: 0.10626975446939468, \n",
            "Epoch 342, Step 0, Total Loss: 6.560098699992523e-05, PINN Loss: 0.13831591606140137, \n",
            "Epoch 343, Step 0, Total Loss: 0.00011996103421552107, PINN Loss: 0.1458127349615097, \n",
            "Epoch 344, Step 0, Total Loss: 2.908419628511183e-05, PINN Loss: 0.13558661937713623, \n",
            "Epoch 345, Step 0, Total Loss: 0.00012924056500196457, PINN Loss: 0.09982245415449142, \n",
            "Epoch 346, Step 0, Total Loss: 2.8458043743739836e-05, PINN Loss: 0.08803851902484894, \n",
            "Epoch 347, Step 0, Total Loss: 0.00014335841115098447, PINN Loss: 0.0475136861205101, \n",
            "Epoch 348, Step 0, Total Loss: 6.048311843187548e-05, PINN Loss: 0.034328393638134, \n",
            "Epoch 349, Step 0, Total Loss: 7.460042252205312e-05, PINN Loss: 0.031632356345653534, \n",
            "Epoch 350, Step 0, Total Loss: 3.5901211958844215e-05, PINN Loss: 0.02835671231150627, \n"
          ]
        }
      ]
    },
    {
      "cell_type": "markdown",
      "source": [
        "## Plot Results of Analytical Problem"
      ],
      "metadata": {
        "id": "GizS7s0ix4IR"
      }
    },
    {
      "cell_type": "code",
      "source": [
        "num_subplots = len(prediction_history)\n",
        "num_rows = 1\n",
        "num_columns = 4\n",
        "fig, axs = plt.subplots(num_rows, num_columns, sharex=True, sharey=True, figsize=(10,7))\n",
        "fig.suptitle('Control PINN: Convergence on Analytical Solution', size=20)\n",
        "fig.text(0.5, 0.08, '$t$', ha='center',va='center', size=16)\n",
        "fig.text(0.08, 0.5, 'Output', ha='center',va='center', rotation='vertical', size=16)\n",
        "index = 0\n",
        "i = 1\n",
        "for j in range(num_columns):\n",
        "  axs[j].set_title('Epoch: {}'.format(epoch_history[index]),fontsize=10)\n",
        "  axs[j].plot(timespan, y_star, 'b', label=r'$y^*$')\n",
        "  axs[j].plot(timespan, u_star, 'r', label=r'$u^*$')\n",
        "  axs[j].plot(timespan, lambda_star, 'y', label=r'$\\lambda^*$')\n",
        "  pred = prediction_history[index]\n",
        "  axs[j].plot(timespan, pred[:,0], 'r--', label=r'$y$')\n",
        "  axs[j].plot(timespan, pred[:,1], 'g--', label=r'$u$')\n",
        "  axs[j].plot(timespan, pred[:,2], 'm--', label=r'$\\lambda$')\n",
        "  index += 1\n",
        "\n",
        "plt.tight_layout\n",
        "plt.legend(loc=3,bbox_to_anchor=(1,0))\n",
        "plt.show()"
      ],
      "metadata": {
        "colab": {
          "base_uri": "https://localhost:8080/",
          "height": 492
        },
        "id": "zd5ues6RVsI6",
        "outputId": "9ab3ac5b-5daf-464c-d335-883b8744fe84"
      },
      "execution_count": 14,
      "outputs": [
        {
          "output_type": "display_data",
          "data": {
            "text/plain": [
              "<Figure size 720x504 with 4 Axes>"
            ],
            "image/png": "[encoded data removed]"
          },
          "metadata": {
            "needs_background": "light"
          }
        }
      ]
    },
    {
      "cell_type": "code",
      "metadata": {
        "id": "-_Ck9EYA09e1"
      },
      "source": [
        ""
      ],
      "execution_count": null,
      "outputs": []
    }
  ]
}