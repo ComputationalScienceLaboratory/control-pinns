{
 "cells": [
  {
   "cell_type": "code",
   "execution_count": 5,
   "metadata": {
    "colab": {
     "base_uri": "https://localhost:8080/"
    },
    "collapsed": true,
    "executionInfo": {
     "elapsed": 30823,
     "status": "ok",
     "timestamp": 1635880262805,
     "user": {
      "displayName": "Jostein Barry-Straume",
      "photoUrl": "https://lh3.googleusercontent.com/a/default-user=s64",
      "userId": "14559924148079490780"
     },
     "user_tz": 240
    },
    "id": "fFTWpqrYk_MG",
    "outputId": "5b8bdaa3-54f0-4dc8-aaca-d7f535b5940f",
    "scrolled": true
   },
   "outputs": [
    {
     "data": {
      "text/plain": "'\\nLets you copy files from the notebook into your Google Drive\\nThis is important for the CSVLogger, which tracks the loss and metrics\\n'"
     },
     "execution_count": 5,
     "metadata": {},
     "output_type": "execute_result"
    }
   ],
   "source": [
    "'''\n",
    "Lets you copy files from the notebook into your Google Drive\n",
    "This is important for the CSVLogger, which tracks the loss and metrics\n",
    "'''\n",
    "#from google.colab import drive\n",
    "#drive.mount('/content/drive/')"
   ]
  },
  {
   "cell_type": "code",
   "execution_count": 23,
   "outputs": [],
   "source": [
    "#!pip install numpy\n",
    "#!pip install pandas\n",
    "#!pip install tensorflow\n",
    "#!pip install matplotlib"
   ],
   "metadata": {
    "collapsed": false,
    "pycharm": {
     "name": "#%%\n"
    }
   }
  },
  {
   "cell_type": "code",
   "execution_count": 7,
   "metadata": {
    "collapsed": true,
    "executionInfo": {
     "elapsed": 446,
     "status": "ok",
     "timestamp": 1635880497026,
     "user": {
      "displayName": "Jostein Barry-Straume",
      "photoUrl": "https://lh3.googleusercontent.com/a/default-user=s64",
      "userId": "14559924148079490780"
     },
     "user_tz": 240
    },
    "id": "xenAm3avsJof",
    "scrolled": true
   },
   "outputs": [],
   "source": [
    "import os\n",
    "import math\n",
    "import numpy as np\n",
    "import pandas as pd\n",
    "import tensorflow as tf\n",
    "import matplotlib.pyplot as plt\n",
    "from tensorflow import keras\n",
    "import matplotlib.pyplot as plt\n",
    "from datetime import datetime\n",
    "%matplotlib inline\n",
    "os.environ['TF_CPP_MIN_LOG_LEVEL'] = '2' # Supress INFO and WARNING messages\n",
    "import warnings\n",
    "warnings.filterwarnings('ignore')\n",
    "# https://github.com/BundleOfKent/GradientDescentAnimation_NeuralNetwork/blob/main/NeuralNet_Medium.py"
   ]
  },
  {
   "cell_type": "markdown",
   "metadata": {
    "id": "pcRb-nH5NZQw"
   },
   "source": [
    "## Decouple w/ Sparse Data"
   ]
  },
  {
   "cell_type": "code",
   "execution_count": 8,
   "metadata": {
    "collapsed": true,
    "executionInfo": {
     "elapsed": 2,
     "status": "ok",
     "timestamp": 1635880497327,
     "user": {
      "displayName": "Jostein Barry-Straume",
      "photoUrl": "https://lh3.googleusercontent.com/a/default-user=s64",
      "userId": "14559924148079490780"
     },
     "user_tz": 240
    },
    "id": "Wx5fY4TWNtoE",
    "scrolled": true
   },
   "outputs": [],
   "source": [
    "'''\n",
    "def y_final_time(x):\n",
    "  return np.cos((np.pi / 2) * x)\n",
    "def y_initial_time(x):\n",
    "  return np.zeros_like(x)\n",
    "'''\n",
    "def g_fun(t, x): # This will be in the cost function\n",
    "  return (0.5 * (np.square(u(t,x))))\n",
    "def y_ref(t, x):\n",
    "  # t needs to be a scalar\n",
    "  # x can be a vector\n",
    "  Pi = np.pi\n",
    "  Pi2 = Pi*Pi\n",
    "  Pi3 = Pi2*Pi\n",
    "  Pihalf = Pi/2.0\n",
    "  out = (2.0*(np.exp(-(Pi2*t)) - np.cos(Pihalf*t) + 2.0*Pi*np.sin(Pihalf*t))*np.sin(Pi*x))/(Pi + 4.0*Pi3)\n",
    "  return out\n",
    "  '''\n",
    "  return 10.0*(np.power(np.pi,-2) + (-10.0 + np.pi*np.pi)\\\n",
    "      / (10.0*np.exp((np.pi*np.pi*t)/10.0) * np.pi*np.pi)\\\n",
    "      + np.cos(np.pi*x)/(5.0*np.exp((2.0*np.pi*np.pi*t)/5.0)))\\\n",
    "      * np.sin(np.pi*x)\n",
    "  '''\n",
    "def u_ref(t, x):\n",
    "  return np.sin(np.pi*x) * np.sin(np.pi*t/2.0)"
   ]
  },
  {
   "cell_type": "code",
   "execution_count": 9,
   "metadata": {
    "colab": {
     "base_uri": "https://localhost:8080/",
     "height": 285
    },
    "collapsed": true,
    "executionInfo": {
     "elapsed": 408,
     "status": "ok",
     "timestamp": 1635880498066,
     "user": {
      "displayName": "Jostein Barry-Straume",
      "photoUrl": "https://lh3.googleusercontent.com/a/default-user=s64",
      "userId": "14559924148079490780"
     },
     "user_tz": 240
    },
    "id": "MR5qd3Ztz-h5",
    "outputId": "133ca712-c073-4fbe-cfdd-6574094659e9",
    "scrolled": true
   },
   "outputs": [
    {
     "data": {
      "text/plain": "[<matplotlib.lines.Line2D at 0x2494a0599d0>]"
     },
     "execution_count": 9,
     "metadata": {},
     "output_type": "execute_result"
    },
    {
     "data": {
      "text/plain": "<Figure size 432x288 with 1 Axes>",
      "image/png": "[encoded data removed]"
     },
     "metadata": {
      "needs_background": "light"
     },
     "output_type": "display_data"
    }
   ],
   "source": [
    "x_plot = np.linspace(0,1,100)\n",
    "y_plot = y_ref(1/2, x_plot)\n",
    "plt.plot(x_plot, y_plot)"
   ]
  },
  {
   "cell_type": "markdown",
   "metadata": {
    "id": "26uc2NktZbab"
   },
   "source": [
    "## PINN Model Class"
   ]
  },
  {
   "cell_type": "code",
   "execution_count": 10,
   "metadata": {
    "executionInfo": {
     "elapsed": 374,
     "status": "ok",
     "timestamp": 1635882753782,
     "user": {
      "displayName": "Jostein Barry-Straume",
      "photoUrl": "https://lh3.googleusercontent.com/a/default-user=s64",
      "userId": "14559924148079490780"
     },
     "user_tz": 240
    },
    "id": "W0Vz2TmgwxG9",
    "scrolled": true
   },
   "outputs": [],
   "source": [
    "class PINNModel(keras.Model):\n",
    "  # Initialize the model object\n",
    "  def __init__(self, num_unit=100, debug=0):\n",
    "    super(PINNModel, self).__init__()\n",
    "\n",
    "    # Initialize the model object with the given hyperparameters\n",
    "    #self.num_layer = hparams[HP_NUM_LAYER]\n",
    "    self.num_unit = num_unit\n",
    "    self.debug = debug\n",
    "\n",
    "    self.u = None\n",
    "    self.l = None\n",
    "    self.y = None\n",
    "    self.out = None\n",
    "    self.f = None\n",
    "    self.g = None\n",
    "    self.dydxx = None\n",
    "    self.dydt = None\n",
    "    self.dldt = None\n",
    "    self.dfdy = None\n",
    "    self.dfdu = None\n",
    "    self.dgdy = None\n",
    "    self.dgdu = None\n",
    "    self.pdeLoss = None\n",
    "    self.systemPushBack = None\n",
    "    self.systemControl = None\n",
    "\n",
    "    # Layers of the neural network\n",
    "    # https://github.com/tensorflow/tensorflow/issues/28799\n",
    "    dim = (2,)\n",
    "    dim = np.array(dim)\n",
    "    act = 'elu'\n",
    "    self.input_concat   = keras.layers.Concatenate(axis=1, name = 'input_concat')\n",
    "    self.hidden_layer_1 = keras.layers.Dense(input_shape = dim, units=self.num_unit, name='hidden1', activation=act)\n",
    "    self.hidden_layer_2 = keras.layers.Dense(units=self.num_unit, name='hidden2', activation=act)\n",
    "    self.hidden_layer_3 = keras.layers.Dense(units=self.num_unit, name='hidden3', activation=act)\n",
    "    self.hidden_layer_4 = keras.layers.Dense(units=self.num_unit, name='hidden4', activation=act)\n",
    "    self.hidden_layer_5 = keras.layers.Dense(units=self.num_unit, name='hidden5', activation=act)\n",
    "    self.hidden_layer_6 = keras.layers.Dense(units=self.num_unit, name='hidden6', activation=act)\n",
    "    self.hidden_layer_7 = keras.layers.Dense(units=self.num_unit, name='hidden7', activation=act)\n",
    "    self.hidden_layer_8 = keras.layers.Dense(units=self.num_unit, name='hidden8', activation=act)\n",
    "    self.hidden_layer_9 = keras.layers.Dense(units=self.num_unit, name='hidden9', activation=act)\n",
    "    self.hidden_layer_10 = keras.layers.Dense(units=self.num_unit, name='hidden10', activation=act)\n",
    "    self.output_u_tilde = keras.layers.Dense(1, name='output_u_tilde')\n",
    "    self.output_l_tilde = keras.layers.Dense(1, name='output_l_tilde')\n",
    "    self.output_y_tilde = keras.layers.Dense(1, name='output_y_tilde')\n",
    "    self.y_concat       = keras.layers.Concatenate(axis=1, name = 'y_concat')\n",
    "    self.l_concat       = keras.layers.Concatenate(axis=1, name = 'l_concat')\n",
    "    self.u_concat       = keras.layers.Concatenate(axis=1, name = 'u_concat')\n",
    "    self.output_concat  = keras.layers.Concatenate(axis=1,  name = 'output_concat')\n",
    "\n",
    "  def get_config(self):\n",
    "    cfg = super().get_config()\n",
    "    return cfg\n",
    "\n",
    "  @classmethod\n",
    "  def from_config(cls, config):\n",
    "    return cls(**config)\n",
    "\n",
    "  # Running the model\n",
    "  def call(self, t, x):\n",
    "    with tf.GradientTape(persistent=True) as tape, tf.GradientTape(persistent=True) as tape2:\n",
    "      tape.watch(t)\n",
    "      tape.watch(x)\n",
    "        \n",
    "      tx       = self.input_concat([t, x])\n",
    "      h1       = self.hidden_layer_1(tx)\n",
    "      h2       = self.hidden_layer_2(h1)\n",
    "      h3       = self.hidden_layer_3(h2)\n",
    "      h4       = self.hidden_layer_4(h3)\n",
    "      h5       = self.hidden_layer_5(h4)\n",
    "      y        = self.output_y_tilde(h5)\n",
    "      u_input  = self.u_concat([y, h5])\n",
    "      h6       = self.hidden_layer_6(u_input)\n",
    "      h7       = self.hidden_layer_7(h6)\n",
    "      h8       = self.hidden_layer_8(h7)\n",
    "      u        = self.output_u_tilde(h8)\n",
    "      l_input  = self.l_concat([y, u, h8])\n",
    "      h9       = self.hidden_layer_9(l_input)\n",
    "      h10      = self.hidden_layer_10(h9)\n",
    "      l        = self.output_l_tilde(h10)\n",
    "      out      = self.output_concat([y, l,  u])\n",
    "      g        = tf.multiply(0.5, tf.square(u))\n",
    "\n",
    "      dydx  = tape.gradient(y, x)\n",
    "      dydxx = tape.gradient(dydx, x)\n",
    "      f     = tf.add(u, tf.multiply(1.0,dydxx))\n",
    "      #print('f: ', f)\n",
    "      dfdy  = tape.gradient(f, y) # Derivative of f(y(t),u(t)) w.r.t. y\n",
    "      #print('dfdy: ', dfdy)\n",
    "      dydt  = tape.gradient(y, t) # Derivative of y w.r.t. t\n",
    "      dldt  = tape.gradient(l, t) # Derivative of lambda (l) w.r.t. t\n",
    " \n",
    "      dfdu  = tape.gradient(f, u) # Derivative of f(y(t),u(t)) w.r.t. u\n",
    "      dgdy  = tape.gradient(g, y) # Derivative of g(y(t),u(t)) w.r.t. y\n",
    "      dgdu  = tape.gradient(g, u) # Derivative of g(y(t),u(t)) w.r.t. u\n",
    "      \n",
    "      # Store various information in the model\n",
    "      self.u = u\n",
    "      self.l = l\n",
    "      self.y = y\n",
    "      self.f = f\n",
    "      self.g = g\n",
    "      self.dydx = dydx\n",
    "      self.dydxx = dydxx\n",
    "      self.dydt = dydt\n",
    "      self.dldt = dldt\n",
    "      self.dfdy = dfdy\n",
    "      self.dfdu = dfdu\n",
    "      self.dgdy = dgdy\n",
    "      self.dgdu = dgdu\n",
    "\n",
    "    # Fourth term of extended loss function\n",
    "    pdeLoss = tf.subtract(dydt, f)\n",
    "    pdeLoss = tf.reduce_sum(tf.square(pdeLoss))\n",
    "    self.add_loss(pdeLoss)\n",
    "    self.pdeLoss = pdeLoss\n",
    "\n",
    "    # Fifth term of extended loss function\n",
    "    systemPushBack = tf.add(dldt, tf.multiply(dfdy, l))\n",
    "    systemPushBack = tf.add(systemPushBack, dgdy)\n",
    "    systemPushBack = tf.reduce_sum(tf.square(systemPushBack))\n",
    "    self.add_loss(systemPushBack)\n",
    "    self.systemPushBack = systemPushBack\n",
    "\n",
    "    # Sixth term of extended loss function\n",
    "    systemControl = tf.add(tf.multiply(dfdu, l), dgdu)\n",
    "    systemControl = tf.reduce_sum(tf.square(systemControl))\n",
    "    self.add_loss(systemControl)\n",
    "    self.systemControl = systemControl\n",
    "\n",
    "    if (self.debug == 0):\n",
    "      print('syspushback: ', systemPushBack)\n",
    "      print('syscontrol: ', systemControl)\n",
    "      print('pdeloss: ', pdeLoss)\n",
    "  \n",
    "    return out\n",
    "\n",
    "  def calc_costs(self, t):\n",
    "    warnings.filterwarnings('ignore')\n",
    "    t = tf.constant(np.asarray(t).reshape(-1,1))\n",
    "    self.store_derivatives(t)\n",
    "    print(\n",
    "        f'Custom Loss Components:\\n'\n",
    "        f'pdeLoss: {self.pdeLoss}, \\n'\n",
    "        f'systemPushBack: {self.systemPushBack}, \\n'\n",
    "        f'systemControl: {self.systemControl}, \\n'\n",
    "    )\n",
    "    return [self.pdeLoss, self.systemPushBack, self.systemControl]\n",
    "  \n",
    "\n"
   ]
  },
  {
   "cell_type": "code",
   "execution_count": 11,
   "metadata": {
    "executionInfo": {
     "elapsed": 1,
     "status": "ok",
     "timestamp": 1635882754515,
     "user": {
      "displayName": "Jostein Barry-Straume",
      "photoUrl": "https://lh3.googleusercontent.com/a/default-user=s64",
      "userId": "14559924148079490780"
     },
     "user_tz": 240
    },
    "id": "e8el7JjkR1I3",
    "scrolled": true
   },
   "outputs": [],
   "source": [
    "def dummy_loss(y, yt):\n",
    "  return tf.reduce_sum(tf.square(tf.subtract(y,yt)))\n",
    "model = PINNModel()\n",
    "optim  =  keras.optimizers.Adam(lr=1e-3)\n",
    "model.compile(optimizer = optim , loss = keras.losses.MSE, metrics = keras.metrics.MSE)\n",
    "import warnings \n",
    "warnings.filterwarnings('ignore')\n",
    "# Instantiate an optimizer.\n",
    "optimizer = tf.keras.optimizers.Adam(learning_rate=1e-3) # TODO: Change to adaptive and smaller step size\n",
    "loss_fn = tf.keras.losses.MSE\n",
    "loss_fn = dummy_loss"
   ]
  },
  {
   "cell_type": "code",
   "execution_count": 12,
   "metadata": {
    "colab": {
     "base_uri": "https://localhost:8080/"
    },
    "executionInfo": {
     "elapsed": 341864,
     "status": "ok",
     "timestamp": 1635883097134,
     "user": {
      "displayName": "Jostein Barry-Straume",
      "photoUrl": "https://lh3.googleusercontent.com/a/default-user=s64",
      "userId": "14559924148079490780"
     },
     "user_tz": 240
    },
    "id": "tbDUztpnf_uH",
    "outputId": "a87964de-ffcc-40ff-fae7-1b11ae69f45b",
    "scrolled": false
   },
   "outputs": [
    {
     "name": "stdout",
     "output_type": "stream",
     "text": [
      "WARNING:tensorflow:Calling GradientTape.gradient on a persistent tape inside its context is significantly less efficient than calling it outside the context (it causes the gradient ops to be recorded on the tape, leading to increased CPU and memory usage). Only call GradientTape.gradient inside the context if you actually want to trace the gradient in order to compute higher order derivatives.\n",
      "WARNING:tensorflow:Calling GradientTape.gradient on a persistent tape inside its context is significantly less efficient than calling it outside the context (it causes the gradient ops to be recorded on the tape, leading to increased CPU and memory usage). Only call GradientTape.gradient inside the context if you actually want to trace the gradient in order to compute higher order derivatives.\n",
      "WARNING:tensorflow:Calling GradientTape.gradient on a persistent tape inside its context is significantly less efficient than calling it outside the context (it causes the gradient ops to be recorded on the tape, leading to increased CPU and memory usage). Only call GradientTape.gradient inside the context if you actually want to trace the gradient in order to compute higher order derivatives.\n",
      "WARNING:tensorflow:Calling GradientTape.gradient on a persistent tape inside its context is significantly less efficient than calling it outside the context (it causes the gradient ops to be recorded on the tape, leading to increased CPU and memory usage). Only call GradientTape.gradient inside the context if you actually want to trace the gradient in order to compute higher order derivatives.\n",
      "WARNING:tensorflow:Calling GradientTape.gradient on a persistent tape inside its context is significantly less efficient than calling it outside the context (it causes the gradient ops to be recorded on the tape, leading to increased CPU and memory usage). Only call GradientTape.gradient inside the context if you actually want to trace the gradient in order to compute higher order derivatives.\n",
      "WARNING:tensorflow:Calling GradientTape.gradient on a persistent tape inside its context is significantly less efficient than calling it outside the context (it causes the gradient ops to be recorded on the tape, leading to increased CPU and memory usage). Only call GradientTape.gradient inside the context if you actually want to trace the gradient in order to compute higher order derivatives.\n",
      "WARNING:tensorflow:Calling GradientTape.gradient on a persistent tape inside its context is significantly less efficient than calling it outside the context (it causes the gradient ops to be recorded on the tape, leading to increased CPU and memory usage). Only call GradientTape.gradient inside the context if you actually want to trace the gradient in order to compute higher order derivatives.\n",
      "WARNING:tensorflow:Calling GradientTape.gradient on a persistent tape inside its context is significantly less efficient than calling it outside the context (it causes the gradient ops to be recorded on the tape, leading to increased CPU and memory usage). Only call GradientTape.gradient inside the context if you actually want to trace the gradient in order to compute higher order derivatives.\n",
      "Epoch 1, Step 0, Total Loss: 24.495712280273438, PINN Loss: 7.754806995391846\n",
      "Epoch 2, Step 0, Total Loss: 301.37158203125, PINN Loss: 59.148223876953125\n",
      "Epoch 3, Step 0, Total Loss: 31.11214828491211, PINN Loss: 5.24199104309082\n",
      "Epoch 4, Step 0, Total Loss: 75.49247741699219, PINN Loss: 11.608888626098633\n",
      "Epoch 5, Step 0, Total Loss: 133.43893432617188, PINN Loss: 16.63235092163086\n",
      "Epoch 6, Step 0, Total Loss: 86.04097747802734, PINN Loss: 9.681673049926758\n",
      "Epoch 7, Step 0, Total Loss: 24.95975685119629, PINN Loss: 4.87410831451416\n",
      "Epoch 8, Step 0, Total Loss: 9.724164009094238, PINN Loss: 5.6921210289001465\n",
      "Epoch 9, Step 0, Total Loss: 29.744853973388672, PINN Loss: 8.269786834716797\n",
      "Epoch 10, Step 0, Total Loss: 48.424468994140625, PINN Loss: 9.395397186279297\n",
      "Epoch 11, Step 0, Total Loss: 43.86040496826172, PINN Loss: 9.706405639648438\n",
      "Epoch 12, Step 0, Total Loss: 27.283185958862305, PINN Loss: 9.08922004699707\n",
      "Epoch 13, Step 0, Total Loss: 11.522868156433105, PINN Loss: 7.3459367752075195\n",
      "Epoch 14, Step 0, Total Loss: 5.494301795959473, PINN Loss: 5.191666603088379\n",
      "Epoch 15, Step 0, Total Loss: 8.39419174194336, PINN Loss: 3.3046512603759766\n",
      "Epoch 16, Step 0, Total Loss: 14.934906959533691, PINN Loss: 2.435393810272217\n",
      "Epoch 17, Step 0, Total Loss: 19.23957061767578, PINN Loss: 2.8693387508392334\n",
      "Epoch 18, Step 0, Total Loss: 18.771482467651367, PINN Loss: 4.074601650238037\n",
      "Epoch 19, Step 0, Total Loss: 15.208431243896484, PINN Loss: 5.038973808288574\n",
      "Epoch 20, Step 0, Total Loss: 9.493874549865723, PINN Loss: 4.971264362335205\n",
      "Epoch 21, Step 0, Total Loss: 5.1742262840271, PINN Loss: 4.366178035736084\n",
      "Epoch 22, Step 0, Total Loss: 3.2471559047698975, PINN Loss: 3.4935193061828613\n",
      "Epoch 23, Step 0, Total Loss: 3.7354023456573486, PINN Loss: 2.6329309940338135\n",
      "Epoch 24, Step 0, Total Loss: 5.92178201675415, PINN Loss: 2.0479235649108887\n",
      "Epoch 25, Step 0, Total Loss: 7.870544910430908, PINN Loss: 1.551573395729065\n",
      "Epoch 26, Step 0, Total Loss: 8.923041343688965, PINN Loss: 1.2657990455627441\n",
      "Epoch 27, Step 0, Total Loss: 8.016633033752441, PINN Loss: 1.1376744508743286\n",
      "Epoch 28, Step 0, Total Loss: 6.4071946144104, PINN Loss: 1.1904829740524292\n",
      "Epoch 29, Step 0, Total Loss: 4.526655673980713, PINN Loss: 1.3273359537124634\n",
      "Epoch 30, Step 0, Total Loss: 3.1206307411193848, PINN Loss: 1.4896177053451538\n",
      "Epoch 31, Step 0, Total Loss: 2.559231996536255, PINN Loss: 1.5538796186447144\n",
      "Epoch 32, Step 0, Total Loss: 2.73583722114563, PINN Loss: 1.501095175743103\n",
      "Epoch 33, Step 0, Total Loss: 3.4737696647644043, PINN Loss: 1.276186227798462\n",
      "Epoch 34, Step 0, Total Loss: 4.373176574707031, PINN Loss: 0.9687191247940063\n",
      "Epoch 35, Step 0, Total Loss: 4.740001201629639, PINN Loss: 0.6822810173034668\n",
      "Epoch 36, Step 0, Total Loss: 4.829518795013428, PINN Loss: 0.5142853260040283\n",
      "Epoch 37, Step 0, Total Loss: 4.196439266204834, PINN Loss: 0.4496648609638214\n",
      "Epoch 38, Step 0, Total Loss: 3.4419870376586914, PINN Loss: 0.45477885007858276\n",
      "Epoch 39, Step 0, Total Loss: 2.7137222290039062, PINN Loss: 0.4885869324207306\n",
      "Epoch 40, Step 0, Total Loss: 2.4643912315368652, PINN Loss: 0.5069199800491333\n",
      "Epoch 41, Step 0, Total Loss: 2.36861515045166, PINN Loss: 0.4743950664997101\n",
      "Epoch 42, Step 0, Total Loss: 2.645948648452759, PINN Loss: 0.4319709241390228\n",
      "Epoch 43, Step 0, Total Loss: 2.9036543369293213, PINN Loss: 0.3889000713825226\n",
      "Epoch 44, Step 0, Total Loss: 3.1267573833465576, PINN Loss: 0.36015570163726807\n",
      "Epoch 45, Step 0, Total Loss: 3.2807791233062744, PINN Loss: 0.35262954235076904\n",
      "Epoch 46, Step 0, Total Loss: 3.0383708477020264, PINN Loss: 0.33810824155807495\n",
      "Epoch 47, Step 0, Total Loss: 2.884404182434082, PINN Loss: 0.32763922214508057\n",
      "Epoch 48, Step 0, Total Loss: 2.5688419342041016, PINN Loss: 0.2984573543071747\n",
      "Epoch 49, Step 0, Total Loss: 2.413419723510742, PINN Loss: 0.2799813151359558\n",
      "Epoch 50, Step 0, Total Loss: 2.403332471847534, PINN Loss: 0.25193148851394653\n",
      "Epoch 51, Step 0, Total Loss: 2.3817787170410156, PINN Loss: 0.24459022283554077\n",
      "Epoch 52, Step 0, Total Loss: 2.438826560974121, PINN Loss: 0.24288001656532288\n",
      "Epoch 53, Step 0, Total Loss: 2.5786774158477783, PINN Loss: 0.2403871715068817\n",
      "Epoch 54, Step 0, Total Loss: 2.551046848297119, PINN Loss: 0.21842323243618011\n",
      "Epoch 55, Step 0, Total Loss: 2.5860226154327393, PINN Loss: 0.18404918909072876\n",
      "Epoch 56, Step 0, Total Loss: 2.5697550773620605, PINN Loss: 0.14109240472316742\n",
      "Epoch 57, Step 0, Total Loss: 2.383843183517456, PINN Loss: 0.10655966401100159\n",
      "Epoch 58, Step 0, Total Loss: 2.351618528366089, PINN Loss: 0.08950625360012054\n",
      "Epoch 59, Step 0, Total Loss: 2.321565866470337, PINN Loss: 0.0997144877910614\n",
      "Epoch 60, Step 0, Total Loss: 2.234792947769165, PINN Loss: 0.11991583555936813\n",
      "Epoch 61, Step 0, Total Loss: 2.27876353263855, PINN Loss: 0.14379973709583282\n",
      "Epoch 62, Step 0, Total Loss: 2.289558172225952, PINN Loss: 0.15430131554603577\n",
      "Epoch 63, Step 0, Total Loss: 2.219165802001953, PINN Loss: 0.1583031862974167\n",
      "Epoch 64, Step 0, Total Loss: 2.312673807144165, PINN Loss: 0.13458646833896637\n",
      "Epoch 65, Step 0, Total Loss: 2.2415452003479004, PINN Loss: 0.13157132267951965\n",
      "Epoch 66, Step 0, Total Loss: 2.31837797164917, PINN Loss: 0.10875139385461807\n",
      "Epoch 67, Step 0, Total Loss: 2.1906275749206543, PINN Loss: 0.105777807533741\n",
      "Epoch 68, Step 0, Total Loss: 2.153884172439575, PINN Loss: 0.10792134702205658\n",
      "Epoch 69, Step 0, Total Loss: 2.185131072998047, PINN Loss: 0.11545014381408691\n",
      "Epoch 70, Step 0, Total Loss: 2.083725690841675, PINN Loss: 0.11844156682491302\n",
      "Epoch 71, Step 0, Total Loss: 2.134047746658325, PINN Loss: 0.10719681531190872\n",
      "Epoch 72, Step 0, Total Loss: 2.182551145553589, PINN Loss: 0.09465763717889786\n",
      "Epoch 73, Step 0, Total Loss: 2.083653211593628, PINN Loss: 0.08212150633335114\n",
      "Epoch 74, Step 0, Total Loss: 2.110018730163574, PINN Loss: 0.0857805460691452\n",
      "Epoch 75, Step 0, Total Loss: 2.217447519302368, PINN Loss: 0.09364379942417145\n",
      "Epoch 76, Step 0, Total Loss: 2.10274076461792, PINN Loss: 0.10828347504138947\n",
      "Epoch 77, Step 0, Total Loss: 2.117948055267334, PINN Loss: 0.11099086701869965\n",
      "Epoch 78, Step 0, Total Loss: 2.152249574661255, PINN Loss: 0.10662242770195007\n",
      "Epoch 79, Step 0, Total Loss: 2.0693793296813965, PINN Loss: 0.09500279277563095\n",
      "Epoch 80, Step 0, Total Loss: 2.1619198322296143, PINN Loss: 0.08230192214250565\n",
      "Epoch 81, Step 0, Total Loss: 2.1210622787475586, PINN Loss: 0.07884301990270615\n",
      "Epoch 82, Step 0, Total Loss: 2.1051695346832275, PINN Loss: 0.09633384644985199\n",
      "Epoch 83, Step 0, Total Loss: 2.13077449798584, PINN Loss: 0.10863156616687775\n",
      "Epoch 84, Step 0, Total Loss: 2.1460165977478027, PINN Loss: 0.11608593165874481\n",
      "Epoch 85, Step 0, Total Loss: 2.0679757595062256, PINN Loss: 0.12043006718158722\n",
      "Epoch 86, Step 0, Total Loss: 2.0690948963165283, PINN Loss: 0.11336708068847656\n",
      "Epoch 87, Step 0, Total Loss: 2.066286325454712, PINN Loss: 0.09424751996994019\n",
      "Epoch 88, Step 0, Total Loss: 2.0733940601348877, PINN Loss: 0.08879750221967697\n",
      "Epoch 89, Step 0, Total Loss: 2.1453142166137695, PINN Loss: 0.08545313775539398\n",
      "Epoch 90, Step 0, Total Loss: 1.9487555027008057, PINN Loss: 0.10229595005512238\n",
      "Epoch 91, Step 0, Total Loss: 2.0177981853485107, PINN Loss: 0.10751250386238098\n",
      "Epoch 92, Step 0, Total Loss: 2.013735771179199, PINN Loss: 0.12262600660324097\n",
      "Epoch 93, Step 0, Total Loss: 2.014845132827759, PINN Loss: 0.11884807795286179\n",
      "Epoch 94, Step 0, Total Loss: 2.0261030197143555, PINN Loss: 0.10827942937612534\n",
      "Epoch 95, Step 0, Total Loss: 2.042938470840454, PINN Loss: 0.10500220209360123\n",
      "Epoch 96, Step 0, Total Loss: 1.9674221277236938, PINN Loss: 0.10355081409215927\n",
      "Epoch 97, Step 0, Total Loss: 1.9292744398117065, PINN Loss: 0.11145253479480743\n",
      "Epoch 98, Step 0, Total Loss: 1.9346967935562134, PINN Loss: 0.11334297806024551\n",
      "Epoch 99, Step 0, Total Loss: 1.952964425086975, PINN Loss: 0.1296517252922058\n",
      "Epoch 100, Step 0, Total Loss: 1.928876280784607, PINN Loss: 0.1338040679693222\n",
      "Epoch 101, Step 0, Total Loss: 1.898025631904602, PINN Loss: 0.125164195895195\n",
      "Epoch 102, Step 0, Total Loss: 1.831961750984192, PINN Loss: 0.11748034507036209\n",
      "Epoch 103, Step 0, Total Loss: 1.8849635124206543, PINN Loss: 0.1271011233329773\n",
      "Epoch 104, Step 0, Total Loss: 1.8145872354507446, PINN Loss: 0.1252308338880539\n",
      "Epoch 105, Step 0, Total Loss: 1.9269118309020996, PINN Loss: 0.13428081572055817\n",
      "Epoch 106, Step 0, Total Loss: 1.9400995969772339, PINN Loss: 0.14527013897895813\n",
      "Epoch 107, Step 0, Total Loss: 1.8525168895721436, PINN Loss: 0.1477048248052597\n",
      "Epoch 108, Step 0, Total Loss: 1.8804821968078613, PINN Loss: 0.1456669420003891\n",
      "Epoch 109, Step 0, Total Loss: 1.7744752168655396, PINN Loss: 0.15799130499362946\n",
      "Epoch 110, Step 0, Total Loss: 1.8105682134628296, PINN Loss: 0.15139804780483246\n",
      "Epoch 111, Step 0, Total Loss: 1.8201395273208618, PINN Loss: 0.15020661056041718\n",
      "Epoch 112, Step 0, Total Loss: 1.8608331680297852, PINN Loss: 0.170900359749794\n",
      "Epoch 113, Step 0, Total Loss: 1.7718348503112793, PINN Loss: 0.14948058128356934\n",
      "Epoch 114, Step 0, Total Loss: 1.7862310409545898, PINN Loss: 0.15546342730522156\n",
      "Epoch 115, Step 0, Total Loss: 1.7745554447174072, PINN Loss: 0.17098510265350342\n",
      "Epoch 116, Step 0, Total Loss: 1.8057442903518677, PINN Loss: 0.169623002409935\n",
      "Epoch 117, Step 0, Total Loss: 1.816169261932373, PINN Loss: 0.1738995611667633\n",
      "Epoch 118, Step 0, Total Loss: 1.7660348415374756, PINN Loss: 0.18156437575817108\n",
      "Epoch 119, Step 0, Total Loss: 1.7491220235824585, PINN Loss: 0.19087962806224823\n",
      "Epoch 120, Step 0, Total Loss: 1.7560579776763916, PINN Loss: 0.1922103464603424\n",
      "Epoch 121, Step 0, Total Loss: 1.679109811782837, PINN Loss: 0.20070722699165344\n",
      "Epoch 122, Step 0, Total Loss: 1.7815097570419312, PINN Loss: 0.21124443411827087\n",
      "Epoch 123, Step 0, Total Loss: 1.6941993236541748, PINN Loss: 0.21443116664886475\n",
      "Epoch 124, Step 0, Total Loss: 1.7790671586990356, PINN Loss: 0.22372667491436005\n",
      "Epoch 125, Step 0, Total Loss: 1.662536859512329, PINN Loss: 0.21275165677070618\n",
      "Epoch 126, Step 0, Total Loss: 1.7364635467529297, PINN Loss: 0.23269015550613403\n",
      "Epoch 127, Step 0, Total Loss: 1.6262396574020386, PINN Loss: 0.22694477438926697\n",
      "Epoch 128, Step 0, Total Loss: 1.6964235305786133, PINN Loss: 0.23979780077934265\n",
      "Epoch 129, Step 0, Total Loss: 1.6594411134719849, PINN Loss: 0.2342061549425125\n",
      "Epoch 130, Step 0, Total Loss: 1.664281964302063, PINN Loss: 0.25925683975219727\n",
      "Epoch 131, Step 0, Total Loss: 1.6336605548858643, PINN Loss: 0.25498536229133606\n",
      "Epoch 132, Step 0, Total Loss: 1.61055326461792, PINN Loss: 0.25419852137565613\n",
      "Epoch 133, Step 0, Total Loss: 1.6519315242767334, PINN Loss: 0.24324634671211243\n",
      "Epoch 134, Step 0, Total Loss: 1.6028070449829102, PINN Loss: 0.2539096772670746\n",
      "Epoch 135, Step 0, Total Loss: 1.6179511547088623, PINN Loss: 0.2792265713214874\n",
      "Epoch 136, Step 0, Total Loss: 1.6181936264038086, PINN Loss: 0.29158923029899597\n",
      "Epoch 137, Step 0, Total Loss: 1.587679147720337, PINN Loss: 0.28251996636390686\n",
      "Epoch 138, Step 0, Total Loss: 1.5560559034347534, PINN Loss: 0.30263063311576843\n",
      "Epoch 139, Step 0, Total Loss: 1.54470694065094, PINN Loss: 0.3259944021701813\n",
      "Epoch 140, Step 0, Total Loss: 1.573346495628357, PINN Loss: 0.3098514974117279\n",
      "Epoch 141, Step 0, Total Loss: 1.5083898305892944, PINN Loss: 0.3375129699707031\n",
      "Epoch 142, Step 0, Total Loss: 1.5094084739685059, PINN Loss: 0.3165223002433777\n",
      "Epoch 143, Step 0, Total Loss: 1.5554717779159546, PINN Loss: 0.31701916456222534\n",
      "Epoch 144, Step 0, Total Loss: 1.5559625625610352, PINN Loss: 0.35162314772605896\n",
      "Epoch 145, Step 0, Total Loss: 1.5332119464874268, PINN Loss: 0.38220158219337463\n",
      "Epoch 146, Step 0, Total Loss: 1.565398097038269, PINN Loss: 0.3613700568675995\n",
      "Epoch 147, Step 0, Total Loss: 1.4854942560195923, PINN Loss: 0.3708399534225464\n",
      "Epoch 148, Step 0, Total Loss: 1.471065640449524, PINN Loss: 0.36217397451400757\n",
      "Epoch 149, Step 0, Total Loss: 1.4801346063613892, PINN Loss: 0.35898423194885254\n",
      "Epoch 150, Step 0, Total Loss: 1.4973245859146118, PINN Loss: 0.3987463712692261\n",
      "Epoch 151, Step 0, Total Loss: 1.458579659461975, PINN Loss: 0.41620224714279175\n",
      "Epoch 152, Step 0, Total Loss: 1.4245002269744873, PINN Loss: 0.40178388357162476\n",
      "Epoch 153, Step 0, Total Loss: 1.4530574083328247, PINN Loss: 0.4156791865825653\n",
      "Epoch 154, Step 0, Total Loss: 1.3487244844436646, PINN Loss: 0.4167240262031555\n",
      "Epoch 155, Step 0, Total Loss: 1.419248104095459, PINN Loss: 0.45586973428726196\n",
      "Epoch 156, Step 0, Total Loss: 1.3545187711715698, PINN Loss: 0.4880358576774597\n",
      "Epoch 157, Step 0, Total Loss: 1.3692280054092407, PINN Loss: 0.47465360164642334\n",
      "Epoch 158, Step 0, Total Loss: 1.3911418914794922, PINN Loss: 0.45940032601356506\n",
      "Epoch 159, Step 0, Total Loss: 1.3487213850021362, PINN Loss: 0.4617244601249695\n",
      "Epoch 160, Step 0, Total Loss: 1.3748009204864502, PINN Loss: 0.5062957406044006\n",
      "Epoch 161, Step 0, Total Loss: 1.336018443107605, PINN Loss: 0.5224357843399048\n",
      "Epoch 162, Step 0, Total Loss: 1.3403044939041138, PINN Loss: 0.552889883518219\n",
      "Epoch 163, Step 0, Total Loss: 1.371630311012268, PINN Loss: 0.5221206545829773\n",
      "Epoch 164, Step 0, Total Loss: 1.2708708047866821, PINN Loss: 0.5935909748077393\n",
      "Epoch 165, Step 0, Total Loss: 1.2683979272842407, PINN Loss: 0.6029086112976074\n",
      "Epoch 166, Step 0, Total Loss: 1.27921462059021, PINN Loss: 0.564616322517395\n",
      "Epoch 167, Step 0, Total Loss: 1.2753561735153198, PINN Loss: 0.6159989237785339\n",
      "Epoch 168, Step 0, Total Loss: 1.2242488861083984, PINN Loss: 0.5959013104438782\n",
      "Epoch 169, Step 0, Total Loss: 1.2399921417236328, PINN Loss: 0.6363019943237305\n",
      "Epoch 170, Step 0, Total Loss: 1.2129218578338623, PINN Loss: 0.6330020427703857\n",
      "Epoch 171, Step 0, Total Loss: 1.2137306928634644, PINN Loss: 0.6529532670974731\n",
      "Epoch 172, Step 0, Total Loss: 1.180139183998108, PINN Loss: 0.70262610912323\n",
      "Epoch 173, Step 0, Total Loss: 1.213693380355835, PINN Loss: 0.7210544943809509\n",
      "Epoch 174, Step 0, Total Loss: 1.133347511291504, PINN Loss: 0.7126153111457825\n",
      "Epoch 175, Step 0, Total Loss: 1.1164685487747192, PINN Loss: 0.7281553149223328\n",
      "Epoch 176, Step 0, Total Loss: 1.1435707807540894, PINN Loss: 0.7046431303024292\n",
      "Epoch 177, Step 0, Total Loss: 1.10011625289917, PINN Loss: 0.7736716866493225\n",
      "Epoch 178, Step 0, Total Loss: 1.0951547622680664, PINN Loss: 0.7443752288818359\n",
      "Epoch 179, Step 0, Total Loss: 1.1152139902114868, PINN Loss: 0.8141179084777832\n",
      "Epoch 180, Step 0, Total Loss: 1.0682117938995361, PINN Loss: 0.8525465130805969\n",
      "Epoch 181, Step 0, Total Loss: 1.0915755033493042, PINN Loss: 0.89349365234375\n",
      "Epoch 182, Step 0, Total Loss: 1.0530269145965576, PINN Loss: 0.852239191532135\n",
      "Epoch 183, Step 0, Total Loss: 1.0550755262374878, PINN Loss: 0.9150297045707703\n",
      "Epoch 184, Step 0, Total Loss: 1.0205450057983398, PINN Loss: 0.944969654083252\n",
      "Epoch 185, Step 0, Total Loss: 1.0114725828170776, PINN Loss: 0.969149112701416\n",
      "Epoch 186, Step 0, Total Loss: 1.0010571479797363, PINN Loss: 0.9500901699066162\n",
      "Epoch 187, Step 0, Total Loss: 1.0245181322097778, PINN Loss: 1.000675082206726\n",
      "Epoch 188, Step 0, Total Loss: 0.99626225233078, PINN Loss: 1.074628472328186\n",
      "Epoch 189, Step 0, Total Loss: 0.9852508306503296, PINN Loss: 1.117737889289856\n",
      "Epoch 190, Step 0, Total Loss: 0.9892973303794861, PINN Loss: 1.0056673288345337\n",
      "Epoch 191, Step 0, Total Loss: 0.9147970676422119, PINN Loss: 1.043250560760498\n",
      "Epoch 192, Step 0, Total Loss: 0.9655150175094604, PINN Loss: 0.9954537153244019\n",
      "Epoch 193, Step 0, Total Loss: 0.9291905164718628, PINN Loss: 1.1804096698760986\n",
      "Epoch 194, Step 0, Total Loss: 0.9235082268714905, PINN Loss: 1.2684558629989624\n",
      "Epoch 195, Step 0, Total Loss: 0.8910778164863586, PINN Loss: 1.2871859073638916\n",
      "Epoch 196, Step 0, Total Loss: 0.8949950337409973, PINN Loss: 1.2372105121612549\n",
      "Epoch 197, Step 0, Total Loss: 0.8756063580513, PINN Loss: 1.2411248683929443\n",
      "Epoch 198, Step 0, Total Loss: 0.8661490678787231, PINN Loss: 1.2127306461334229\n",
      "Epoch 199, Step 0, Total Loss: 0.8741760849952698, PINN Loss: 1.3563259840011597\n",
      "Epoch 200, Step 0, Total Loss: 0.842384934425354, PINN Loss: 1.3809987306594849\n"
     ]
    }
   ],
   "source": [
    "optimizer.learning_rate.assign(1e-3)\n",
    "#loss_fn = dummy_loss\n",
    "epochs              = 200\n",
    "steps               = 1\n",
    "model.debug         = 1\n",
    "innerIterations     = 1\n",
    "t_initial = 0.0\n",
    "t_final = 1.0\n",
    "x_initial = 0.0\n",
    "x_final = 1.0\n",
    "\n",
    "num_x_points = 1000\n",
    "num_t_points = num_x_points\n",
    "batchSize = num_x_points\n",
    "w_pdeLoss = 1e-1\n",
    "w_systemPushback = 1e-1\n",
    "w_systemControl = 1e-1\n",
    "\n",
    "for epoch in range(epochs):\n",
    "  # Iterate over the batches of a dataset.\n",
    "\n",
    "  for step in range(steps):\n",
    "    \n",
    "    #Space batch points\n",
    "    x_batch_train = np.random.uniform(x_initial, x_final, num_x_points).astype('float32')\n",
    "    # Final time\n",
    "    y_final_time_train = y_ref(t_final, x_batch_train)\n",
    "    # Initial time\n",
    "    y_initial_time_train = y_ref(t_initial, x_batch_train)\n",
    "    \n",
    "    # Time batch points\n",
    "    t_batch_train = np.random.uniform(t_initial, t_final, num_t_points).astype('float32')\n",
    "    \n",
    "    with tf.GradientTape() as tape1:\n",
    "        \n",
    "      # Boundary Condition 1\n",
    "      bc_1_t = tf.reshape(tf.constant(t_batch_train, dtype='float32'), (-1,1))\n",
    "      bc_1_x = tf.reshape(tf.constant(np.repeat(x_initial, num_t_points), dtype='float32'), (-1,1))\n",
    "      \n",
    "      \n",
    "      \n",
    "      out = model(bc_1_t, bc_1_x)\n",
    "    \n",
    "      loss_value_at_bc1 = tf.reduce_sum(\n",
    "          loss_fn(np.zeros((1,num_t_points), dtype='float32'), out[:,0]))\n",
    "      \n",
    "      # Boundary Condition 2\n",
    "      bc_2_t = tf.reshape(tf.constant(t_batch_train, dtype='float32'), (-1,1))\n",
    "      bc_2_x = tf.reshape(tf.constant(np.repeat(x_final, num_t_points), dtype='float32'), (-1,1))\n",
    "      \n",
    "      out = model(bc_2_t, bc_2_x)\n",
    "      loss_value_at_bc2 = tf.reduce_sum(\n",
    "          loss_fn(np.zeros((1,num_t_points), dtype='float32'), out[:,0]))\n",
    "\n",
    "            \n",
    "      # Final Time\n",
    "      out = model(tf.reshape(tf.constant(np.repeat(t_final, num_x_points)), (-1,1)),\n",
    "                  tf.reshape(tf.constant(x_batch_train), (-1,1)))\n",
    "      loss_value_at_final_time = tf.reduce_sum(loss_fn(y_final_time_train,\n",
    "                                                       out[:,0]))\n",
    "    \n",
    "      \n",
    "      \n",
    "#       plt.scatter(x_batch_train, y_final_time_train)\n",
    "#       break\n",
    "      # Initial Time\n",
    "      out = model(tf.reshape(tf.constant(np.repeat(t_initial, num_x_points)),(-1,1)),\n",
    "                  tf.reshape(x_batch_train,(-1,1)))\n",
    "      loss_value_at_initial_time = tf.reduce_sum(loss_fn(y_initial_time_train,\n",
    "                                                         out[:,0])) # Does this output all batches?\n",
    "      \n",
    "      loss_value = loss_value_at_final_time\\\n",
    "                 + loss_value_at_initial_time\\\n",
    "                 + loss_value_at_bc1\\\n",
    "                 + loss_value_at_bc2\n",
    "        \n",
    "\n",
    "      # Add extra losses created during this forward pass:\n",
    "      pinnloss = model.losses[0] * w_pdeLoss\\\n",
    "               + model.losses[1] * w_systemPushback\\\n",
    "               + model.losses[2] * w_systemControl\n",
    "      #loss_value = loss_value + epoch * 0. * pinnloss # DO WE NEED THIS NOW???\n",
    "    \n",
    "      \n",
    "\n",
    "      for i in range(innerIterations):\n",
    "        # subsample time\n",
    "        sampleResidualPoints = np.random.uniform(x_initial, x_final, size=batchSize) \n",
    "        sampleResidualTimes  = np.random.uniform(t_initial, t_final, size=batchSize) \n",
    "        sampleResidualPoints = sampleResidualPoints.astype('float32')\n",
    "        sampleResidualTimes  = sampleResidualTimes.astype('float32')\n",
    "        out = model(tf.reshape(tf.constant(sampleResidualTimes), (-1,1)),\n",
    "                  tf.reshape(tf.constant(sampleResidualPoints), (-1,1)))\n",
    "        # Add extra losses created during this forward pass:\n",
    "        #pinnloss  += sum(model.losses) # Need to do weighted sum\n",
    "        pinnloss += model.losses[0] * w_pdeLoss\\\n",
    "                  + model.losses[1] * w_systemPushback\\\n",
    "                  + model.losses[2] * w_systemControl\n",
    "      \n",
    "      loss_value = ((pinnloss / innerIterations) / batchSize) + loss_value\n",
    "\n",
    "    #### Apply gradient based on labeled data\n",
    "    grads = tape1.gradient(loss_value, model.trainable_weights)\n",
    "    optimizer.apply_gradients(zip(grads, model.trainable_weights))\n",
    "    print(\n",
    "      f'Epoch {epoch + 1}, '\n",
    "      f'Step {step}, '\n",
    "      f'Total Loss: {loss_value}, '\n",
    "      f'PINN Loss: {pinnloss}')"
   ]
  },
  {
   "cell_type": "code",
   "execution_count": 13,
   "metadata": {
    "colab": {
     "base_uri": "https://localhost:8080/",
     "height": 686
    },
    "executionInfo": {
     "elapsed": 2858,
     "status": "ok",
     "timestamp": 1635887505796,
     "user": {
      "displayName": "Jostein Barry-Straume",
      "photoUrl": "https://lh3.googleusercontent.com/a/default-user=s64",
      "userId": "14559924148079490780"
     },
     "user_tz": 240
    },
    "id": "Jit2yRwgngSI",
    "outputId": "62c078ea-00f4-45f0-94fc-e814f393e00a",
    "scrolled": false
   },
   "outputs": [
    {
     "data": {
      "text/plain": "<Figure size 720x720 with 5 Axes>",
      "image/png": "[encoded data removed]"
     },
     "metadata": {
      "needs_background": "light"
     },
     "output_type": "display_data"
    }
   ],
   "source": [
    "x_plot = np.linspace(0,1,100)\n",
    "x_plot = x_plot.astype('float32')\n",
    "timespan = 0.0\n",
    "timespans = [0.0, 0.25, 0.5, 0.75, 1.0]\n",
    "\n",
    "fig, axs = plt.subplots(5, sharex=True, sharey=True, figsize=(10,10))\n",
    "fig.suptitle('Heat Equation: Validation Approach', size=16)\n",
    "fig.text(0.5, 0.08, 'Space (x)', ha='center',va='center', size=16)\n",
    "fig.text(0.08, 0.5, 'Output Value', ha='center',va='center', rotation='vertical', size=16)\n",
    "for i in range(len(timespans)):\n",
    "  axs[i].grid(alpha=.4, linestyle='--')\n",
    "  axs[i].plot(x_plot, y_ref(timespans[i], x_plot), label='y_ref')\n",
    "  axs[i].plot(x_plot, u_ref(timespans[i], x_plot), label='u_ref')\n",
    "  pred = model(tf.reshape(tf.constant(np.repeat(timespans[i], 100)),(-1,1)),\n",
    "            tf.reshape(tf.constant(x_plot), (-1,1)))\n",
    "  axs[i].plot(x_plot, pred[:,0], label='y')\n",
    "  axs[i].plot(x_plot, pred[:,2], label='u')\n",
    "  #axs[i].plot(x_plot, pred[:,1], label='l')\n",
    "  axs[i].set_title(f'timespan: {timespans[i]}',fontsize=12)\n",
    "\n",
    "plt.legend(loc=(1.01, 2))\n",
    "plt.savefig('ControlPINN_HeatEq_GridPlot.png')\n"
   ]
  },
  {
   "cell_type": "code",
   "execution_count": 14,
   "metadata": {
    "executionInfo": {
     "elapsed": 287,
     "status": "ok",
     "timestamp": 1635887518242,
     "user": {
      "displayName": "Jostein Barry-Straume",
      "photoUrl": "https://lh3.googleusercontent.com/a/default-user=s64",
      "userId": "14559924148079490780"
     },
     "user_tz": 240
    },
    "id": "BG_mqiWzdmdv",
    "scrolled": true
   },
   "outputs": [
    {
     "name": "stderr",
     "output_type": "stream",
     "text": [
      "'cp' is not recognized as an internal or external command,\n",
      "operable program or batch file.\n"
     ]
    }
   ],
   "source": [
    "!cp ControlPINN_HeatEq_GridPlot.png '/content/drive/My Drive/ControlPINN_HeatEq_GridPlot.png'\n"
   ]
  },
  {
   "cell_type": "code",
   "execution_count": 20,
   "outputs": [],
   "source": [
    "'''\n",
    "Offline data generation of control u.\n",
    "The model predicts on the whole space (x)\n",
    "for each time step.\n",
    "\n",
    "Shape of dataset generated:\n",
    "    t x    u\n",
    "0   0 0    0.123\n",
    "1   0 0.01 0.123\n",
    "'''\n",
    "def get_u_data(timespan, spacespan):\n",
    "  timespan = timespan.astype('float32')\n",
    "  spacespan = spacespan.astype('float32')\n",
    "  dataset = []\n",
    "  for time in timespan:\n",
    "    t = np.repeat(time, len(spacespan))\n",
    "    t_np = t.astype('float32')            # NumPy arrays to write to csv\n",
    "    t = tf.reshape(tf.constant(t_np), (-1,1))\n",
    "    x_np = spacespan.astype('float32')    # NumPy arrays to write to csv\n",
    "    x = tf.reshape(tf.constant(x_np),(-1,1))\n",
    "\n",
    "    out = model(t, x)\n",
    "    u = out[:,2] # output = [y, l, u]\n",
    "    mat = np.array([t_np, x_np, u]).T\n",
    "    dataset.append(mat)\n",
    "\n",
    "  dataset = np.array(dataset)\n",
    "  dataset = np.reshape(dataset, (len(timespan)*len(spacespan), 3))\n",
    "  return np.asarray(dataset) # Return dataset as NumPy array\n"
   ],
   "metadata": {
    "collapsed": false,
    "pycharm": {
     "name": "#%%\n"
    }
   }
  },
  {
   "cell_type": "code",
   "execution_count": 21,
   "outputs": [],
   "source": [
    "t = np.linspace(0,1,100)#np.random.uniform(0.0, 1.0, 100)\n",
    "x = np.linspace(0,1,100)#np.random.uniform(0.0, 1.0, 100)\n",
    "dataset = get_u_data(t, x)\n",
    "df = pd.DataFrame(dataset, columns=['t', 'x', 'u'])\n",
    "df.to_csv('u_data.csv')"
   ],
   "metadata": {
    "collapsed": false,
    "pycharm": {
     "name": "#%%\n"
    }
   }
  },
  {
   "cell_type": "code",
   "execution_count": 22,
   "outputs": [
    {
     "name": "stdout",
     "output_type": "stream",
     "text": [
      "        t         x         u\n",
      "0     0.0  0.000000 -0.278104\n",
      "1     0.0  0.010101 -0.280100\n",
      "2     0.0  0.020202 -0.282006\n",
      "3     0.0  0.030303 -0.283830\n",
      "4     0.0  0.040404 -0.285578\n",
      "...   ...       ...       ...\n",
      "9995  1.0  0.959596 -0.331951\n",
      "9996  1.0  0.969697 -0.332171\n",
      "9997  1.0  0.979798 -0.332391\n",
      "9998  1.0  0.989899 -0.332613\n",
      "9999  1.0  1.000000 -0.332834\n",
      "\n",
      "[10000 rows x 3 columns]\n"
     ]
    }
   ],
   "source": [
    "print(df)"
   ],
   "metadata": {
    "collapsed": false,
    "pycharm": {
     "name": "#%%\n"
    }
   }
  },
  {
   "cell_type": "code",
   "execution_count": 15,
   "metadata": {
    "collapsed": true,
    "executionInfo": {
     "elapsed": 2,
     "status": "aborted",
     "timestamp": 1635885949716,
     "user": {
      "displayName": "Jostein Barry-Straume",
      "photoUrl": "https://lh3.googleusercontent.com/a/default-user=s64",
      "userId": "14559924148079490780"
     },
     "user_tz": 240
    },
    "id": "uVQ7_3GdUuzI",
    "scrolled": true
   },
   "outputs": [
    {
     "data": {
      "text/plain": "<Figure size 432x288 with 1 Axes>",
      "image/png": "[encoded data removed]"
     },
     "metadata": {
      "needs_background": "light"
     },
     "output_type": "display_data"
    }
   ],
   "source": [
    "x_plot = np.linspace(0,1,100)\n",
    "x_plot = x_plot.astype('float32')\n",
    "\n",
    "timespan = 0.0\n",
    "\n",
    "plt.plot(x_plot, y_ref(timespan, x_plot), label='y_ref')\n",
    "plt.plot(x_plot, u_ref(timespan, x_plot), label='u_ref')\n",
    "#plt.plot(timespan, lambda_star, label='lambda_star')\n",
    "plt.title('Heat Equation: Validation Approach\\nConnected Output Architecture')\n",
    "plt.xlabel('X')\n",
    "plt.ylabel('Outputs')\n",
    "plt.grid(alpha=.4, linestyle='--')\n",
    "pred = model(tf.reshape(tf.constant(np.repeat(timespan, 100)),(-1,1)),\n",
    "          tf.reshape(tf.constant(x_plot), (-1,1)))\n",
    "plt.plot(x_plot, pred[:,0], label='y')\n",
    "plt.plot(x_plot, pred[:,1], label='l')\n",
    "plt.plot(x_plot, pred[:,2], label='u')\n",
    "plt.legend(loc='lower left')\n",
    "#plt.text(5, 10, timespan)\n",
    "#plt.show()\n",
    "plt.savefig('ControlPINN_HeatEq_ConnectedOutput_200Epochs.png')"
   ]
  },
  {
   "cell_type": "code",
   "execution_count": 16,
   "metadata": {
    "colab": {
     "base_uri": "https://localhost:8080/",
     "height": 310
    },
    "collapsed": true,
    "executionInfo": {
     "elapsed": 839,
     "status": "ok",
     "timestamp": 1635884639094,
     "user": {
      "displayName": "Jostein Barry-Straume",
      "photoUrl": "https://lh3.googleusercontent.com/a/default-user=s64",
      "userId": "14559924148079490780"
     },
     "user_tz": 240
    },
    "id": "EeKrBVy2pJVN",
    "outputId": "fc92aa61-20af-4466-a8d9-a40dcb4c6ec2",
    "scrolled": true
   },
   "outputs": [
    {
     "data": {
      "text/plain": "<Figure size 432x288 with 1 Axes>",
      "image/png": "[encoded data removed]"
     },
     "metadata": {
      "needs_background": "light"
     },
     "output_type": "display_data"
    }
   ],
   "source": [
    "x_plot = np.linspace(0,1,100)\n",
    "x_plot = x_plot.astype('float32')\n",
    "\n",
    "timespan = 0.5\n",
    "\n",
    "plt.plot(x_plot, y_ref(timespan, x_plot), label='y_ref')\n",
    "plt.plot(x_plot, u_ref(timespan, x_plot), label='u_ref')\n",
    "#plt.plot(timespan, lambda_star, label='lambda_star')\n",
    "plt.title('Heat Equation: Validation Approach\\nConnected Output Architecture')\n",
    "plt.xlabel('X')\n",
    "plt.ylabel('Outputs')\n",
    "plt.grid(alpha=.4, linestyle='--')\n",
    "pred = model(tf.reshape(tf.constant(np.repeat(timespan, 100)),(-1,1)),\n",
    "          tf.reshape(tf.constant(x_plot), (-1,1)))\n",
    "plt.plot(x_plot, pred[:,0], label='y')\n",
    "plt.plot(x_plot, pred[:,1], label='l')\n",
    "plt.plot(x_plot, pred[:,2], label='u')\n",
    "plt.legend(loc='lower left')\n",
    "#plt.text(5, 10, timespan)\n",
    "#plt.show()\n",
    "plt.savefig('ControlPINN_HeatEq_ConnectedOutput_200Epochs.png')"
   ]
  },
  {
   "cell_type": "code",
   "execution_count": 17,
   "metadata": {
    "colab": {
     "base_uri": "https://localhost:8080/",
     "height": 310
    },
    "collapsed": true,
    "executionInfo": {
     "elapsed": 779,
     "status": "ok",
     "timestamp": 1635884643874,
     "user": {
      "displayName": "Jostein Barry-Straume",
      "photoUrl": "https://lh3.googleusercontent.com/a/default-user=s64",
      "userId": "14559924148079490780"
     },
     "user_tz": 240
    },
    "id": "_ODEV9K5pKpO",
    "outputId": "ac0595da-d269-4bde-9be1-5ba0c0d298b4",
    "scrolled": true
   },
   "outputs": [
    {
     "data": {
      "text/plain": "<Figure size 432x288 with 1 Axes>",
      "image/png": "[encoded data removed]"
     },
     "metadata": {
      "needs_background": "light"
     },
     "output_type": "display_data"
    }
   ],
   "source": [
    "x_plot = np.linspace(0,1,100)\n",
    "x_plot = x_plot.astype('float32')\n",
    "\n",
    "timespan = 1.0\n",
    "\n",
    "plt.plot(x_plot, y_ref(timespan, x_plot), label='y_ref')\n",
    "plt.plot(x_plot, u_ref(timespan, x_plot), label='u_ref')\n",
    "#plt.plot(timespan, lambda_star, label='lambda_star')\n",
    "plt.title('Heat Equation: Validation Approach\\nConnected Output Architecture')\n",
    "plt.xlabel('X')\n",
    "plt.ylabel('Outputs')\n",
    "plt.grid(alpha=.4, linestyle='--')\n",
    "pred = model(tf.reshape(tf.constant(np.repeat(timespan, 100)),(-1,1)),\n",
    "          tf.reshape(tf.constant(x_plot), (-1,1)))\n",
    "plt.plot(x_plot, pred[:,0], label='y')\n",
    "plt.plot(x_plot, pred[:,1], label='l')\n",
    "plt.plot(x_plot, pred[:,2], label='u')\n",
    "plt.legend(loc='lower left')\n",
    "#plt.text(5, 10, timespan)\n",
    "#plt.show()\n",
    "plt.savefig('ControlPINN_HeatEq_ConnectedOutput_200Epochs.png')"
   ]
  },
  {
   "cell_type": "code",
   "execution_count": 18,
   "metadata": {
    "collapsed": true,
    "id": "4_h02O8LxUqX",
    "scrolled": true
   },
   "outputs": [
    {
     "name": "stderr",
     "output_type": "stream",
     "text": [
      "'cp' is not recognized as an internal or external command,\n",
      "operable program or batch file.\n"
     ]
    }
   ],
   "source": [
    "!cp ControlPINN_HeatEq_ConnectedOutput_200Epochs.png '/content/drive/My Drive/ControlPINN_HeatEq_ConnectedOutput_200Epochs.png'"
   ]
  },
  {
   "cell_type": "code",
   "execution_count": 18,
   "metadata": {
    "collapsed": true,
    "id": "oAaA3J_DlQ9y",
    "scrolled": true
   },
   "outputs": [],
   "source": []
  },
  {
   "cell_type": "markdown",
   "metadata": {
    "id": "50OFB8ee74sL"
   },
   "source": [
    "# Scratch pad"
   ]
  },
  {
   "cell_type": "code",
   "execution_count": 19,
   "metadata": {
    "collapsed": true,
    "id": "jKueucz-7502",
    "scrolled": true
   },
   "outputs": [
    {
     "name": "stdout",
     "output_type": "stream",
     "text": [
      "Epoch 1, Step 0, Loss at Final Time: 0.0005192018579691648, Loss at Initial Time: 0.0026760855689644814\n",
      "Epoch 1, Step 1, Loss at Final Time: 0.3491702079772949, Loss at Initial Time: 0.28049570322036743\n",
      "Epoch 1, Step 2, Loss at Final Time: 0.09227782487869263, Loss at Initial Time: 0.13420194387435913\n",
      "Epoch 1, Step 3, Loss at Final Time: 0.037286289036273956, Loss at Initial Time: 0.01840229146182537\n",
      "Epoch 1, Step 4, Loss at Final Time: 0.05339076370000839, Loss at Initial Time: 0.06531944870948792\n",
      "Epoch 1, Step 5, Loss at Final Time: 0.08001163601875305, Loss at Initial Time: 0.06822697818279266\n",
      "Epoch 1, Step 6, Loss at Final Time: 0.11369192600250244, Loss at Initial Time: 0.07913762331008911\n",
      "Epoch 1, Step 7, Loss at Final Time: 0.03105452097952366, Loss at Initial Time: 0.011554836295545101\n",
      "Epoch 1, Step 8, Loss at Final Time: 0.20842479169368744, Loss at Initial Time: 0.15370796620845795\n",
      "Epoch 1, Step 9, Loss at Final Time: 0.3997592329978943, Loss at Initial Time: 0.327582985162735\n",
      "Epoch 1, Step 10, Loss at Final Time: 0.7768915891647339, Loss at Initial Time: 0.66634601354599\n",
      "Epoch 1, Step 11, Loss at Final Time: 0.1529543399810791, Loss at Initial Time: 0.11137988418340683\n",
      "Epoch 1, Step 12, Loss at Final Time: 0.030571768060326576, Loss at Initial Time: 0.014591006562113762\n",
      "Epoch 1, Step 13, Loss at Final Time: 0.01892818510532379, Loss at Initial Time: 0.007195332087576389\n",
      "Epoch 1, Step 14, Loss at Final Time: 0.004688485525548458, Loss at Initial Time: 0.01323787309229374\n",
      "Epoch 1, Step 15, Loss at Final Time: 0.07883308082818985, Loss at Initial Time: 0.11515230685472488\n",
      "Epoch 1, Step 16, Loss at Final Time: 0.186798095703125, Loss at Initial Time: 0.24244600534439087\n",
      "Epoch 1, Step 17, Loss at Final Time: 0.2793484926223755, Loss at Initial Time: 0.3492532968521118\n",
      "Epoch 1, Step 18, Loss at Final Time: 0.3317088484764099, Loss at Initial Time: 0.4066755771636963\n",
      "Epoch 1, Step 19, Loss at Final Time: 0.3078638017177582, Loss at Initial Time: 0.37507402896881104\n",
      "Epoch 1, Step 20, Loss at Final Time: 0.24316397309303284, Loss at Initial Time: 0.31456100940704346\n",
      "Epoch 1, Step 21, Loss at Final Time: 0.18055975437164307, Loss at Initial Time: 0.23917122185230255\n",
      "Epoch 1, Step 22, Loss at Final Time: 0.12372703105211258, Loss at Initial Time: 0.17119203507900238\n",
      "Epoch 1, Step 23, Loss at Final Time: 0.08427087962627411, Loss at Initial Time: 0.12170012295246124\n",
      "Epoch 1, Step 24, Loss at Final Time: 0.063951276242733, Loss at Initial Time: 0.10180285573005676\n",
      "Epoch 1, Step 25, Loss at Final Time: 0.04810282588005066, Loss at Initial Time: 0.07850226014852524\n",
      "Epoch 1, Step 26, Loss at Final Time: 0.023210007697343826, Loss at Initial Time: 0.04058389365673065\n",
      "Epoch 1, Step 27, Loss at Final Time: 0.0053735594265162945, Loss at Initial Time: 0.009931054897606373\n",
      "Epoch 1, Step 28, Loss at Final Time: 0.010755825787782669, Loss at Initial Time: 0.004240944050252438\n",
      "Epoch 1, Step 29, Loss at Final Time: 0.019009392708539963, Loss at Initial Time: 0.006918683648109436\n",
      "Epoch 1, Step 30, Loss at Final Time: 0.03730611130595207, Loss at Initial Time: 0.017365239560604095\n",
      "Epoch 1, Step 31, Loss at Final Time: 0.08106257021427155, Loss at Initial Time: 0.049082741141319275\n",
      "Epoch 1, Step 32, Loss at Final Time: 0.14484888315200806, Loss at Initial Time: 0.1017666757106781\n",
      "Epoch 1, Step 33, Loss at Final Time: 0.2273211032152176, Loss at Initial Time: 0.17209061980247498\n",
      "Epoch 1, Step 34, Loss at Final Time: 0.24474531412124634, Loss at Initial Time: 0.18331676721572876\n",
      "Epoch 1, Step 35, Loss at Final Time: 0.29116329550743103, Loss at Initial Time: 0.23162126541137695\n",
      "Epoch 1, Step 36, Loss at Final Time: 0.3337707817554474, Loss at Initial Time: 0.27325767278671265\n",
      "Epoch 1, Step 37, Loss at Final Time: 0.44206002354621887, Loss at Initial Time: 0.3698517084121704\n",
      "Epoch 1, Step 38, Loss at Final Time: 0.45622605085372925, Loss at Initial Time: 0.3770516812801361\n",
      "Epoch 1, Step 39, Loss at Final Time: 0.488133043050766, Loss at Initial Time: 0.4023105204105377\n",
      "Epoch 1, Step 40, Loss at Final Time: 0.4782559275627136, Loss at Initial Time: 0.3926999568939209\n",
      "Epoch 1, Step 41, Loss at Final Time: 0.47455015778541565, Loss at Initial Time: 0.3887573480606079\n",
      "Epoch 1, Step 42, Loss at Final Time: 0.5237352848052979, Loss at Initial Time: 0.4271513819694519\n",
      "Epoch 1, Step 43, Loss at Final Time: 0.5587568283081055, Loss at Initial Time: 0.4680098593235016\n",
      "Epoch 1, Step 44, Loss at Final Time: 0.5231170654296875, Loss at Initial Time: 0.43529319763183594\n",
      "Epoch 1, Step 45, Loss at Final Time: 0.48807793855667114, Loss at Initial Time: 0.41036099195480347\n",
      "Epoch 1, Step 46, Loss at Final Time: 0.4995090365409851, Loss at Initial Time: 0.4065914750099182\n",
      "Epoch 1, Step 47, Loss at Final Time: 0.5425229668617249, Loss at Initial Time: 0.447050005197525\n",
      "Epoch 1, Step 48, Loss at Final Time: 0.4992208480834961, Loss at Initial Time: 0.4148385226726532\n",
      "Epoch 1, Step 49, Loss at Final Time: 0.4898430407047272, Loss at Initial Time: 0.4048592448234558\n",
      "Epoch 1, Step 50, Loss at Final Time: 0.5081894397735596, Loss at Initial Time: 0.4176844358444214\n",
      "Epoch 1, Step 51, Loss at Final Time: 0.5062308311462402, Loss at Initial Time: 0.42633306980133057\n",
      "Epoch 1, Step 52, Loss at Final Time: 0.5220814347267151, Loss at Initial Time: 0.43095308542251587\n",
      "Epoch 1, Step 53, Loss at Final Time: 0.514782190322876, Loss at Initial Time: 0.4260331094264984\n",
      "Epoch 1, Step 54, Loss at Final Time: 0.503521203994751, Loss at Initial Time: 0.41431117057800293\n",
      "Epoch 1, Step 55, Loss at Final Time: 0.47568458318710327, Loss at Initial Time: 0.3967358469963074\n",
      "Epoch 1, Step 56, Loss at Final Time: 0.5122060775756836, Loss at Initial Time: 0.4307115077972412\n",
      "Epoch 1, Step 57, Loss at Final Time: 0.5095705389976501, Loss at Initial Time: 0.4324161112308502\n",
      "Epoch 1, Step 58, Loss at Final Time: 0.5506348609924316, Loss at Initial Time: 0.4703065752983093\n",
      "Epoch 1, Step 59, Loss at Final Time: 0.5048278570175171, Loss at Initial Time: 0.41533514857292175\n",
      "Epoch 1, Step 60, Loss at Final Time: 0.5196058750152588, Loss at Initial Time: 0.43516305088996887\n",
      "Epoch 1, Step 61, Loss at Final Time: 0.560004711151123, Loss at Initial Time: 0.4650861322879791\n",
      "Epoch 1, Step 62, Loss at Final Time: 0.5555487871170044, Loss at Initial Time: 0.46591031551361084\n",
      "Epoch 1, Step 63, Loss at Final Time: 0.5711180567741394, Loss at Initial Time: 0.4817941188812256\n",
      "Epoch 1, Step 64, Loss at Final Time: 0.5998502969741821, Loss at Initial Time: 0.5054187178611755\n",
      "Epoch 1, Step 65, Loss at Final Time: 0.6015748977661133, Loss at Initial Time: 0.5145021677017212\n",
      "Epoch 1, Step 66, Loss at Final Time: 0.5767089128494263, Loss at Initial Time: 0.4821662902832031\n",
      "Epoch 1, Step 67, Loss at Final Time: 0.6360252499580383, Loss at Initial Time: 0.5431455373764038\n",
      "Epoch 1, Step 68, Loss at Final Time: 0.591964066028595, Loss at Initial Time: 0.49966830015182495\n",
      "Epoch 1, Step 69, Loss at Final Time: 0.5807086229324341, Loss at Initial Time: 0.4860385060310364\n",
      "Epoch 1, Step 70, Loss at Final Time: 0.6158174276351929, Loss at Initial Time: 0.5265951156616211\n",
      "Epoch 1, Step 71, Loss at Final Time: 0.5905916094779968, Loss at Initial Time: 0.4977903366088867\n",
      "Epoch 1, Step 72, Loss at Final Time: 0.5934502482414246, Loss at Initial Time: 0.5038775205612183\n",
      "Epoch 1, Step 73, Loss at Final Time: 0.5827947854995728, Loss at Initial Time: 0.48416227102279663\n",
      "Epoch 1, Step 74, Loss at Final Time: 0.5618681311607361, Loss at Initial Time: 0.4757617115974426\n",
      "Epoch 1, Step 75, Loss at Final Time: 0.5211585760116577, Loss at Initial Time: 0.43480947613716125\n",
      "Epoch 1, Step 76, Loss at Final Time: 0.541852593421936, Loss at Initial Time: 0.44668084383010864\n",
      "Epoch 1, Step 77, Loss at Final Time: 0.5217559337615967, Loss at Initial Time: 0.4353061020374298\n",
      "Epoch 1, Step 78, Loss at Final Time: 0.5506463050842285, Loss at Initial Time: 0.4632052779197693\n",
      "Epoch 1, Step 79, Loss at Final Time: 0.49557989835739136, Loss at Initial Time: 0.4172545075416565\n",
      "Epoch 1, Step 80, Loss at Final Time: 0.504409670829773, Loss at Initial Time: 0.4159044027328491\n",
      "Epoch 1, Step 81, Loss at Final Time: 0.49463438987731934, Loss at Initial Time: 0.41376709938049316\n",
      "Epoch 1, Step 82, Loss at Final Time: 0.4611564874649048, Loss at Initial Time: 0.38122493028640747\n",
      "Epoch 1, Step 83, Loss at Final Time: 0.44060829281806946, Loss at Initial Time: 0.360168993473053\n",
      "Epoch 1, Step 84, Loss at Final Time: 0.434251606464386, Loss at Initial Time: 0.3495127856731415\n",
      "Epoch 1, Step 85, Loss at Final Time: 0.41184866428375244, Loss at Initial Time: 0.3363320827484131\n",
      "Epoch 1, Step 86, Loss at Final Time: 0.43971699476242065, Loss at Initial Time: 0.35916751623153687\n",
      "Epoch 1, Step 87, Loss at Final Time: 0.44659340381622314, Loss at Initial Time: 0.3619327247142792\n",
      "Epoch 1, Step 88, Loss at Final Time: 0.40148600935935974, Loss at Initial Time: 0.319923996925354\n",
      "Epoch 1, Step 89, Loss at Final Time: 0.4271133840084076, Loss at Initial Time: 0.33815866708755493\n",
      "Epoch 1, Step 90, Loss at Final Time: 0.38564157485961914, Loss at Initial Time: 0.311384379863739\n",
      "Epoch 1, Step 91, Loss at Final Time: 0.3977460563182831, Loss at Initial Time: 0.3187151551246643\n",
      "Epoch 1, Step 92, Loss at Final Time: 0.40248334407806396, Loss at Initial Time: 0.32629236578941345\n",
      "Epoch 1, Step 93, Loss at Final Time: 0.3875144124031067, Loss at Initial Time: 0.31046947836875916\n",
      "Epoch 1, Step 94, Loss at Final Time: 0.3775159418582916, Loss at Initial Time: 0.30753958225250244\n",
      "Epoch 1, Step 95, Loss at Final Time: 0.364603191614151, Loss at Initial Time: 0.29103153944015503\n",
      "Epoch 1, Step 96, Loss at Final Time: 0.3751012682914734, Loss at Initial Time: 0.3040761351585388\n",
      "Epoch 1, Step 97, Loss at Final Time: 0.36875930428504944, Loss at Initial Time: 0.2965243458747864\n",
      "Epoch 1, Step 98, Loss at Final Time: 0.3458883762359619, Loss at Initial Time: 0.2798629403114319\n",
      "Epoch 1, Step 99, Loss at Final Time: 0.3372090756893158, Loss at Initial Time: 0.27203160524368286\n"
     ]
    }
   ],
   "source": [
    "# Instantiate an optimizer.\n",
    "optimizer = tf.keras.optimizers.Adam(learning_rate=1e-2) # TODO: Change to adaptive and smaller step size\n",
    "loss_fn = tf.keras.losses.MSE\n",
    "#loss_fn = dummy_loss\n",
    "epochs              = 1\n",
    "model.debug         = 1\n",
    "innerIterations     = 1\n",
    "t_initial = 0.0\n",
    "t_final = 1.0\n",
    "x_initial = 0.0\n",
    "x_final = 1.0\n",
    "y0 = 1.0\n",
    "num_x_points = 64\n",
    "batchSize = 64\n",
    "w_pdeLoss = 1\n",
    "w_systemPushback = 1e4\n",
    "w_systemControl = 1e4\n",
    "\n",
    "for epoch in range(epochs):\n",
    "  # Iterate over the batches of a dataset.\n",
    "  steps = 100\n",
    "  for step in range(steps):\n",
    "    x_batch_train = np.random.uniform(x_initial, x_final, num_x_points) / 1.0\n",
    "    x_batch_train = x_batch_train.astype('float32')\n",
    "    y_final_time_train = y_ref(1.0, x_batch_train)\n",
    "    y_initial_time_train = y_ref(0.0, x_batch_train)\n",
    "    with tf.GradientTape() as tape1, tf.GradientTape() as tape2:\n",
    "      # Final Time\n",
    "      out = model(tf.reshape(tf.constant(np.repeat(t_final, num_x_points)), (-1,1)),\n",
    "                  tf.reshape(tf.constant(x_batch_train), (-1,1)))\n",
    "      loss_value_at_final_time = tf.reduce_sum(loss_fn(y_final_time_train,\n",
    "                                                       out[:,0]))\n",
    "      \n",
    "      # Initial Time\n",
    "      out = model(tf.reshape(tf.constant(np.repeat(t_final, num_x_points)),(-1,1)),\n",
    "                  tf.reshape(x_batch_train,(-1,1)))\n",
    "      loss_value_at_initial_time = tf.reduce_sum(loss_fn(y_initial_time_train,\n",
    "                                                         out[:,0]))\n",
    "      \n",
    "      #print(f'Loss at Final Time: {loss_value_at_final_time}\\n'\n",
    "      #      f'Loss at Initial Time: {loss_value_at_initial_time}')\n",
    "      #break\n",
    "      \n",
    "      loss_value = loss_value_at_final_time + loss_value_at_initial_time\n",
    "      # Add extra losses created during this forward pass:\n",
    "      pinnloss  = sum(model.losses)\n",
    "      #loss_value = loss_value + epoch * 0. * pinnloss # DO WE NEED THIS NOW???\n",
    "\n",
    "      for i in range(innerIterations):\n",
    "        # subsample time\n",
    "        sampleResidualPoints = np.random.uniform(0, 1, size=batchSize) / 1.0\n",
    "        sampleResidualTimes  = np.random.uniform(0, 1, size=batchSize) / 1.0\n",
    "        sampleResidualPoints = sampleResidualPoints.astype('float32')\n",
    "        sampleResidualTimes  = sampleResidualTimes.astype('float32')\n",
    "        out = model(tf.reshape(tf.constant(sampleResidualTimes), (-1,1)),\n",
    "                  tf.reshape(tf.constant(sampleResidualPoints), (-1,1)))\n",
    "        # Add extra losses created during this forward pass:\n",
    "        #pinnloss  += sum(model.losses) # Need to do weighted sum\n",
    "        pinnloss += model.losses[0] * w_pdeLoss\\\n",
    "                  + model.losses[1] * w_systemPushback\\\n",
    "                  + model.losses[2] * w_systemControl\n",
    "      \n",
    "      loss_value = ((pinnloss / innerIterations) / batchSize) + loss_value\n",
    "\n",
    "    #### Apply gradient based on labeled data\n",
    "    grads = tape1.gradient(loss_value, model.trainable_weights)\n",
    "    optimizer.apply_gradients(zip(grads, model.trainable_weights))\n",
    "    print(\n",
    "      f'Epoch {epoch + 1}, '\n",
    "      f'Step {step}, '\n",
    "      f'Loss at Final Time: {loss_value_at_final_time}, '\n",
    "      f'Loss at Initial Time: {loss_value_at_initial_time}')"
   ]
  }
 ],
 "metadata": {
  "colab": {
   "collapsed_sections": [],
   "name": "ControlPINN-heateq-connected-output.ipynb",
   "provenance": [
    {
     "file_id": "1tOOxhc43Y9G3cCgGaYCfgkBc72Ir-M9l",
     "timestamp": 1635288466408
    },
    {
     "file_id": "1QUzPlMc4lHRqXlKHoQxpdzxqaGM4exsc",
     "timestamp": 1634754534076
    },
    {
     "file_id": "1Yw-Z6AhdyblQdUXY3sfyBz7uv45RyDEi",
     "timestamp": 1632943653242
    },
    {
     "file_id": "12RChRsVfjk5HXuTCLiSsS-a1BdoxVjuj",
     "timestamp": 1632873852563
    },
    {
     "file_id": "1m2H0JVqjFKZuYsjPtfaKTEkAJYqtLw16",
     "timestamp": 1632507581652
    },
    {
     "file_id": "1NottNliaeqC-_UqE8opCygtjWG9U5Qzr",
     "timestamp": 1632441509666
    },
    {
     "file_id": "1hRgy0IxA8z6cILFfMQgHgbk13g2eZD5h",
     "timestamp": 1631910477426
    }
   ]
  },
  "kernelspec": {
   "display_name": "Python 3 (ipykernel)",
   "language": "python",
   "name": "python3"
  },
  "language_info": {
   "codemirror_mode": {
    "name": "ipython",
    "version": 3
   },
   "file_extension": ".py",
   "mimetype": "text/x-python",
   "name": "python",
   "nbconvert_exporter": "python",
   "pygments_lexer": "ipython3",
   "version": "3.7.3"
  }
 },
 "nbformat": 4,
 "nbformat_minor": 1
}